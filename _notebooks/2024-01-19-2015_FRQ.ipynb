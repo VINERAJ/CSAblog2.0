{
 "cells": [
  {
   "cell_type": "markdown",
   "metadata": {},
   "source": []
  },
  {
   "cell_type": "code",
   "execution_count": 32,
   "metadata": {
    "vscode": {
     "languageId": "java"
    }
   },
   "outputs": [
    {
     "name": "stdout",
     "output_type": "stream",
     "text": [
      "15\n",
      "6 15 6 false\n"
     ]
    }
   ],
   "source": [
    "public static int arraySum(int[] array) {\n",
    "    int sum = 0;\n",
    "    for (int i=0; i<array.length; i++){\n",
    "        sum+=array[i];\n",
    "    }\n",
    "    return sum;\n",
    "}\n",
    "\n",
    "public static int[] rowSums(int[][] arr2D){\n",
    "    int[] sum = new int[arr2D[0].length];\n",
    "    for (int i=0; i<arr2D.length; i++) {\n",
    "        int rowSum = arraySum(arr2D[i]);\n",
    "        sum[i] = rowSum;\n",
    "    }\n",
    "    return sum;\n",
    "}\n",
    "\n",
    "public static boolean isDiverse(int[][] arr2D) {\n",
    "    int[] newArray = rowSums(arr2D);\n",
    "    boolean diverse = true;\n",
    "    for (int i=0; i<newArray.length; i++) {\n",
    "        for (int j=0; j<newArray.length; j++) {\n",
    "            if(i!=j && newArray[i]==newArray[j]) {\n",
    "                diverse = false;\n",
    "            }\n",
    "        }\n",
    "    }\n",
    "    return diverse;\n",
    "}\n",
    "\n",
    "int[] array = {1,2,3,4,5};\n",
    "System.out.println(arraySum(array));\n",
    "int[][] Array1 = {\n",
    "    {1, 2, 3},\n",
    "    {4, 5, 6},\n",
    "    {1, 2, 3}\n",
    "};\n",
    "int [] rowsums = rowSums(Array1);\n",
    "for (int i=0; i<rowsums.length; i++) {\n",
    "    System.out.print(rowsums[i]+\" \");\n",
    "}\n",
    "System.out.println(isDiverse(Array1));"
   ]
  }
 ],
 "metadata": {
  "kernelspec": {
   "display_name": "Java",
   "language": "java",
   "name": "java"
  },
  "language_info": {
   "codemirror_mode": "java",
   "file_extension": ".jshell",
   "mimetype": "text/x-java-source",
   "name": "Java",
   "pygments_lexer": "java",
   "version": "21.0.2+13-LTS"
  }
 },
 "nbformat": 4,
 "nbformat_minor": 2
}
