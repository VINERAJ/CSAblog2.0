{
 "cells": [
  {
   "cell_type": "markdown",
   "metadata": {},
   "source": []
  },
  {
   "cell_type": "code",
   "execution_count": 32,
   "metadata": {
    "vscode": {
     "languageId": "java"
    }
   },
   "outputs": [
    {
     "name": "stdout",
     "output_type": "stream",
     "text": [
      "15\n",
      "6 15 6 false\n"
     ]
    }
   ],
   "source": [
    "public static int arraySum(int[] array) {\n",
    "    int sum = 0;\n",
    "    for (int i=0; i<array.length; i++){\n",
    "        sum+=array[i];\n",
    "    }\n",
    "    return sum;\n",
    "}\n",
    "\n",
    "public static int[] rowSums(int[][] arr2D){\n",
    "    int[] sum = new int[arr2D[0].length];\n",
    "    for (int i=0; i<arr2D.length; i++) {\n",
    "        int rowSum = arraySum(arr2D[i]);\n",
    "        sum[i] = rowSum;\n",
    "    }\n",
    "    return sum;\n",
    "}\n",
    "\n",
    "public static boolean isDiverse(int[][] arr2D) {\n",
    "    int[] newArray = rowSums(arr2D);\n",
    "    boolean diverse = true;\n",
    "    for (int i=0; i<newArray.length; i++) {\n",
    "        for (int j=0; j<newArray.length; j++) {\n",
    "            if(i!=j && newArray[i]==newArray[j]) {\n",
    "                diverse = false;\n",
    "            }\n",
    "        }\n",
    "    }\n",
    "    return diverse;\n",
    "}\n",
    "\n",
    "int[] array = {1,2,3,4,5};\n",
    "System.out.println(arraySum(array));\n",
    "int[][] Array1 = {\n",
    "    {1, 2, 3},\n",
    "    {4, 5, 6},\n",
    "    {1, 2, 3}\n",
    "};\n",
    "int [] rowsums = rowSums(Array1);\n",
    "for (int i=0; i<rowsums.length; i++) {\n",
    "    System.out.print(rowsums[i]+\" \");\n",
    "}\n",
    "System.out.println(isDiverse(Array1));"
   ]
  },
  {
   "cell_type": "code",
   "execution_count": 15,
   "metadata": {
    "vscode": {
     "languageId": "java"
    }
   },
   "outputs": [
    {
     "name": "stdout",
     "output_type": "stream",
     "text": [
      "+A+++\n"
     ]
    }
   ],
   "source": [
    "public class HiddenWord {\n",
    "    private static String word = \"\";\n",
    "    HiddenWord(String hidden) {\n",
    "        word = hidden;\n",
    "    }\n",
    "\n",
    "    public static String getHint(String guess) {\n",
    "        String hint = \"\";\n",
    "        for (int i=0; i<word.length(); i++) {\n",
    "            for (int j=0; j<word.length(); j++) {\n",
    "                if (i==j && guess.charAt(i)==word.charAt(j)) {\n",
    "                    hint+=guess.charAt(i);\n",
    "                    break;\n",
    "                } else if (i!=j && guess.charAt(i)==word.charAt(j)) {\n",
    "                    hint+=\"+\";\n",
    "                    break;\n",
    "                } else if (j==word.length()-1) {\n",
    "                    hint+=\"*\";\n",
    "                }\n",
    "            }\n",
    "        }\n",
    "        return hint;\n",
    "    }\n",
    "}\n",
    "\n",
    "HiddenWord puzzle = new HiddenWord(\"HARPS\");\n",
    "System.out.println(puzzle.getHint(\"AAAAAA\"));"
   ]
  },
  {
   "cell_type": "code",
   "execution_count": 71,
   "metadata": {
    "vscode": {
     "languageId": "java"
    }
   },
   "outputs": [
    {
     "data": {
      "text/plain": [
       "1"
      ]
     },
     "execution_count": 71,
     "metadata": {},
     "output_type": "execute_result"
    }
   ],
   "source": [
    "public class SparseArrayEntry {\n",
    "    private int row;\n",
    "    private int col;\n",
    "    private int value;\n",
    "\n",
    "    public SparseArrayEntry(int r, int c, int v) {\n",
    "        row = r;\n",
    "        col = c;\n",
    "        value = v;\n",
    "    }\n",
    "\n",
    "    public int getRow() {\n",
    "        return row;\n",
    "    }\n",
    "\n",
    "    public int getCol() {\n",
    "        return col;\n",
    "    }\n",
    "\n",
    "    public int getValue() {\n",
    "        return value;\n",
    "    }\n",
    "}\n",
    "\n",
    "public class SparseArray {\n",
    "    private int numRows;\n",
    "    private int numCols;\n",
    "    private List<SparseArrayEntry> entries;\n",
    "\n",
    "    public SparseArray() {\n",
    "        entries = new ArrayList<SparseArrayEntry>();\n",
    "    }\n",
    "\n",
    "    public void addSparseValue(int r, int c, int v) {\n",
    "        SparseArrayEntry entry = new SparseArrayEntry(r, c, v);\n",
    "        entries.add(entry);\n",
    "    }\n",
    "\n",
    "    public int getNumRows() {\n",
    "        int rows = 0;\n",
    "        for (SparseArrayEntry ent : entries) {\n",
    "            if (ent.getRow()>rows) {\n",
    "                rows = ent.getRow();\n",
    "            }\n",
    "        }\n",
    "        numRows=rows;\n",
    "        return numRows;\n",
    "    }\n",
    "\n",
    "    public int getNumCols() {\n",
    "        int cols = 0;\n",
    "        for (SparseArrayEntry ent : entries) {\n",
    "            if (ent.getCol()>cols) {\n",
    "                cols = ent.getCol();\n",
    "            }\n",
    "        }\n",
    "        numCols=cols;\n",
    "        return numCols;\n",
    "    }\n",
    "\n",
    "    public int getValueAt(int row, int col) {\n",
    "        for (SparseArrayEntry ent : entries) {\n",
    "            if (ent.getCol()==col && ent.getRow()==row) {\n",
    "                return ent.getValue();\n",
    "            }\n",
    "        }\n",
    "        return 0;\n",
    "    }\n",
    "\n",
    "    public void removeColumn(int col) {\n",
    "        List<SparseArrayEntry> temp = new ArrayList<SparseArrayEntry>();\n",
    "        for (int i=0; i<entries.size(); i++) {\n",
    "            if (entries.get(i).getCol()==col) {\n",
    "                continue;\n",
    "            }\n",
    "            else {\n",
    "                temp.add(entries.get(i));\n",
    "            }\n",
    "        }\n",
    "        entries=temp;\n",
    "    }\n",
    "}\n",
    "\n",
    "SparseArray sparse = new SparseArray();\n",
    "sparse.addSparseValue(1,4,4);\n",
    "sparse.addSparseValue(2,0,1);\n",
    "sparse.addSparseValue(3,1,-9);\n",
    "sparse.addSparseValue(1,1,5);\n",
    "sparse.removeColumn(1);\n",
    "sparse.getValueAt(2,0);"
   ]
  }
 ],
 "metadata": {
  "kernelspec": {
   "display_name": "Java",
   "language": "java",
   "name": "java"
  },
  "language_info": {
   "codemirror_mode": "java",
   "file_extension": ".jshell",
   "mimetype": "text/x-java-source",
   "name": "Java",
   "pygments_lexer": "java",
   "version": "21.0.2+13-LTS"
  }
 },
 "nbformat": 4,
 "nbformat_minor": 2
}
