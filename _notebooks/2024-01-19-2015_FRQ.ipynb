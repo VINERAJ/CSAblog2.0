{
 "cells": [
  {
   "cell_type": "markdown",
   "metadata": {},
   "source": [
    "---\n",
    "toc: True\n",
    "comments: True\n",
    "layout: post\n",
    "title: 2015 CSA FRQ\n",
    "description: Completing each FRQ so it runs, and blogging about relation to final project\n",
    "courses: {'compsci': {'week': 24}}\n",
    "type: tangibles\n",
    "---"
   ]
  },
  {
   "cell_type": "markdown",
   "metadata": {},
   "source": [
    "## FRQ #1\n",
    "FRQ Type: Array/ArrayList\n",
    "How key algorithm links to type: This FRQ has three methods, and they all involve using data from an array. The first method iterates through the array to sum the value of each item in the array. The second method "
   ]
  },
  {
   "cell_type": "code",
   "execution_count": 164,
   "metadata": {
    "vscode": {
     "languageId": "java"
    }
   },
   "outputs": [
    {
     "name": "stdout",
     "output_type": "stream",
     "text": [
      "15\n",
      "6 15 6 \n",
      "false\n"
     ]
    }
   ],
   "source": [
    "public static int arraySum(int[] array) {\n",
    "    int sum = 0;\n",
    "    for (int i=0; i<array.length; i++){\n",
    "        sum+=array[i];\n",
    "    }\n",
    "    return sum;\n",
    "}\n",
    "\n",
    "public static int[] rowSums(int[][] arr2D){\n",
    "    int[] sum = new int[arr2D[0].length];\n",
    "    for (int i=0; i<arr2D.length; i++) {\n",
    "        int rowSum = arraySum(arr2D[i]);\n",
    "        sum[i] = rowSum;\n",
    "    }\n",
    "    return sum;\n",
    "}\n",
    "\n",
    "public static boolean isDiverse(int[][] arr2D) {\n",
    "    int[] newArray = rowSums(arr2D);\n",
    "    boolean diverse = true;\n",
    "    for (int i=0; i<newArray.length; i++) {\n",
    "        for (int j=0; j<newArray.length; j++) {\n",
    "            if(i!=j && newArray[i]==newArray[j]) {\n",
    "                diverse = false;\n",
    "            }\n",
    "        }\n",
    "    }\n",
    "    return diverse;\n",
    "}\n",
    "public class Test1 {\n",
    "    public static void main(String[] args) {\n",
    "        int[] array = {1,2,3,4,5};\n",
    "        System.out.println(arraySum(array));\n",
    "        int[][] Array1 = {\n",
    "            {1, 2, 3},\n",
    "            {4, 5, 6},\n",
    "            {1, 2, 3}\n",
    "        };\n",
    "        int [] rowsums = rowSums(Array1);\n",
    "        for (int i=0; i<rowsums.length; i++) {\n",
    "            System.out.print(rowsums[i]+\" \");\n",
    "        }\n",
    "        System.out.println(\"\");\n",
    "        System.out.println(isDiverse(Array1));\n",
    "    }\n",
    "}\n",
    "Test1.main(null);"
   ]
  },
  {
   "cell_type": "code",
   "execution_count": 166,
   "metadata": {
    "vscode": {
     "languageId": "java"
    }
   },
   "outputs": [
    {
     "name": "stdout",
     "output_type": "stream",
     "text": [
      "+A+++\n",
      "H****\n",
      "H*++*\n",
      "HAR*S\n",
      "HARPS\n"
     ]
    }
   ],
   "source": [
    "public class HiddenWord {\n",
    "    private static String word = \"\";\n",
    "    HiddenWord(String hidden) {\n",
    "        word = hidden;\n",
    "    }\n",
    "\n",
    "    public static String getHint(String guess) {\n",
    "        String hint = \"\";\n",
    "        for (int i=0; i<word.length(); i++) {\n",
    "            for (int j=0; j<word.length(); j++) {\n",
    "                if (i==j && guess.charAt(i)==word.charAt(j)) {\n",
    "                    hint+=guess.charAt(i);\n",
    "                    break;\n",
    "                } else if (i!=j && guess.charAt(i)==word.charAt(j)) {\n",
    "                    hint+=\"+\";\n",
    "                    break;\n",
    "                } else if (j==word.length()-1) {\n",
    "                    hint+=\"*\";\n",
    "                }\n",
    "            }\n",
    "        }\n",
    "        return hint;\n",
    "    }\n",
    "}\n",
    "public class Test2 {\n",
    "    public static void main(String[] args) {\n",
    "        HiddenWord puzzle = new HiddenWord(\"HARPS\");\n",
    "        System.out.println(puzzle.getHint(\"AAAAAA\"));\n",
    "        System.out.println(puzzle.getHint(\"HELLO\"));\n",
    "        System.out.println(puzzle.getHint(\"HEARTS\"));\n",
    "        System.out.println(puzzle.getHint(\"HARMS\"));\n",
    "        System.out.println(puzzle.getHint(\"HARPS\"));\n",
    "    }\n",
    "}\n",
    "Test2.main(null);"
   ]
  },
  {
   "cell_type": "code",
   "execution_count": 167,
   "metadata": {
    "vscode": {
     "languageId": "java"
    }
   },
   "outputs": [
    {
     "name": "stdout",
     "output_type": "stream",
     "text": [
      "\n",
      "-9\n",
      "1\n",
      "0\n"
     ]
    }
   ],
   "source": [
    "public class SparseArrayEntry {\n",
    "    private int row;\n",
    "    private int col;\n",
    "    private int value;\n",
    "\n",
    "    public SparseArrayEntry(int r, int c, int v) {\n",
    "        row = r;\n",
    "        col = c;\n",
    "        value = v;\n",
    "    }\n",
    "\n",
    "    public int getRow() {\n",
    "        return row;\n",
    "    }\n",
    "\n",
    "    public int getCol() {\n",
    "        return col;\n",
    "    }\n",
    "\n",
    "    public int getValue() {\n",
    "        return value;\n",
    "    }\n",
    "}\n",
    "\n",
    "public class SparseArray {\n",
    "    private int numRows;\n",
    "    private int numCols;\n",
    "    private List<SparseArrayEntry> entries;\n",
    "\n",
    "    public SparseArray() {\n",
    "        entries = new ArrayList<SparseArrayEntry>();\n",
    "    }\n",
    "\n",
    "    public void addSparseValue(int r, int c, int v) {\n",
    "        SparseArrayEntry entry = new SparseArrayEntry(r, c, v);\n",
    "        entries.add(entry);\n",
    "    }\n",
    "\n",
    "    public int getNumRows() {\n",
    "        int rows = 0;\n",
    "        for (SparseArrayEntry ent : entries) {\n",
    "            if (ent.getRow()>rows) {\n",
    "                rows = ent.getRow();\n",
    "            }\n",
    "        }\n",
    "        numRows=rows;\n",
    "        return numRows;\n",
    "    }\n",
    "\n",
    "    public int getNumCols() {\n",
    "        int cols = 0;\n",
    "        for (SparseArrayEntry ent : entries) {\n",
    "            if (ent.getCol()>cols) {\n",
    "                cols = ent.getCol();\n",
    "            }\n",
    "        }\n",
    "        numCols=cols;\n",
    "        return numCols;\n",
    "    }\n",
    "\n",
    "    public int getValueAt(int row, int col) {\n",
    "        for (SparseArrayEntry ent : entries) {\n",
    "            if (ent.getCol()==col && ent.getRow()==row) {\n",
    "                return ent.getValue();\n",
    "            }\n",
    "        }\n",
    "        return 0;\n",
    "    }\n",
    "\n",
    "    public void removeColumn(int col) {\n",
    "        List<SparseArrayEntry> temp = new ArrayList<SparseArrayEntry>();\n",
    "        for (int i=0; i<entries.size(); i++) {\n",
    "            if (entries.get(i).getCol()==col) {\n",
    "                continue;\n",
    "            }\n",
    "            else {\n",
    "                temp.add(entries.get(i));\n",
    "            }\n",
    "        }\n",
    "        entries=temp;\n",
    "    }\n",
    "}\n",
    "public class Test3 {\n",
    "    public static void main(String[] args) {\n",
    "        SparseArray sparse = new SparseArray();\n",
    "        System.out.println();\n",
    "        sparse.addSparseValue(1,4,4);\n",
    "        sparse.addSparseValue(2,0,1);\n",
    "        sparse.addSparseValue(3,1,-9);\n",
    "        sparse.addSparseValue(1,1,5);\n",
    "        System.out.println(sparse.getValueAt(3,1));\n",
    "        System.out.println(sparse.getValueAt(2,0));\n",
    "        sparse.removeColumn(1);\n",
    "        System.out.println(sparse.getValueAt(3,1));\n",
    "    }\n",
    "}\n",
    "Test3.main(null);"
   ]
  },
  {
   "cell_type": "code",
   "execution_count": 169,
   "metadata": {
    "vscode": {
     "languageId": "java"
    }
   },
   "outputs": [
    {
     "name": "stdout",
     "output_type": "stream",
     "text": [
      "false\n",
      "false\n",
      "true\n"
     ]
    }
   ],
   "source": [
    "public class NumberGroup {\n",
    "    protected List<Integer> numGroup;\n",
    "    public NumberGroup(List<Integer> group) {\n",
    "        numGroup = group;\n",
    "    }\n",
    "\n",
    "    public boolean contains(int checkNum) {\n",
    "        for (int num : numGroup) {\n",
    "            if (checkNum==num) {\n",
    "                return true;\n",
    "            }\n",
    "        }\n",
    "        return false;\n",
    "    }\n",
    "}\n",
    "\n",
    "public class Range extends NumberGroup {\n",
    "    public Range(int start, int end) {\n",
    "        super(new ArrayList<>());\n",
    "        for (int i=start; i<end+1; i++) {\n",
    "            numGroup.add(i);\n",
    "        }\n",
    "    }\n",
    "}\n",
    "\n",
    "public class MultipleGroups extends NumberGroup {\n",
    "    private List<NumberGroup> groupList;\n",
    "    public MultipleGroups(List<NumberGroup> groupList) {\n",
    "        super(new ArrayList<>());\n",
    "        this.groupList = groupList;\n",
    "    }\n",
    "\n",
    "    public boolean contains(int checkNum) {\n",
    "        for(NumberGroup group : groupList) {\n",
    "            boolean doesContain = group.contains(checkNum);\n",
    "            if (doesContain==true) {\n",
    "                return true;\n",
    "            }\n",
    "        }\n",
    "        return false;\n",
    "    }\n",
    "}\n",
    "public class Test4 {\n",
    "    public static void main(String[] args) {\n",
    "        List<Integer> list = new ArrayList<Integer>();\n",
    "        list.add(5);\n",
    "        list.add(3);\n",
    "        NumberGroup numgroup = new NumberGroup(list);\n",
    "        System.out.println(numgroup.contains(2));\n",
    "        Range range1 = new Range(-3, 2);\n",
    "        System.out.println(range1.contains(3));\n",
    "        List<NumberGroup> newList = new ArrayList<>();\n",
    "        newList.add(new Range(5,8));\n",
    "        newList.add(new Range(10,12));\n",
    "        newList.add(new Range(1,6));\n",
    "        MultipleGroups mult1 = new MultipleGroups(newList);\n",
    "        System.out.println(mult1.contains(2));\n",
    "    }\n",
    "}\n",
    "Test4.main(null);"
   ]
  }
 ],
 "metadata": {
  "kernelspec": {
   "display_name": "Java",
   "language": "java",
   "name": "java"
  },
  "language_info": {
   "codemirror_mode": "java",
   "file_extension": ".jshell",
   "mimetype": "text/x-java-source",
   "name": "Java",
   "pygments_lexer": "java",
   "version": "21.0.2+13-LTS"
  }
 },
 "nbformat": 4,
 "nbformat_minor": 2
}
