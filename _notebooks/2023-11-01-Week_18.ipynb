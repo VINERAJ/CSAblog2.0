{
 "cells": [
  {
   "cell_type": "markdown",
   "metadata": {},
   "source": [
    "---\n",
    "toc: True\n",
    "comments: True\n",
    "layout: post\n",
    "title: Week 18 Goals\n",
    "description: My goals for week 18\n",
    "courses: {'compsci': {'week': 18}}\n",
    "type: plans\n",
    "---"
   ]
  },
  {
   "cell_type": "markdown",
   "metadata": {},
   "source": [
    "## Plans\n",
    "* Get prepped for individual grading\n",
    "* Plan for team project\n",
    "* Start working on SASS Login"
   ]
  },
  {
   "cell_type": "markdown",
   "metadata": {},
   "source": [
    "## Ideas for team project\n",
    "* Quiz Application\n",
    "    * Help CSA students study for CB MCs\n",
    "    * Can have them log in and make an account\n",
    "* Planner\n",
    "    * Help students keep track of their assignments\n",
    "    * Have them log in to access their reminders"
   ]
  }
 ],
 "metadata": {
  "language_info": {
   "name": "python"
  }
 },
 "nbformat": 4,
 "nbformat_minor": 2
}
