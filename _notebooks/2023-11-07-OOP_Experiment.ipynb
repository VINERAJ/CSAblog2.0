{
 "cells": [
  {
   "cell_type": "markdown",
   "metadata": {},
   "source": [
    "<!-- ---\n",
    "toc: true\n",
    "comments: true\n",
    "layout: post\n",
    "title: ?\n",
    "description: ?\n",
    "courses: { compsci: {week: 12} }\n",
    "type: tangibles\n",
    "--- -->"
   ]
  },
  {
   "cell_type": "code",
   "execution_count": 11,
   "metadata": {
    "vscode": {
     "languageId": "java"
    }
   },
   "outputs": [
    {
     "ename": "CompilationException",
     "evalue": "",
     "output_type": "error",
     "traceback": [
      "\u001b[1m\u001b[30m|   \u001b[1m\u001b[30m        this.nouns = \u001b[0m\u001b[1m\u001b[30m\u001b[41m\u001b[0m\u001b[1m\u001b[30m{\"apple\", \"bee\", \"cat\", \"dog\", \"elephant\", \"fish\", \"goose\", \"hare\", \"Io\", \"jackalope\", \"kangaroo\", \"lion\"};\u001b[0m",
      "\u001b[1m\u001b[31millegal start of expression\u001b[0m",
      "",
      "\u001b[1m\u001b[30m|   \u001b[1m\u001b[30m        this.nouns = {\u001b[0m\u001b[1m\u001b[30m\u001b[41m\"apple\"\u001b[0m\u001b[1m\u001b[30m, \"bee\", \"cat\", \"dog\", \"elephant\", \"fish\", \"goose\", \"hare\", \"Io\", \"jackalope\", \"kangaroo\", \"lion\"};\u001b[0m",
      "\u001b[1m\u001b[31mnot a statement\u001b[0m",
      "",
      "\u001b[1m\u001b[30m|   \u001b[1m\u001b[30m        this.nouns = {\"apple\"\u001b[0m\u001b[1m\u001b[30m\u001b[41m\u001b[0m\u001b[1m\u001b[30m, \"bee\", \"cat\", \"dog\", \"elephant\", \"fish\", \"goose\", \"hare\", \"Io\", \"jackalope\", \"kangaroo\", \"lion\"};\u001b[0m",
      "\u001b[1m\u001b[31m';' expected\u001b[0m",
      "",
      "\u001b[1m\u001b[30m|   \u001b[1m\u001b[30m        this.linkingWords = \u001b[0m\u001b[1m\u001b[30m\u001b[41m\u001b[0m\u001b[1m\u001b[30m{\"and\", \"or\", \"also\"};\u001b[0m",
      "\u001b[1m\u001b[31millegal start of expression\u001b[0m",
      "",
      "\u001b[1m\u001b[30m|   \u001b[1m\u001b[30m        this.linkingWords = {\u001b[0m\u001b[1m\u001b[30m\u001b[41m\"and\"\u001b[0m\u001b[1m\u001b[30m, \"or\", \"also\"};\u001b[0m",
      "\u001b[1m\u001b[31mnot a statement\u001b[0m",
      "",
      "\u001b[1m\u001b[30m|   \u001b[1m\u001b[30m        this.linkingWords = {\"and\"\u001b[0m\u001b[1m\u001b[30m\u001b[41m\u001b[0m\u001b[1m\u001b[30m, \"or\", \"also\"};\u001b[0m",
      "\u001b[1m\u001b[31m';' expected\u001b[0m",
      "",
      "\u001b[1m\u001b[30m|   \u001b[1m\u001b[30m        return \"\"\u001b[0m\u001b[1m\u001b[30m\u001b[41m\u001b[0m\u001b[1m\u001b[30m\u001b[0m",
      "\u001b[1m\u001b[31m';' expected\u001b[0m",
      ""
     ]
    }
   ],
   "source": [
    "import java.util.Scanner;\n",
    "import java.util.Random;\n",
    "\n",
    "public class OOP {\n",
    "    private String[] nouns;\n",
    "    String[] linkingWords;\n",
    "\n",
    "    public OOP() {\n",
    "        this.nouns = {\"apple\", \"bee\", \"cat\", \"dog\", \"elephant\", \"fish\", \"goose\", \"hare\", \"Io\", \"jackalope\", \"kangaroo\", \"lion\"};\n",
    "        this.linkingWords = {\"and\", \"or\", \"also\"};\n",
    "    }\n",
    "\n",
    "    public String getNouns() {\n",
    "        return \"\"\n",
    "    }\n",
    "}"
   ]
  }
 ],
 "metadata": {
  "kernelspec": {
   "display_name": "Java",
   "language": "java",
   "name": "java"
  },
  "language_info": {
   "codemirror_mode": "java",
   "file_extension": ".jshell",
   "mimetype": "text/x-java-source",
   "name": "Java",
   "pygments_lexer": "java",
   "version": "11.0.20+8-post-Ubuntu-1ubuntu122.04"
  }
 },
 "nbformat": 4,
 "nbformat_minor": 2
}
