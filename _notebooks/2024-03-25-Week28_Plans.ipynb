{
 "cells": [
  {
   "cell_type": "markdown",
   "metadata": {},
   "source": [
    "---\n",
    "toc: True\n",
    "comments: True\n",
    "layout: post\n",
    "title: Week 28 Goals\n",
    "description: My goals for week 28\n",
    "courses: {'compsci': {'week': 28}}\n",
    "type: plans\n",
    "---"
   ]
  },
  {
   "cell_type": "markdown",
   "metadata": {},
   "source": [
    "## Goals\n",
    "* Finish Wednesday Workshop hacks\n",
    "* Start work on script and choreography for algorythmic"
   ]
  },
  {
   "cell_type": "markdown",
   "metadata": {},
   "source": [
    "## Links\n",
    "## Links\n",
    "* [link to project](https://github.com/Del-Norte-Farmers-Iowa-Hawkeyes-Fanclub)\n",
    "* [Link to project plan](https://github.com/orgs/Del-Norte-Farmers-Iowa-Hawkeyes-Fanclub/projects/3)\n",
    "* [Link to Log Book](https://github.com/Del-Norte-Farmers-Iowa-Hawkeyes-Fanclub/Del-Norte-Association-of-Sustainable-Farmers-Saftey-OSHA-and-Fantasy-Log-Book)"
   ]
  },
  {
   "cell_type": "markdown",
   "metadata": {},
   "source": [
    "## Issues"
   ]
  }
 ],
 "metadata": {
  "language_info": {
   "name": "python"
  }
 },
 "nbformat": 4,
 "nbformat_minor": 2
}
