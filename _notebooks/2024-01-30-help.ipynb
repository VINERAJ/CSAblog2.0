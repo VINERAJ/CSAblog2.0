{
 "cells": [
  {
   "cell_type": "code",
   "execution_count": null,
   "metadata": {
    "vscode": {
     "languageId": "java"
    }
   },
   "outputs": [],
   "source": [
    "server {\n",
    "    server_name sparkwizards.nighthawkcodingsociety.com;\n",
    "    location / {\n",
    "         proxy_pass http://localhost:4100;\n",
    "\n",
    "        # this magic is needed for WebSocket\n",
    "        proxy_http_version  1.1;\n",
    "        proxy_set_header    Upgrade $http_upgrade;\n",
    "        proxy_set_header    Connection $connection_upgrade;\n",
    "        proxy_set_header    Host $http_host;\n",
    "        proxy_set_header    X-Real-IP $remote_addr;\n",
    "    }\n",
    "}"
   ]
  }
 ],
 "metadata": {
  "language_info": {
   "name": "python"
  }
 },
 "nbformat": 4,
 "nbformat_minor": 2
}
