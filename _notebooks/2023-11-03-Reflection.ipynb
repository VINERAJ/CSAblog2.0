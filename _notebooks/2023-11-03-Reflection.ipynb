{
 "cells": [
  {
   "cell_type": "markdown",
   "metadata": {},
   "source": [
    "---\n",
    "toc: True\n",
    "comments: True\n",
    "layout: post\n",
    "title: Reflection\n",
    "description: A Reflection on Trimester 1\n",
    "courses: {'compsci': {'week': 11}}\n",
    "type: tangibles\n",
    "---"
   ]
  },
  {
   "cell_type": "markdown",
   "metadata": {},
   "source": [
    "## What went well\n",
    "\n",
    "* We successfully completed our project\n",
    "* Styling looks good\n",
    "* Game plays well\n",
    "* I learned a lot about the implementation of APIs\n",
    "* As a team, we were able to coordinate"
   ]
  },
  {
   "cell_type": "markdown",
   "metadata": {},
   "source": [
    "## What can be improved\n",
    "* I should make issues for any problems I face\n",
    "* More evidence of collaboration on GitHub (scrum boards, etc.)\n",
    "* Work more efficiently\n",
    "* Backend should work more closely together"
   ]
  },
  {
   "cell_type": "markdown",
   "metadata": {},
   "source": [
    "## Looking to the future\n",
    "* Continue experiments with Java and Javascript\n",
    "* Make more issues to track my progress on solving problems\n",
    "* Learn/work more with OOP\n",
    "* Continue learning college board units"
   ]
  }
 ],
 "metadata": {
  "language_info": {
   "name": "python"
  }
 },
 "nbformat": 4,
 "nbformat_minor": 2
}
