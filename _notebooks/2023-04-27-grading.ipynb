{
 "cells": [
  {
   "cell_type": "markdown",
   "metadata": {},
   "source": []
  },
  {
   "cell_type": "code",
   "execution_count": 10,
   "metadata": {
    "vscode": {
     "languageId": "java"
    }
   },
   "outputs": [
    {
     "name": "stdout",
     "output_type": "stream",
     "text": [
      "5\n",
      "or\n"
     ]
    },
    {
     "data": {
      "text/plain": [
       "1"
      ]
     },
     "execution_count": 10,
     "metadata": {},
     "output_type": "execute_result"
    }
   ],
   "source": [
    "String word = \"words\";\n",
    "System.out.println(word.length());\n",
    "System.out.println(word.substring(1,3));\n",
    "Math.abs(-1);"
   ]
  },
  {
   "cell_type": "code",
   "execution_count": 5,
   "metadata": {
    "vscode": {
     "languageId": "java"
    }
   },
   "outputs": [
    {
     "ename": "CompilationException",
     "evalue": "",
     "output_type": "error",
     "traceback": [
      "\u001b[1m\u001b[30m|   \u001b[1m\u001b[30mpublic class Vechicle \u001b[0m",
      "\u001b[1m\u001b[30m|   \u001b[1m\u001b[30m\t{\u001b[0m",
      "\u001b[1m\u001b[30m|   \u001b[1m\u001b[30m\t  public void test(Car x, SportsCar y) {}\u001b[0m",
      "\u001b[1m\u001b[30m|   \u001b[1m\u001b[30m\t  \u001b[0m",
      "\u001b[1m\u001b[30m|   \u001b[1m\u001b[30m\t}\u001b[0m",
      "\u001b[1m\u001b[31mUnresolved dependencies:\u001b[0m",
      "\u001b[1m\u001b[31m   - class Car\u001b[0m",
      "\u001b[1m\u001b[31m   - class SportsCar\u001b[0m"
     ]
    }
   ],
   "source": []
  }
 ],
 "metadata": {
  "kernelspec": {
   "display_name": "Java",
   "language": "java",
   "name": "java"
  },
  "language_info": {
   "codemirror_mode": "java",
   "file_extension": ".jshell",
   "mimetype": "text/x-java-source",
   "name": "Java",
   "pygments_lexer": "java",
   "version": "21.0.2+13-LTS"
  }
 },
 "nbformat": 4,
 "nbformat_minor": 2
}
