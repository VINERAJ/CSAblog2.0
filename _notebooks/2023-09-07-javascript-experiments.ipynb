{
 "cells": [
  {
   "cell_type": "markdown",
   "metadata": {},
   "source": [
    "<!-- ---\n",
    "toc: true\n",
    "comments: true\n",
    "layout: post\n",
    "title: JavaScript Experiments\n",
    "description: Learning javascript output\n",
    "courses: { compsci: {week: 4} }\n",
    "type: tangibles\n",
    "--- -->"
   ]
  },
  {
   "cell_type": "code",
   "execution_count": 3,
   "metadata": {
    "vscode": {
     "languageId": "java"
    }
   },
   "outputs": [
    {
     "ename": "EvalException",
     "evalue": "Undefined cell magic 'html'",
     "output_type": "error",
     "traceback": [
      "\u001b[1m\u001b[31m---------------------------------------------------------------------------\u001b[0m",
      "\u001b[1m\u001b[31mio.github.spencerpark.jupyter.kernel.magic.registry.UndefinedMagicException: Undefined cell magic 'html'\u001b[0m",
      "\u001b[1m\u001b[31m\tat io.github.spencerpark.jupyter.kernel.magic.registry.Magics.applyCellMagic(Magics.java:34)\u001b[0m",
      "\u001b[1m\u001b[31m\tat io.github.spencerpark.ijava.runtime.Magics.cellMagic(Magics.java:31)\u001b[0m",
      "\u001b[1m\u001b[31m\tat .(#14:1)\u001b[0m"
     ]
    }
   ],
   "source": [
    "%%html\n",
    "<table></table>"
   ]
  },
  {
   "cell_type": "code",
   "execution_count": 4,
   "metadata": {
    "vscode": {
     "languageId": "javascript"
    }
   },
   "outputs": [
    {
     "ename": "EvalException",
     "evalue": "Undefined cell magic 'html'",
     "output_type": "error",
     "traceback": [
      "\u001b[1m\u001b[31m---------------------------------------------------------------------------\u001b[0m",
      "\u001b[1m\u001b[31mio.github.spencerpark.jupyter.kernel.magic.registry.UndefinedMagicException: Undefined cell magic 'html'\u001b[0m",
      "\u001b[1m\u001b[31m\tat io.github.spencerpark.jupyter.kernel.magic.registry.Magics.applyCellMagic(Magics.java:34)\u001b[0m",
      "\u001b[1m\u001b[31m\tat io.github.spencerpark.ijava.runtime.Magics.cellMagic(Magics.java:31)\u001b[0m",
      "\u001b[1m\u001b[31m\tat .(#15:1)\u001b[0m"
     ]
    }
   ],
   "source": [
    "%%js\n",
    "let people = [\n",
    "    { name: \"Vinay\", age: \"17\", grade: \"12\" },\n",
    "];\n",
    "\n",
    "function generateTable(table, data) {\n",
    "    let thead = table.createTHead();\n",
    "    let row = thead.insertRow();\n",
    "    for (let key of data) {\n",
    "        let th = document.createElement(\"th\");\n",
    "        let text = document.createTextNode(key);\n",
    "        th.appendChild(text);\n",
    "        row.appendChild(th);\n",
    "    }\n",
    "    for (let element of people) {\n",
    "    let dataRow = table.insertRow();\n",
    "    for (key in element) {\n",
    "      let cell = dataRow.insertCell();\n",
    "      let text = document.createTextNode(element[key]);\n",
    "      cell.appendChild(text);\n",
    "    }\n",
    "  }\n",
    "}\n",
    "\n",
    "let table = document.querySelector(\"table\");\n",
    "let data = Object.keys(people[0]);\n",
    "generateTable(table, data);"
   ]
  },
  {
   "cell_type": "code",
   "execution_count": null,
   "metadata": {
    "vscode": {
     "languageId": "java"
    }
   },
   "outputs": [],
   "source": []
  },
  {
   "cell_type": "code",
   "execution_count": null,
   "metadata": {
    "vscode": {
     "languageId": "java"
    }
   },
   "outputs": [],
   "source": []
  }
 ],
 "metadata": {
  "kernelspec": {
   "display_name": "Java",
   "language": "java",
   "name": "java"
  },
  "language_info": {
   "codemirror_mode": "java",
   "file_extension": ".jshell",
   "mimetype": "text/x-java-source",
   "name": "Java",
   "pygments_lexer": "java",
   "version": "11.0.20+8-post-Ubuntu-1ubuntu122.04"
  }
 },
 "nbformat": 4,
 "nbformat_minor": 2
}
