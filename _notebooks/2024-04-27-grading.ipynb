{
 "cells": [
  {
   "cell_type": "markdown",
   "metadata": {},
   "source": []
  },
  {
   "cell_type": "code",
   "execution_count": 10,
   "metadata": {},
   "outputs": [
    {
     "name": "stdout",
     "output_type": "stream",
     "text": [
      "5\n",
      "or\n"
     ]
    },
    {
     "data": {
      "text/plain": [
       "1"
      ]
     },
     "execution_count": 10,
     "metadata": {},
     "output_type": "execute_result"
    }
   ],
   "source": [
    "String word = \"words\";\n",
    "System.out.println(word.length());\n",
    "System.out.println(word.substring(1,3));\n",
    "Math.abs(-1);"
   ]
  },
  {
   "cell_type": "code",
   "execution_count": 10,
   "metadata": {},
   "outputs": [
    {
     "name": "stdout",
     "output_type": "stream",
     "text": [
      "hello\n",
      "hi\n",
      "hello\n"
     ]
    }
   ],
   "source": [
    "public class Parent {\n",
    "    public void p1() {\n",
    "        System.out.println(\"hi\");\n",
    "    }\n",
    "}\n",
    "\n",
    "public class Child extends Parent {\n",
    "    public void p1() {\n",
    "        System.out.println(\"hello\");\n",
    "    }\n",
    "}\n",
    "\n",
    "public class Test {\n",
    "    public static void main(String[] args) {\n",
    "        Parent pa1 = new Child();\n",
    "        pa1.p1();\n",
    "        Parent pa2 = new Parent();\n",
    "        pa2.p1();\n",
    "        Child c1 = new Child();\n",
    "        c1.p1();\n",
    "        //Child c2 = new Parent();\n",
    "        // c2.p1();\n",
    "    }\n",
    "}\n",
    "\n",
    "Test.main(null);"
   ]
  },
  {
   "cell_type": "code",
   "execution_count": 189,
   "metadata": {},
   "outputs": [
    {
     "name": "stdout",
     "output_type": "stream",
     "text": [
      "5\n"
     ]
    },
    {
     "name": "stdout",
     "output_type": "stream",
     "text": [
      "5.0\n",
      "1.46224648455248\n",
      "1\n",
      "10.0\n",
      "4\n"
     ]
    }
   ],
   "source": [
    "int x = 5;\n",
    "double y = 5.0;\n",
    "System.out.println((int) y);\n",
    "System.out.println((double) x);\n",
    "double z = (Math.random()*2)+1;\n",
    "System.out.println(z);\n",
    "System.out.println((int) z);\n",
    "System.out.println(x+y);\n",
    "System.out.println((int) (Math.random()*(10-2)+2));"
   ]
  },
  {
   "cell_type": "code",
   "execution_count": 26,
   "metadata": {},
   "outputs": [],
   "source": [
    "String name, lastName;\n",
    "name = \"\";\n",
    "lastName = \"\";"
   ]
  },
  {
   "cell_type": "code",
   "execution_count": 38,
   "metadata": {},
   "outputs": [
    {
     "name": "stdout",
     "output_type": "stream",
     "text": [
      "5.0\n"
     ]
    }
   ],
   "source": [
    "double num1;\n",
    "num1 = 5;\n",
    "System.out.println(num1);"
   ]
  },
  {
   "cell_type": "code",
   "execution_count": 50,
   "metadata": {},
   "outputs": [
    {
     "name": "stdout",
     "output_type": "stream",
     "text": [
      "8\n",
      "8\n",
      "8\n",
      "0\n",
      "0\n"
     ]
    }
   ],
   "source": [
    "public class SomeClass {\n",
    "    private static int y = 0;\n",
    "    public void increment() {\n",
    "        y++;\n",
    "    }\n",
    "    public int getY() {\n",
    "        return y;\n",
    "    }\n",
    "}\n",
    "\n",
    "public class NewClass extends SomeClass {\n",
    "    private static int y;\n",
    "    public int getY() {\n",
    "        return y;\n",
    "    }\n",
    "}\n",
    "\n",
    "public class Test2 {\n",
    "    public static void main(String[] args) {\n",
    "        SomeClass some = new SomeClass();\n",
    "        SomeClass some2 = new SomeClass();\n",
    "        SomeClass some3 = new SomeClass();\n",
    "        NewClass some4 = new NewClass();\n",
    "        SomeClass some5 = new NewClass();\n",
    "        some.increment();\n",
    "        System.out.println(some.getY());\n",
    "        System.out.println(some2.getY());\n",
    "        System.out.println(some3.getY());\n",
    "        System.out.println(some4.getY());\n",
    "        System.out.println(some5.getY());\n",
    "    }\n",
    "}\n",
    "\n",
    "Test2.main(null);"
   ]
  },
  {
   "cell_type": "code",
   "execution_count": 56,
   "metadata": {},
   "outputs": [
    {
     "name": "stdout",
     "output_type": "stream",
     "text": [
      "12\n",
      "8\n"
     ]
    }
   ],
   "source": [
    "int m = 4;\n",
    "int n = 3;\n",
    "int a;\n",
    "int b;\n",
    "for (int i = 0; i < m * n; i++)\n",
    "{\n",
    "   a++;\n",
    "}\n",
    "System.out.println(a);\n",
    "for (int j = 1; j <= m; j++)\n",
    "{\n",
    "   for (int k = 1; k < n; k++)\n",
    "   {\n",
    "      b++;\n",
    "   }\n",
    "}\n",
    "System.out.println(b);"
   ]
  },
  {
   "cell_type": "code",
   "execution_count": 60,
   "metadata": {},
   "outputs": [
    {
     "name": "stdout",
     "output_type": "stream",
     "text": [
      "true\n"
     ]
    }
   ],
   "source": [
    "System.out.println(true||true);"
   ]
  },
  {
   "cell_type": "code",
   "execution_count": 80,
   "metadata": {},
   "outputs": [
    {
     "name": "stdout",
     "output_type": "stream",
     "text": [
      "0\n"
     ]
    }
   ],
   "source": [
    "public class Vehicle {\n",
    "    public int y;\n",
    "    public int getY() {\n",
    "        return y;\n",
    "    }\n",
    "}\n",
    "\n",
    "public class Car extends Vehicle {}\n",
    "\n",
    "public class Test3 {\n",
    "    public static void main(String[] args) {\n",
    "        Car car1 = new Car();\n",
    "        System.out.println(car1.y);\n",
    "    }\n",
    "}\n",
    "\n",
    "Test3.main(null);\n"
   ]
  },
  {
   "cell_type": "code",
   "execution_count": 92,
   "metadata": {},
   "outputs": [
    {
     "name": "stdout",
     "output_type": "stream",
     "text": [
      "hi\n",
      "hello\n",
      "yeah\n",
      "yeah\n",
      "yep\n",
      "sing\n",
      "eat\n",
      "sing\n"
     ]
    }
   ],
   "source": [
    "public class Vehicle {\n",
    "    public void go() {\n",
    "        System.out.println(\"hi\");\n",
    "    }\n",
    "    public void yeah() {\n",
    "        System.out.println(\"yep\");\n",
    "    }\n",
    "    public String info() {\n",
    "        return \"eat\";\n",
    "    }\n",
    "}\n",
    "\n",
    "public class Truck extends Vehicle {\n",
    "    public void test() {\n",
    "        System.out.println(\"hello\");\n",
    "    }\n",
    "\n",
    "    public void yeah() {\n",
    "        System.out.println(\"yeah\");\n",
    "    }\n",
    "    public String info() {\n",
    "        super.info();\n",
    "        return \"sing\";\n",
    "    }\n",
    "}\n",
    "\n",
    "public class Yeah {\n",
    "    public static void main(String[] args) {\n",
    "        Vehicle v = new Truck();\n",
    "        Vehicle v2 = new Vehicle();\n",
    "        Truck t = new Truck();\n",
    "        v.go();\n",
    "        t.test();\n",
    "        v.yeah();\n",
    "        t.yeah();\n",
    "        v2.yeah();\n",
    "        System.out.println(v.info());\n",
    "        System.out.println(v2.info());\n",
    "        System.out.println(t.info());\n",
    "    }\n",
    "}\n",
    "\n",
    "Yeah.main(null);"
   ]
  },
  {
   "cell_type": "code",
   "execution_count": 87,
   "metadata": {},
   "outputs": [
    {
     "name": "stdout",
     "output_type": "stream",
     "text": [
      "u\n",
      "2\n",
      "u\n",
      "2\n"
     ]
    }
   ],
   "source": [
    "public class ReferText {\n",
    "    public void testing(String s, int i) {\n",
    "        s = \"change\";\n",
    "        i = 6;\n",
    "    }\n",
    "}\n",
    "\n",
    "public class UhHuh {\n",
    "    public static void main(String[] args) {\n",
    "        ReferText r = new ReferText();\n",
    "        String s = \"u\";\n",
    "        int j = 2;\n",
    "        System.out.println(s);\n",
    "        System.out.println(j);\n",
    "        r.testing(s, j);\n",
    "        System.out.println(s);\n",
    "        System.out.println(j);\n",
    "    }\n",
    "}\n",
    "\n",
    "UhHuh.main(null);"
   ]
  },
  {
   "cell_type": "code",
   "execution_count": 103,
   "metadata": {},
   "outputs": [
    {
     "name": "stdout",
     "output_type": "stream",
     "text": [
      "hm\n"
     ]
    }
   ],
   "source": [
    "public class A {\n",
    "    public void test(B x, C c) {\n",
    "        System.out.println(\"hm\");\n",
    "    }\n",
    "}\n",
    "public class B extends A {}\n",
    "public class C extends B {}\n",
    "A a = new A();\n",
    "B b = new B();\n",
    "C c = new C();\n",
    "c.test(c,c);"
   ]
  },
  {
   "cell_type": "code",
   "execution_count": 190,
   "metadata": {},
   "outputs": [
    {
     "name": "stdout",
     "output_type": "stream",
     "text": [
      "0.8\n",
      "0\n"
     ]
    }
   ],
   "source": [
    "System.out.println((double) (4)/5);\n",
    "System.out.println(0%3);"
   ]
  }
 ],
 "metadata": {
  "kernelspec": {
   "display_name": "Java",
   "language": "java",
   "name": "java"
  },
  "language_info": {
   "codemirror_mode": "java",
   "file_extension": ".jshell",
   "mimetype": "text/x-java-source",
   "name": "java",
   "pygments_lexer": "java",
   "version": "21.0.2+13-LTS"
  }
 },
 "nbformat": 4,
 "nbformat_minor": 2
}
