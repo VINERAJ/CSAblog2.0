{
 "cells": [
  {
   "cell_type": "markdown",
   "metadata": {},
   "source": [
    "<!-- ---\n",
    "toc: true\n",
    "comments: true\n",
    "layout: post\n",
    "title: Vinay's Notebook \n",
    "description: My notebook for CSA. A place to put goals, any tangibles, and maybe even more. \n",
    "courses: { compsci: {week: 1} }\n",
    "type: plans\n",
    "--- -->"
   ]
  },
  {
   "cell_type": "markdown",
   "metadata": {},
   "source": [
    "## Week 0\n",
    "Goals:\n",
    "* set up tools\n",
    "\n",
    "Tangibles:\n",
    "* Freeform drawing:\n",
    "![A beautiful picture of me!](/CSAblog/Me.jpg \"Me\")"
   ]
  },
  {
   "cell_type": "markdown",
   "metadata": {},
   "source": [
    "## Week 1\n",
    "Goals:\n",
    "* download tools\n",
    "* get github pages working\n",
    "* Get local hosting ready\n",
    "\n",
    "Tangibles:\n",
    "[My blog](https://vineraj.github.io/CSAblog/)"
   ]
  },
  {
   "cell_type": "markdown",
   "metadata": {},
   "source": [
    "## Week 2\n",
    "Goals:\n",
    "* Get java working\n",
    "* Learn about java\n",
    "\n",
    "Terms:\n",
    "* OOP-Object Oriented Programming, Java is built for this\n",
    "* Class-a blueprint for code\n",
    "\n",
    "Tangibles:\n",
    "* See below"
   ]
  },
  {
   "cell_type": "code",
   "execution_count": null,
   "metadata": {
    "vscode": {
     "languageId": "java"
    }
   },
   "outputs": [],
   "source": [
    "System.out.println(\"hello world\")\n"
   ]
  },
  {
   "cell_type": "markdown",
   "metadata": {},
   "source": [
    "Below is code that is \"bad\"-it does not use OOP"
   ]
  },
  {
   "cell_type": "code",
   "execution_count": 3,
   "metadata": {
    "vscode": {
     "languageId": "java"
    }
   },
   "outputs": [
    {
     "name": "stdout",
     "output_type": "stream",
     "text": [
      "5050\n"
     ]
    }
   ],
   "source": [
    "int sum = 0;\n",
    "for (int i=1; i<101; i++) {\n",
    "    sum = sum+i;\n",
    "}\n",
    "System.out.println(sum)"
   ]
  },
  {
   "cell_type": "markdown",
   "metadata": {},
   "source": [
    "Below is the above code rewritten to use OOP."
   ]
  },
  {
   "cell_type": "code",
   "execution_count": 1,
   "metadata": {
    "vscode": {
     "languageId": "java"
    }
   },
   "outputs": [
    {
     "name": "stdout",
     "output_type": "stream",
     "text": [
      "4950\n"
     ]
    }
   ],
   "source": [
    "public class SumObject {\n",
    "    private int sum;\n",
    "    public SumObject() {\n",
    "        sum = 0;\n",
    "    }\n",
    "    public int getSum() {\n",
    "        return sum;\n",
    "    }\n",
    "    public void setSum(int s) {\n",
    "        sum = s;\n",
    "    }\n",
    "    public static void main(String[] args) {\n",
    "        SumObject summer = new SumObject();\n",
    "        for (int i=1; i<101; i++) {\n",
    "            int s = summer.getSum();\n",
    "            summer.setSum(i+s);\n",
    "        }\n",
    "        System.out.println(summer.getSum());\n",
    "    }\n",
    "}\n",
    "SumObject.main(null);"
   ]
  },
  {
   "cell_type": "code",
   "execution_count": null,
   "metadata": {
    "vscode": {
     "languageId": "java"
    }
   },
   "outputs": [],
   "source": []
  }
 ],
 "metadata": {
  "kernelspec": {
   "display_name": "Java",
   "language": "java",
   "name": "java"
  },
  "language_info": {
   "codemirror_mode": "java",
   "file_extension": ".jshell",
   "mimetype": "text/x-java-source",
   "name": "Java",
   "pygments_lexer": "java",
   "version": "11.0.20+8-post-Ubuntu-1ubuntu122.04"
  }
 },
 "nbformat": 4,
 "nbformat_minor": 2
}
