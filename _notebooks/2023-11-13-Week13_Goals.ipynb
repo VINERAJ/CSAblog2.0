{
 "cells": [
  {
   "cell_type": "markdown",
   "metadata": {},
   "source": [
    "---\n",
    "toc: true\n",
    "comments: true\n",
    "layout: post\n",
    "title: Week 13 Goals\n",
    "description: My goals for week 13\n",
    "courses: { compsci: {week: 13} }\n",
    "type: plans\n",
    "---"
   ]
  },
  {
   "cell_type": "markdown",
   "metadata": {},
   "source": [
    "## Goals\n",
    "* Ideation for sorting project\n",
    "* Start work on sorting project\n",
    "* Sign up for teaching\n",
    "\n",
    "## Links\n",
    "* "
   ]
  }
 ],
 "metadata": {
  "language_info": {
   "name": "python"
  }
 },
 "nbformat": 4,
 "nbformat_minor": 2
}
