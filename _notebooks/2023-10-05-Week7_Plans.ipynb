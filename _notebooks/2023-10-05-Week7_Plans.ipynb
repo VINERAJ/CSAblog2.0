{
 "cells": [
  {
   "cell_type": "markdown",
   "metadata": {},
   "source": [
    "---\n",
    "toc: true\n",
    "comments: true\n",
    "layout: post\n",
    "title: Week 7 Goals\n",
    "description: My goals for week 7\n",
    "courses: { compsci: {week: 7} }\n",
    "type: plans\n",
    "---"
   ]
  },
  {
   "cell_type": "markdown",
   "metadata": {},
   "source": [
    "## Goals\n",
    "* Present Primitive types\n",
    "* Work on passion project\n",
    "* Experiments"
   ]
  },
  {
   "cell_type": "code",
   "execution_count": 1,
   "metadata": {},
   "outputs": [],
   "source": [
    "import java.util.Scanner;\n",
    "\n",
    "public class Calculator {\n",
    "    public static void main(String[] args) {\n",
    "        Scanner scanner = new Scanner(System.in);\n",
    "\n",
    "        System.out.print(\"Enter operation (+ for addition, - for subtraction, * for multiplication): \");\n",
    "        char operation = scanner.next().charAt(0);\n",
    "\n",
    "        System.out.print(\"Enter first number: \");\n",
    "        String num1 = scanner.next();\n",
    "\n",
    "        System.out.print(\"Enter second number: \");\n",
    "        String num2 = scanner.next();\n",
    "\n",
    "        double x, y;\n",
    "\n",
    "        if (num1.contains(\".\") || num2.contains(\".\")) {\n",
    "            x = Double.parseDouble(num1);\n",
    "            y = Double.parseDouble(num2);\n",
    "        } else {\n",
    "            x = Integer.parseInt(num1);\n",
    "            y = Integer.parseInt(num2);\n",
    "        }\n",
    "\n",
    "        double result;\n",
    "\n",
    "        switch (operation) {\n",
    "            case '+':\n",
    "                result = add(x, y);\n",
    "                break;\n",
    "            case '-':\n",
    "                result = subtract(x, y);\n",
    "                break;\n",
    "            case '*':\n",
    "                result = multiply(x, y);\n",
    "                break;\n",
    "            default:\n",
    "                System.out.println(\"Invalid operation\");\n",
    "                return;\n",
    "        }\n",
    "\n",
    "        System.out.println(\"The result is: \" + result);\n",
    "    }\n",
    "\n",
    "    public static double add(double x, double y) {\n",
    "        return x + y;\n",
    "    }\n",
    "\n",
    "    public static double subtract(double x, double y) {\n",
    "        return x - y;\n",
    "    }\n",
    "\n",
    "    public static double multiply(double x, double y) {\n",
    "        return x * y;\n",
    "    }\n",
    "}"
   ]
  }
 ],
 "metadata": {
  "kernelspec": {
   "display_name": "Java",
   "language": "java",
   "name": "java"
  },
  "language_info": {
   "codemirror_mode": "java",
   "file_extension": ".jshell",
   "mimetype": "text/x-java-source",
   "name": "java",
   "pygments_lexer": "java",
   "version": "11.0.20+8-post-Ubuntu-1ubuntu122.04"
  }
 },
 "nbformat": 4,
 "nbformat_minor": 2
}
