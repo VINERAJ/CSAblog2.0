{
 "cells": [
  {
   "cell_type": "markdown",
   "metadata": {},
   "source": [
    "---\n",
    "toc: True\n",
    "comments: True\n",
    "layout: post\n",
    "title: Week 32 Plans\n",
    "description: Plans for week 32\n",
    "courses: {'compsci': {'week': 32}}\n",
    "type: plans\n",
    "---"
   ]
  },
  {
   "cell_type": "markdown",
   "metadata": {},
   "source": [
    "## Goals\n",
    "* Present CTE presentations\n",
    "* Study for APs\n",
    "* Work on project\n",
    "\n",
    "## Issues\n",
    "[CTE](https://github.com/Del-Norte-Farmers-Iowa-Hawkeyes-Fanclub/IHF-Frontend/issues/15)"
   ]
  }
 ],
 "metadata": {
  "language_info": {
   "name": "python"
  }
 },
 "nbformat": 4,
 "nbformat_minor": 2
}
