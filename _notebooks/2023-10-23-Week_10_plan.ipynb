{
 "cells": [
  {
   "cell_type": "markdown",
   "metadata": {},
   "source": [
    "---\n",
    "toc: True\n",
    "comments: True\n",
    "layout: post\n",
    "title: Week 10 Goals\n",
    "description: My goals for week 10\n",
    "courses: {'compsci': {'week': 10}}\n",
    "type: plans\n",
    "---"
   ]
  },
  {
   "cell_type": "markdown",
   "metadata": {},
   "source": [
    "## Plans\n",
    "* Work on passion project-Phrases API\n",
    "* Work on u7 and u8"
   ]
  },
  {
   "cell_type": "markdown",
   "metadata": {},
   "source": [
    "## Links\n",
    "* [u7 Hacks](https://github.com/BobTheFarmer/VACTQ-Lesson/issues/9)\n",
    "* [u8 hacks](https://github.com/BobTheFarmer/VACTQ-Lesson/issues/10)\n",
    "* [Backend](https://github.com/BobTheFarmer/VACTQ-Backend)\n",
    "* [Frontend](https://github.com/BobTheFarmer/VACTQ-Typing-Game)\n",
    "* [Backend Issue](https://github.com/BobTheFarmer/VACTQ-Typing-Game/issues/6)"
   ]
  }
 ],
 "metadata": {
  "language_info": {
   "name": "python"
  }
 },
 "nbformat": 4,
 "nbformat_minor": 2
}
