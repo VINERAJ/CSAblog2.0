{
 "cells": [
  {
   "cell_type": "markdown",
   "metadata": {},
   "source": [
    "---\n",
    "toc: True\n",
    "comments: True\n",
    "layout: post\n",
    "title: Week 27 Goals\n",
    "description: My goals for week 27\n",
    "courses: {'compsci': {'week': 27}}\n",
    "type: plans\n",
    "---"
   ]
  },
  {
   "cell_type": "markdown",
   "metadata": {},
   "source": [
    "## Goals\n",
    "* Finish preparing for Wednesday Workshop\n",
    "* Do hacks for Wednesday Workshop\n",
    "* Work on two-tri project"
   ]
  },
  {
   "cell_type": "markdown",
   "metadata": {},
   "source": [
    "## Links\n",
    "* [link to project](https://github.com/Del-Norte-Farmers-Iowa-Hawkeyes-Fanclub)\n",
    "* [Link to project plan](https://github.com/orgs/Del-Norte-Farmers-Iowa-Hawkeyes-Fanclub/projects/3)\n",
    "* [Link to Log Book](https://github.com/Del-Norte-Farmers-Iowa-Hawkeyes-Fanclub/Del-Norte-Association-of-Sustainable-Farmers-Saftey-OSHA-and-Fantasy-Log-Book)"
   ]
  },
  {
   "cell_type": "markdown",
   "metadata": {},
   "source": [
    "## Issues\n",
    "* [Trio Review](https://github.com/Del-Norte-Farmers-Iowa-Hawkeyes-Fanclub/Del-Norte-Association-of-Sustainable-Farmers-Saftey-OSHA-and-Fantasy-Log-Book/issues/12)\n",
    "* [Lesson](https://github.com/Del-Norte-Farmers-Iowa-Hawkeyes-Fanclub/Del-Norte-Association-of-Sustainable-Farmers-Saftey-OSHA-and-Fantasy-Log-Book/issues/7)"
   ]
  }
 ],
 "metadata": {
  "language_info": {
   "name": "python"
  }
 },
 "nbformat": 4,
 "nbformat_minor": 2
}
