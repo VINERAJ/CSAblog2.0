{
 "cells": [
  {
   "cell_type": "markdown",
   "metadata": {},
   "source": [
    "---\n",
    "toc: True\n",
    "comments: True\n",
    "layout: post\n",
    "title: Night at the Museum Reflection\n",
    "description: Night at the Museum Reflection\n",
    "courses: {'compsci': {'week': 23}}\n",
    "type: tangibles\n",
    "---"
   ]
  },
  {
   "cell_type": "markdown",
   "metadata": {},
   "source": [
    "## Two Trimester focus planning\n",
    "\n",
    "how you used N@tM to capture test data to be used in trimester 3\n",
    "\n",
    "* Since we didn't qualify, we couldn't officially set up at a table and present our project. However, we realized that being in a room with our fellow classmates(who are the target audience for our project) was the perfect opportunity to unofficially show them our unfinished project to get ideas on how to improve it. Edwin also set up a google form so they could record their feedback for us. I noticed that a few people had trouble doing the decimal to binary conversions in their head, so they had to use a calculator. They often made mistakes, and as such got the conversion wrong. But at least one person liked the difficulty that the game brought.\n",
    "\n",
    "from feedback, something you will add to your project\n",
    "\n",
    "* From the feedback we got from our unofficial presentation, I think that one thing we can add is a difficulty setting on the binary game. As I mentioned above, some people had difficulty converting from binary to decimal, but some also liked this difficulty. To accommodate both viewpoints, I think we can add a toggle setting for the difficulty. The \"hard\" setting would be the normal game, but the easier difficulties could add things like a table, telling the user which box corresponds to which decimal (1,2,4, etc.), and maybe even adding an in-game calculator to aid in correctly calculating the binary number. I think adding different difficulty settings can help students who need help in binary slowly build up their skills.\n",
    "\n",
    "## Blog / article on you and team\n",
    "\n",
    "reflection on glows/grows from your demo/presentations\n",
    "\n",
    "* Since we didn't get qualified and therefore couldn't actually present, there's not much data that we can use to improve on our presentation. However, from the unofficial presentation that we did, and from seeing other groups' presentations, there might be somethings that we can improve on. I noticed that a few people had an account settings page, which showed the user their newly-created account. I think that this would be a fun feature to implement in our project, and it could be a useful place to store other user information. Some groups had 2nd features working or in development, which motivates me to pick up our pace and work on our project a lot during break to get caught up.\n",
    "\n",
    "## Blog on event\n",
    "\n",
    "something you saw in CompSci that impressed\n",
    "\n",
    "* There were many projects that made by my fellow classmates that impressed me. One group had made a version of canvas that had flashcards for help in study. Since we are also planning to have a quiz in our game, this might be a good way to help the users study for this game. Another group had a data visualization project, that analyzed stocks. We might use a similar idea to display visualizations of sorting algorithms if we decide to include that in our project. Finally, another group had a game project like ours, except it was based off another Nintendo property-Pokemon. I was wondering if we could base on of the games in our project off pokemon, maybe a boolean game or something like that.\n",
    "\n",
    "something you saw outside of CompSci that you liked\n",
    "* As I explored the rooms outside the cs room, I saw the creative things people had produced in digital media production, drawing and painting, ceramics, and more. I saw a painting of Mr. Mort, which was pretty interesting. One thing that got me thinking, was, weirdly enough, one of the piranha plants from Mario that someone had made in ceramics. Because we were looking at the CSSE Mario game as a model for sprite animation in our project, I began wondering if we could somehow include a piranha plant in our game, maybe as an enemy in a future level. "
   ]
  }
 ],
 "metadata": {
  "language_info": {
   "name": "python"
  }
 },
 "nbformat": 4,
 "nbformat_minor": 2
}
