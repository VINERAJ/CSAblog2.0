{
 "cells": [
  {
   "cell_type": "markdown",
   "metadata": {},
   "source": [
    "---\n",
    "toc: True\n",
    "comments: True\n",
    "layout: post\n",
    "title: Week 35 Plans\n",
    "description: Plans for week 35\n",
    "courses: {'compsci': {'week': 35}}\n",
    "type: plans\n",
    "---"
   ]
  },
  {
   "cell_type": "markdown",
   "metadata": {},
   "source": [
    "## Goals\n",
    "* Work on project\n",
    "* Work on interview\n",
    "\n",
    "## Issues\n",
    "* [plan issue](https://github.com/VINERAJ/CSAblog2.0/issues/15)"
   ]
  }
 ],
 "metadata": {
  "language_info": {
   "name": "python"
  }
 },
 "nbformat": 4,
 "nbformat_minor": 2
}
