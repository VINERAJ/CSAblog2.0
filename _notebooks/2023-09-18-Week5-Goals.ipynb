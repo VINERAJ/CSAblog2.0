{
 "cells": [
  {
   "cell_type": "markdown",
   "metadata": {},
   "source": [
    "---\n",
    "toc: true\n",
    "comments: true\n",
    "layout: post\n",
    "title: Week 5 Goals\n",
    "description: My goals for week 5\n",
    "courses: { compsci: {week: 5} }\n",
    "type: plans\n",
    "---"
   ]
  },
  {
   "cell_type": "markdown",
   "metadata": {},
   "source": [
    "## Goals\n",
    "* Work on AP CSA FRQs\n",
    "    * Get ready for peer presentation\n",
    "* Begin working on lesson teaching(primitive types/using classes)"
   ]
  },
  {
   "cell_type": "markdown",
   "metadata": {},
   "source": [
    "## FRQs/lesson\n",
    "[Linked here](https://github.com/BobTheFarmer/VACTQ-Lesson)"
   ]
  }
 ],
 "metadata": {
  "language_info": {
   "name": "python"
  },
  "orig_nbformat": 4
 },
 "nbformat": 4,
 "nbformat_minor": 2
}
