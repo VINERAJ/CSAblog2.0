{
 "cells": [
  {
   "cell_type": "markdown",
   "metadata": {},
   "source": [
    "---\n",
    "toc: true\n",
    "comments: true\n",
    "layout: post\n",
    "title: Week 0 Goals\n",
    "description: My goals for week 0\n",
    "courses: { compsci: {week: 0} }\n",
    "type: plans\n",
    "---"
   ]
  },
  {
   "cell_type": "markdown",
   "metadata": {},
   "source": [
    "## Week 0\n",
    "Goals:\n",
    "* set up tools\n",
    "\n",
    "Tangibles:\n",
    "* Freeform drawing:\n",
    "![A beautiful picture of me!](/CSAblog/Me.jpg \"Me\")"
   ]
  }
 ],
 "metadata": {
  "language_info": {
   "name": "python"
  },
  "orig_nbformat": 4
 },
 "nbformat": 4,
 "nbformat_minor": 2
}
