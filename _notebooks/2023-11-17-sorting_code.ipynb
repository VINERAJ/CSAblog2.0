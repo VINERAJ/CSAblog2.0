{
 "cells": [
  {
   "cell_type": "markdown",
   "metadata": {},
   "source": [
    "---\n",
    "toc: true\n",
    "comments: true\n",
    "layout: post\n",
    "title: sorting code\n",
    "description: Making code for sorting algos\n",
    "courses: { compsci: {week: 13} }\n",
    "type: tangibles\n",
    "---"
   ]
  },
  {
   "cell_type": "code",
   "execution_count": 20,
   "metadata": {
    "vscode": {
     "languageId": "java"
    }
   },
   "outputs": [
    {
     "name": "stdout",
     "output_type": "stream",
     "text": [
      "[red, blue, pink, green, yellow, purple, fuschia]\n"
     ]
    }
   ],
   "source": [
    "import java.util.ArrayList;\n",
    "\n",
    "public class Sort {\n",
    "    public static ArrayList <String> songTitles = new ArrayList<String>();\n",
    "    public Sort(ArrayList <String> songTitles) {\n",
    "        this.songTitles = songTitles;\n",
    "    }\n",
    "    public static int getLength(String title) {\n",
    "        return title.length();\n",
    "    }\n",
    "}\n",
    "\n",
    "// Bubble sort\n",
    "public class BubbleSort extends Sort {\n",
    "    public BubbleSort(ArrayList <String> songTitles) {\n",
    "        super(songTitles);\n",
    "    }\n",
    "    public static void DoBubbleSort(String title) {\n",
    "        songTitles.add(title);\n",
    "        int arrayListLength = songTitles.size();\n",
    "        if (arrayListLength==0) {\n",
    "            System.out.println(\"yeah\");\n",
    "        } else {\n",
    "            String temp = \"\";\n",
    "            for (int i = 0; i<arrayListLength; i++) {\n",
    "                for (int j=1; j<(arrayListLength-i); j++) {\n",
    "                    if (getLength(songTitles.get(j-1))>getLength(songTitles.get(j))) {\n",
    "                        temp = songTitles.get(j-1);\n",
    "                        songTitles.set(j-1, songTitles.get(j));\n",
    "                        songTitles.set(j, temp);\n",
    "                    }\n",
    "                }\n",
    "            }\n",
    "        }\n",
    "    }\n",
    "}\n",
    "\n",
    "public class InsertionSort extends Sort {\n",
    "    public InsertionSort(ArrayList <String> songTitles) {\n",
    "        super(songTitles);\n",
    "    }\n",
    "\n",
    "    public static void DoInsertionSort(String title) {\n",
    "        songTitles.add(title);\n",
    "        int arrayListLength = songTitles.size();\n",
    "        if (arrayListLength==0) {\n",
    "            System.out.println(\"yeah\");\n",
    "        } else {\n",
    "            for (int i = 0; i<arrayListLength; i++) {\n",
    "                String temp = songTitles.get(i);\n",
    "                int j = i-1;\n",
    "                while (j >= 0 && getLength(songTitles.get(j)) > getLength(temp)) {\n",
    "                    songTitles.set(j+1, songTitles.get(j));\n",
    "                    j=j-1;\n",
    "                }\n",
    "                songTitles.set(j+1, temp);\n",
    "            }\n",
    "        }\n",
    "    }\n",
    "}\n",
    "\n",
    "public class Test {\n",
    "    public static void main(String[] args) {\n",
    "        ArrayList <String> songTitles = new ArrayList<String>();\n",
    "        songTitles.add(\"blue\");\n",
    "        songTitles.add(\"fuschia\");\n",
    "        songTitles.add(\"pink\");\n",
    "        songTitles.add(\"red\");\n",
    "        songTitles.add(\"yellow\");\n",
    "        songTitles.add(\"purple\");\n",
    "        InsertionSort insert = new InsertionSort(songTitles);\n",
    "        insert.DoInsertionSort(\"green\");\n",
    "        System.out.println(songTitles);\n",
    "    }\n",
    "}\n",
    "Test.main(null);"
   ]
  }
 ],
 "metadata": {
  "kernelspec": {
   "display_name": "Java",
   "language": "java",
   "name": "java"
  },
  "language_info": {
   "codemirror_mode": "java",
   "file_extension": ".jshell",
   "mimetype": "text/x-java-source",
   "name": "Java",
   "pygments_lexer": "java",
   "version": "11.0.20.1+1-post-Ubuntu-0ubuntu122.04"
  }
 },
 "nbformat": 4,
 "nbformat_minor": 2
}
