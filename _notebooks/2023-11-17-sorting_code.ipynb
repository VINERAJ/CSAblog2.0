{
 "cells": [
  {
   "cell_type": "markdown",
   "metadata": {},
   "source": [
    "---\n",
    "toc: true\n",
    "comments: true\n",
    "layout: post\n",
    "title: sorting code\n",
    "description: Making code for sorting algos\n",
    "courses: { compsci: {week: 13} }\n",
    "type: tangibles\n",
    "---"
   ]
  },
  {
   "cell_type": "code",
   "execution_count": 12,
   "metadata": {
    "vscode": {
     "languageId": "java"
    }
   },
   "outputs": [
    {
     "name": "stdout",
     "output_type": "stream",
     "text": [
      "[red, blue, green, yellow]\n"
     ]
    }
   ],
   "source": [
    "import java.util.ArrayList;\n",
    "\n",
    "public class Sort {\n",
    "    public static ArrayList <String> songTitles = new ArrayList<String>();\n",
    "    public Sort(ArrayList <String> songTitles) {\n",
    "        this.songTitles = songTitles;\n",
    "    }\n",
    "    public static int getLength(String title) {\n",
    "        return title.length();\n",
    "    }\n",
    "}\n",
    "\n",
    "// Bubble sort\n",
    "public class BubbleSort extends Sort {\n",
    "    public BubbleSort(ArrayList <String> songTitles) {\n",
    "        super(songTitles);\n",
    "    }\n",
    "    public static void DoBubbleSort(String title) {\n",
    "        songTitles.add(title);\n",
    "        int arrayListLength = songTitles.size();\n",
    "        if (arrayListLength==0) {\n",
    "            System.out.println(\"yeah\");\n",
    "        } else {\n",
    "            String temp = \"\";\n",
    "            for (int i = 0; i<arrayListLength; i++) {\n",
    "                for (int j=1; j<(arrayListLength-i); j++) {\n",
    "                    if (getLength(songTitles.get(j-1))>getLength(songTitles.get(j))) {\n",
    "                        temp = songTitles.get(j-1);\n",
    "                        songTitles.set(j-1, songTitles.get(j));\n",
    "                        songTitles.set(j, temp);\n",
    "                    }\n",
    "                }\n",
    "            }\n",
    "        }\n",
    "    }\n",
    "}\n",
    "\n",
    "public class Test {\n",
    "    public static void main(String[] args) {\n",
    "        ArrayList <String> songTitles = new ArrayList<String>();\n",
    "        songTitles.add(\"blue\");\n",
    "        songTitles.add(\"red\");\n",
    "        songTitles.add(\"yellow\");\n",
    "        BubbleSort bubble = new BubbleSort(songTitles);\n",
    "        bubble.DoBubbleSort(\"green\");\n",
    "        System.out.println(songTitles);\n",
    "    }\n",
    "}\n",
    "Test.main(null);"
   ]
  }
 ],
 "metadata": {
  "kernelspec": {
   "display_name": "Java",
   "language": "java",
   "name": "java"
  },
  "language_info": {
   "codemirror_mode": "java",
   "file_extension": ".jshell",
   "mimetype": "text/x-java-source",
   "name": "Java",
   "pygments_lexer": "java",
   "version": "11.0.20.1+1-post-Ubuntu-0ubuntu122.04"
  }
 },
 "nbformat": 4,
 "nbformat_minor": 2
}
