{
 "cells": [
  {
   "cell_type": "markdown",
   "metadata": {},
   "source": [
    "---\n",
    "toc: True\n",
    "comments: True\n",
    "layout: post\n",
    "title: Algorythmic Review\n",
    "description: My individual review for the Algo-rythmic dance competition\n",
    "courses: {'compsci': {'week': 28}}\n",
    "type: tangibles\n",
    "---"
   ]
  },
  {
   "cell_type": "markdown",
   "metadata": {},
   "source": [
    "## Successes\n",
    "\n",
    "## Challenges\n",
    "* It was hard to organize practices, since we were split between two different CSA classes, not to mention the CSP members of our team, and the former CS students\n",
    "* In addition, some people prioritized their jobs and other classes over practicing for the dance-unavoidable\n"
   ]
  },
  {
   "cell_type": "markdown",
   "metadata": {},
   "source": [
    "## Example of Quick Sort Code:"
   ]
  },
  {
   "cell_type": "code",
   "execution_count": 3,
   "metadata": {
    "vscode": {
     "languageId": "java"
    }
   },
   "outputs": [
    {
     "name": "stdout",
     "output_type": "stream",
     "text": [
      "At the start, the array is: \n",
      "6 4 3 1 7 2 8 5  \n",
      "\n",
      "The array at this point in the program:\n",
      " \n",
      "4 6 3 1 7 2 8 5 \n",
      "The array at this point in the program:\n",
      " \n",
      "4 3 6 1 7 2 8 5 \n",
      "The array at this point in the program:\n",
      " \n",
      "4 3 1 6 7 2 8 5 \n",
      "The array at this point in the program:\n",
      " \n",
      "4 3 1 2 7 6 8 5 \n",
      "The array at this point in the program:\n",
      " \n",
      "4 3 1 2 5 6 8 7 \n",
      "The pivot is: 5\n",
      "\n",
      "The array at this point in the program:\n",
      " \n",
      "1 3 4 2 5 6 8 7 \n",
      "The array at this point in the program:\n",
      " \n",
      "1 2 4 3 5 6 8 7 \n",
      "The pivot is: 2\n",
      "\n",
      "The array at this point in the program:\n",
      " \n",
      "1 2 3 4 5 6 8 7 \n",
      "The pivot is: 3\n",
      "\n",
      "The array at this point in the program:\n",
      " \n",
      "1 2 3 4 5 6 8 7 \n",
      "The array at this point in the program:\n",
      " \n",
      "1 2 3 4 5 6 7 8 \n",
      "The pivot is: 7\n",
      "\n",
      "The final array is: \n",
      "1 2 3 4 5 6 7 8 \n",
      "And it took 18 milliseconds to complete\n"
     ]
    }
   ],
   "source": [
    "public class OrangeCarton {\n",
    "    int[] orangeJuice = new int[8];\n",
    "    public OrangeCarton(int[] orangeJuice) {\n",
    "        this.orangeJuice = orangeJuice;//initialize array of orange juice(represented by numbers)\n",
    "    }\n",
    "    public void swap(int i, int j) {\n",
    "        int temp = orangeJuice[i];\n",
    "        orangeJuice[i] = orangeJuice[j];//swap values in the array\n",
    "        orangeJuice[j] = temp;\n",
    "        System.out.println(\"\\nThe array at this point in the program:\\n \");\n",
    "        for(int k = 0; k<orangeJuice.length; k++) {\n",
    "            System.out.print(orangeJuice[k] + \" \");\n",
    "        }\n",
    "    }\n",
    "\n",
    "    public int partition(int low, int high) {\n",
    "        int pivot = orangeJuice[high];\n",
    "        int i = low-1;\n",
    "        for(int j = low; j <= high-1; j++) {//determines where the array is split\n",
    "            if (orangeJuice[j] < pivot) {\n",
    "                i++;\n",
    "                swap(i, j);\n",
    "            }\n",
    "        }\n",
    "        swap(i+1, high);\n",
    "        System.out.println(\"\\nThe pivot is: \" + pivot);\n",
    "        return (i+1);\n",
    "    }\n",
    "\n",
    "    public void quickSort(int low, int high) {//main quick sort method\n",
    "        if (low < high) {\n",
    "            int partInd = partition(low, high);\n",
    "            quickSort(low, partInd-1);\n",
    "            quickSort(partInd+1, high);\n",
    "        }\n",
    "    }\n",
    "}\n",
    "\n",
    "public class Test {\n",
    "    public static void main(String[] args) {\n",
    "        int[] arr = {6, 4, 3, 1, 7, 2, 8, 5};\n",
    "        OrangeCarton orangeCarton = new OrangeCarton(arr);\n",
    "        int arrLen = arr.length;\n",
    "        System.out.println(\"At the start, the array is: \");\n",
    "        for(int i = 0; i<arr.length; i++) {\n",
    "            System.out.print(arr[i] + \" \");\n",
    "        }\n",
    "        System.out.println(\" \");\n",
    "        long start = System.currentTimeMillis();\n",
    "        orangeCarton.quickSort(0, arrLen-1);\n",
    "        long finish = System.currentTimeMillis();\n",
    "        long timeElapsed = finish - start;\n",
    "        System.out.println(\"\\nThe final array is: \");\n",
    "        for(int i = 0; i<arr.length; i++) {\n",
    "            System.out.print(arr[i] + \" \");\n",
    "        }\n",
    "        System.out.println(\"\\nAnd it took \" + timeElapsed + \" milliseconds to complete\");\n",
    "    }\n",
    "}\n",
    "Test.main(null);\n"
   ]
  }
 ],
 "metadata": {
  "kernelspec": {
   "display_name": "Java",
   "language": "java",
   "name": "java"
  },
  "language_info": {
   "codemirror_mode": "java",
   "file_extension": ".jshell",
   "mimetype": "text/x-java-source",
   "name": "Java",
   "pygments_lexer": "java",
   "version": "21.0.2+13-LTS"
  }
 },
 "nbformat": 4,
 "nbformat_minor": 2
}
