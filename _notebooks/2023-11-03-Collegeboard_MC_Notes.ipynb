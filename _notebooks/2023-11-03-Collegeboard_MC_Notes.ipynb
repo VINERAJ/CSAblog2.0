{
 "cells": [
  {
   "cell_type": "markdown",
   "metadata": {},
   "source": [
    "---\n",
    "toc: True\n",
    "comments: True\n",
    "layout: post\n",
    "title: MC Notes\n",
    "description: Notes and Corrections for the College Board MC\n",
    "courses: {'compsci': {'week': 12}}\n",
    "type: hacks\n",
    "---"
   ]
  },
  {
   "cell_type": "markdown",
   "metadata": {},
   "source": [
    "## Things I had to search up\n",
    "* Question 12: .length is for arrays, .length() is for Strings, how .substring() works\n",
    "* Question 22: how the toString() method works"
   ]
  },
  {
   "cell_type": "markdown",
   "metadata": {},
   "source": [
    "## Score + Quiz Reflection\n",
    "* Score: 27/40\n",
    "* Could have been more efficient/faster"
   ]
  },
  {
   "cell_type": "markdown",
   "metadata": {},
   "source": [
    "## Corrections\n",
    "* Question 12: C, will not result in error, prints out \"optr\"\n",
    "![Image](/CSAblog/cbpt3 \"Image\")\n",
    "* Question 15: A, II will result in an ArrayIndexOutOfBoundsException, so its only I\n",
    "![Image](/CSAblog/cbpt1 \"Image\")\n",
    "* Question 19: B, Opposite of > is <=\n",
    "![Image](/CSAblog/cbpt2 \"Image\")\n",
    "* Question 22: B, books is an array of books, can't call methods in the AudioBook subclass\n",
    "* Question 23: B, Would be D if k>0\n",
    "* Question 25: D, II also works\n",
    "* Question 28: E, n can be less than one at the start\n",
    "* Question 30: C, not an error\n",
    "* Question 33: E, k is always less than 4\n",
    "* Question 34: B, x and y cannot be accessed outside the method\n",
    "* Question 36: C, 12 is even\n",
    "* Question 39: D, returns 16\n",
    "* Questions 40: C, starts with W"
   ]
  }
 ],
 "metadata": {
  "language_info": {
   "name": "python"
  }
 },
 "nbformat": 4,
 "nbformat_minor": 2
}
