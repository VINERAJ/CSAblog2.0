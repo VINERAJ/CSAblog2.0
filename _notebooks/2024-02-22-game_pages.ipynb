{
 "cells": [
  {
   "cell_type": "markdown",
   "metadata": {},
   "source": [
    "---\n",
    "toc: True\n",
    "comments: True\n",
    "layout: post\n",
    "title: Game Pages\n",
    "description: Various game pages in our project\n",
    "courses: {'compsci': {'week': 22}}\n",
    "type: tangibles\n",
    "---"
   ]
  },
  {
   "cell_type": "code",
   "execution_count": null,
   "metadata": {
    "vscode": {
     "languageId": "html"
    }
   },
   "outputs": [],
   "source": [
    "<!-- ## Listing of games\n",
    "<head></head>\n",
    "<style>\n",
    "    .page-content {\n",
    "        background-image: url('/BinaryWizards/images/logo.png');\n",
    "        background-repeat: no-repeat;\n",
    "        background-color: #000000;\n",
    "    }\n",
    "\n",
    "    .account {\n",
    "        height: 100px;\n",
    "        width: 1200px;\n",
    "        padding: 20px;\n",
    "        border-radius: 100px;\n",
    "        border-color: rgb(255, 255, 255);\n",
    "        background-color: rgb(96, 94, 112);\n",
    "        text-align: left;\n",
    "    }\n",
    "\n",
    "    body {\n",
    "        font-family: Arial, sans-serif;\n",
    "        margin: 0;\n",
    "        padding: 0;\n",
    "    }\n",
    "\n",
    "    label {\n",
    "        display: block;\n",
    "        margin-bottom: 10px;\n",
    "    }\n",
    "\n",
    "    .binary {\n",
    "        width: 1000px;\n",
    "        height: 100px;\n",
    "        margin: 0;\n",
    "        text-align: center;\n",
    "        background-image: url('/BinaryWizards/images/binary1.png');\n",
    "    }\n",
    "\n",
    "    .binaryButton:hover {\n",
    "        text-decoration: underline;\n",
    "    }\n",
    "\n",
    "</style>\n",
    "<body>\n",
    "    <div class=\"account\">\n",
    "        <label id=\"welcomeMessage\"></label>\n",
    "        <button class=\"accountButton\" onclick=\"accountPage()\">My Account</button>\n",
    "    </div>\n",
    "    <div class=\"binary\">\n",
    "        <button class=\"binaryButton\" onclick=\"gobinary()\">Binary!</button>\n",
    "        <label class=\"binaryScore\" id=\"binaryScore\"></label>\n",
    "    </div>\n",
    "    <script>\n",
    "        username = sessionStorage.getItem(\"username\")\n",
    "        binaryScore = sessionStorage.getItem(\"binaryScore\");\n",
    "        document.getElementById(\"welcomeMessage\").innerHTML = \"Welcome, \" + username + \"!\"\n",
    "        document.getElementById(\"binaryScore\").innerHTML = \"Your high score: \" + binaryScore;\n",
    "        function gobinary() {\n",
    "            window.location.replace(\"/BinaryWizards/binary2/\");\n",
    "        }\n",
    "        function accountPage() {\n",
    "            window.location.replace(\"/BinaryWizards/account/\");\n",
    "        }\n",
    "    </script>\n",
    "</body> -->\n"
   ]
  },
  {
   "cell_type": "code",
   "execution_count": null,
   "metadata": {
    "vscode": {
     "languageId": "html"
    }
   },
   "outputs": [],
   "source": [
    "## Account page\n",
    "<head></head>\n",
    "<body>\n",
    "    <div>\n",
    "        <label id=\"accountName\"></label>\n",
    "        <button id=\"logout\" onclick=\"logout()\">Logout</button>\n",
    "    </div>\n",
    "</body>\n",
    "<script>\n",
    "    username = sessionStorage.getItem(\"username\")\n",
    "    document.getElementById(\"accountName\").innerHTML = username;\n",
    "    function logout() {\n",
    "        sessionStorage.clear();\n",
    "        window.location.replace(\"/BinaryWizards/login/\")\n",
    "    }\n",
    "</script>"
   ]
  }
 ],
 "metadata": {
  "language_info": {
   "name": "python"
  }
 },
 "nbformat": 4,
 "nbformat_minor": 2
}
