{
 "cells": [
  {
   "cell_type": "markdown",
   "metadata": {},
   "source": [
    "---\n",
    "toc: true\n",
    "comments: true\n",
    "layout: post\n",
    "title: Week 6 Goals\n",
    "description: My goals for week 6\n",
    "courses: { compsci: {week: 6} }\n",
    "type: plans\n",
    "---"
   ]
  },
  {
   "cell_type": "markdown",
   "metadata": {},
   "source": [
    "## Goals\n",
    "* work on AP CSA FRQs\n",
    "* Get primitive Types ready for presentation\n",
    "* Ideas for passion project"
   ]
  },
  {
   "cell_type": "markdown",
   "metadata": {},
   "source": [
    "## FRQs and Lesson\n",
    "[Linked here](https://github.com/BobTheFarmer/VACTQ-Lesson)"
   ]
  },
  {
   "cell_type": "markdown",
   "metadata": {},
   "source": [
    "## Passion Project Ideas\n",
    "[Linked here](https://github.com/BobTheFarmer/VACTQ-Lesson/issues/2)"
   ]
  }
 ],
 "metadata": {
  "language_info": {
   "name": "python"
  },
  "orig_nbformat": 4
 },
 "nbformat": 4,
 "nbformat_minor": 2
}
