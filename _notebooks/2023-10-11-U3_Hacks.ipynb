{
 "cells": [
  {
   "cell_type": "markdown",
   "metadata": {},
   "source": [
    "---\n",
    "toc: true\n",
    "comments: true\n",
    "layout: post\n",
    "title: U3 Hacks\n",
    "description: Lessons\n",
    "courses: { compsci: {week: 8} }\n",
    "type: tangibles\n",
    "---"
   ]
  },
  {
   "cell_type": "code",
   "execution_count": 40,
   "metadata": {},
   "outputs": [
    {
     "name": "stdout",
     "output_type": "stream",
     "text": [
      "yes\n",
      "yes\n",
      "They are the same\n",
      "23\n"
     ]
    }
   ],
   "source": [
    "public class comparing {\n",
    "    public static String compareString(String string1, String string2) {\n",
    "        String bigString = \"\";\n",
    "        int yeah = string1.compareTo(string2);\n",
    "        if (yeah>0) {\n",
    "            bigString = string1;\n",
    "        }\n",
    "        else if (yeah<0) {\n",
    "            bigString = string2;\n",
    "        }\n",
    "        else {\n",
    "            bigString = \"They are the same\";\n",
    "        }\n",
    "        return bigString;\n",
    "    }\n",
    "\n",
    "    public static int compareInt(int int1, int int2) {\n",
    "        int greater = 0;\n",
    "        if (int1>int2) {\n",
    "            greater = int1;\n",
    "        }\n",
    "        else if (int2>int1) {\n",
    "            greater = int2;\n",
    "        }\n",
    "        return greater;\n",
    "    }\n",
    "\n",
    "    public static void main(String[] args) {\n",
    "        System.out.println(compareString(\"no\", \"yes\"));\n",
    "        System.out.println(compareString(\"yes\", \"rag\"));\n",
    "        System.out.println(compareString(\"yes\", \"yes\"));\n",
    "        System.out.println(compareInt(17, 23));\n",
    "    }\n",
    "}\n",
    "comparing.main(null);"
   ]
  },
  {
   "cell_type": "markdown",
   "metadata": {},
   "source": [
    "## Weird Questions\n",
    "1. !(true)&&(false) = false\n",
    "2. not ((((true and not (false)) ^ false) ^ true) && false) = true\n",
    "3. !A * !(B + !C) = !A * (!B * C)\n",
    "!(A + (B + !C)) = !A * !(B + !C)\n",
    "!(A + (B + !C)) = !(A + (B + !C))\n",
    "4. 420 && 66\n",
    "110100100 && 1000010\n",
    "000000000\n",
    "Bonus: 89 OR 42\n",
    "1011001 OR 101010\n",
    "0001000"
   ]
  },
  {
   "cell_type": "markdown",
   "metadata": {},
   "source": [
    "## Testing for Weird Questions"
   ]
  },
  {
   "cell_type": "code",
   "execution_count": 22,
   "metadata": {},
   "outputs": [
    {
     "name": "stdout",
     "output_type": "stream",
     "text": [
      "false\n",
      "true\n"
     ]
    }
   ],
   "source": [
    "System.out.println(!(true)&&(false));\n",
    "System.out.println(!((((true && !(false)) ^ false) ^ true) && false));\n",
    "// System.out.println(!A * !(B + !C) = !A * (!B * C));"
   ]
  }
 ],
 "metadata": {
  "kernelspec": {
   "display_name": "Java",
   "language": "java",
   "name": "java"
  },
  "language_info": {
   "codemirror_mode": "java",
   "file_extension": ".jshell",
   "mimetype": "text/x-java-source",
   "name": "java",
   "pygments_lexer": "java",
   "version": "11.0.20+8-post-Ubuntu-1ubuntu122.04"
  }
 },
 "nbformat": 4,
 "nbformat_minor": 2
}
