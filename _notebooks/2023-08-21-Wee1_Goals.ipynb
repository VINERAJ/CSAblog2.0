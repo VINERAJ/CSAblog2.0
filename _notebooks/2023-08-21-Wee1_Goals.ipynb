{
 "cells": [
  {
   "cell_type": "markdown",
   "metadata": {},
   "source": [
    "---\n",
    "toc: true\n",
    "comments: true\n",
    "layout: post\n",
    "title: Week 1 Goals\n",
    "description: Plan for week 1 \n",
    "courses: { compsci: {week: 1} }\n",
    "type: plans\n",
    "---"
   ]
  },
  {
   "cell_type": "markdown",
   "metadata": {},
   "source": [
    "## Week 1\n",
    "Goals:\n",
    "* download tools\n",
    "* get github pages working\n",
    "* Get local hosting ready"
   ]
  }
 ],
 "metadata": {
  "language_info": {
   "name": "python"
  },
  "orig_nbformat": 4
 },
 "nbformat": 4,
 "nbformat_minor": 2
}
