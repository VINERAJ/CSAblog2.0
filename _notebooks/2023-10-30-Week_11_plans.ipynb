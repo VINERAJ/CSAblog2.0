{
 "cells": [
  {
   "cell_type": "markdown",
   "metadata": {},
   "source": [
    "---\n",
    "toc: True\n",
    "comments: True\n",
    "layout: post\n",
    "title: Week 11 Goals\n",
    "description: My goals for week 11\n",
    "courses: {'compsci': {'week': 11}}\n",
    "type: plans\n",
    "---"
   ]
  },
  {
   "cell_type": "markdown",
   "metadata": {},
   "source": [
    "## Plans\n",
    "* Work on Passion Project-Integration\n",
    "* N@tM\n",
    "* u9 and u10"
   ]
  },
  {
   "cell_type": "markdown",
   "metadata": {},
   "source": [
    "## Links\n",
    "* [Frontend](https://github.com/BobTheFarmer/VACTQ-Typing-Game)\n",
    "* [Backend](https://github.com/BobTheFarmer/VACTQ-Backend4)\n",
    "* [u9](https://github.com/BobTheFarmer/VACTQ-Lesson/issues/12)\n",
    "* [u10](https://github.com/BobTheFarmer/VACTQ-Lesson/issues/11)"
   ]
  }
 ],
 "metadata": {
  "language_info": {
   "name": "python"
  }
 },
 "nbformat": 4,
 "nbformat_minor": 2
}
