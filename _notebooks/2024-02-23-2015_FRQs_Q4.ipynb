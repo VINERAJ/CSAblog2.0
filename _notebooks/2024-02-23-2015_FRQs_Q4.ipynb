{
 "cells": [
  {
   "cell_type": "markdown",
   "metadata": {},
   "source": [
    "---\n",
    "toc: True\n",
    "comments: True\n",
    "layout: post\n",
    "title: 2015 CSA FRQ Question 4\n",
    "description: Completing each FRQ so it runs, and blogging about relation to final project\n",
    "courses: {'compsci': {'week': 24}}\n",
    "type: tangibles\n",
    "---"
   ]
  },
  {
   "cell_type": "markdown",
   "metadata": {},
   "source": [
    "## Question 4\n",
    "This question involves the design of an interface, writing a class that implements the interface, and writing a method that uses the interface."
   ]
  },
  {
   "cell_type": "markdown",
   "metadata": {},
   "source": [
    "(a) A number group represents a group of integers defined in some way. It could be empty, or it could contain one or more integers.\n",
    "\n",
    "Write an interface named NumberGroup that represents a group of integers. The interface should have a single contains method that determines if a given integer is in the group. For example, if group1 is of type NumberGroup, and it contains only the two numbers -5 and 3, then group1.contains(-5) would return true, and group1.contains(2) would return false.\n",
    "Write the complete NumberGroup interface. It must have exactly one method.\n",
    " "
   ]
  },
  {
   "cell_type": "code",
   "execution_count": 1,
   "metadata": {
    "vscode": {
     "languageId": "java"
    }
   },
   "outputs": [],
   "source": [
    "\n",
    "public interface NumberGroup { //The number Group interface\n",
    "    boolean contains(int checkNum); //contains method which will be implemented by following classes\n",
    "}"
   ]
  },
  {
   "cell_type": "markdown",
   "metadata": {},
   "source": [
    "(b) A range represents a number group that contains all (and only) the integers between a minimum value and a maximum value, inclusive.\n",
    "Write the Range class, which is a NumberGroup. The Range class represents the group of int values that range from a given minimum value up through a given maximum value, inclusive. For example,the declaration\n",
    "\n",
    "NumberGroup range1 = new Range(-3, 2);\n",
    "\n",
    "\n",
    " \n",
    "\n",
    "represents the group of integer values -3, -2, -1, 0, 1, 2.\n",
    "\n",
    "Write the complete Range class. Include all necessary instance variables and methods as well as a constructor that takes two int parameters. The first parameter represents the minimum value, and the second parameter represents the maximum value of the range. You may assume that the minimum is less than or equal to the maximum."
   ]
  },
  {
   "cell_type": "code",
   "execution_count": 2,
   "metadata": {
    "vscode": {
     "languageId": "java"
    }
   },
   "outputs": [
    {
     "name": "stdout",
     "output_type": "stream",
     "text": [
      "Does this range contain 3? false\n",
      "Does this range contain 0? true\n"
     ]
    }
   ],
   "source": [
    "\n",
    "public interface NumberGroup { \n",
    "    boolean contains(int checkNum); \n",
    "}\n",
    "\n",
    "public class Range implements NumberGroup {\n",
    "    private List<Integer> numGroup = new ArrayList<Integer>();\n",
    "    public Range(int start, int end) {\n",
    "        for (int i=start; i<end+1; i++) {//adds all integers in the range to the array list\n",
    "            numGroup.add(i);\n",
    "        }\n",
    "    }\n",
    "    public boolean contains(int checkNum) {//checks the lst to see if the number inputted by the user is present\n",
    "        for (int num : numGroup) {\n",
    "            if (checkNum==num) {\n",
    "                return true;\n",
    "            }\n",
    "        }\n",
    "        return false;\n",
    "    }\n",
    "}\n",
    "\n",
    "Range range1 = new Range(-3, 2);\n",
    "System.out.println(\"Does this range contain 3? \" + range1.contains(3));\n",
    "System.out.println(\"Does this range contain 0? \" + range1.contains(0));"
   ]
  },
  {
   "cell_type": "markdown",
   "metadata": {},
   "source": [
    "(c) The MultipleGroups class (not shown) represents a collection of NumberGroup objects and isa NumberGroup. The MultipleGroups class stores the number groups in the instance variable groupList (shown below), which is initialized in the constructor.\n",
    "\n",
    "private List<NumberGroup> groupList;\n",
    "\n",
    "Write the MultipleGroups method contains. The method takes an integer and returns true if and only if the integer is contained in one or more of the number groups in groupList.\n",
    "\n",
    "For example, suppose multiple1 has been declared as an instance of MultipleGroups and consists of the three ranges created by the calls new Range(5, 8), new Range(10, 12), and new Range(1, 6). The following table shows the results of several calls to contains."
   ]
  },
  {
   "cell_type": "code",
   "execution_count": 3,
   "metadata": {
    "vscode": {
     "languageId": "java"
    }
   },
   "outputs": [
    {
     "name": "stdout",
     "output_type": "stream",
     "text": [
      "Do the multiple groups contain 2? true\n",
      "Do the multiple groups contain 20? false\n"
     ]
    }
   ],
   "source": [
    "\n",
    "    public interface NumberGroup { \n",
    "        boolean contains(int checkNum); \n",
    "    }\n",
    "\n",
    "    public class Range implements NumberGroup {\n",
    "        private List<Integer> numGroup = new ArrayList<Integer>();\n",
    "        public Range(int start, int end) {\n",
    "            for (int i=start; i<end+1; i++) {\n",
    "                numGroup.add(i);\n",
    "            }\n",
    "        }\n",
    "        public boolean contains(int checkNum) {\n",
    "            for (int num : numGroup) {\n",
    "                if (checkNum==num) {\n",
    "                    return true;\n",
    "                }\n",
    "            }\n",
    "            return false;\n",
    "        }\n",
    "    }\n",
    "\n",
    "    public class MultipleGroups implements NumberGroup {\n",
    "        private List<NumberGroup> groupList = new ArrayList<>();\n",
    "        public MultipleGroups(List<NumberGroup> groupList) {//adds the list of NumberGroups inputted by user to the array list\n",
    "            this.groupList = groupList;\n",
    "        }\n",
    "        public boolean contains(int checkNum) {//checks if any of the NumberGroups contain the number inputted by user\n",
    "            for(NumberGroup group : groupList) {\n",
    "                boolean doesContain = group.contains(checkNum);\n",
    "                if (doesContain==true) {\n",
    "                    return true;\n",
    "                }\n",
    "            }\n",
    "            return false;\n",
    "        }\n",
    "    }\n",
    "\n",
    "List<NumberGroup> newList = new ArrayList<>();\n",
    "newList.add(new Range(5,8));\n",
    "newList.add(new Range(10,12));\n",
    "newList.add(new Range(1,6));\n",
    "MultipleGroups mult1 = new MultipleGroups(newList);\n",
    "System.out.println(\"Do the multiple groups contain 2? \" + mult1.contains(2));\n",
    "System.out.println(\"Do the multiple groups contain 20? \" + mult1.contains(20));"
   ]
  },
  {
   "cell_type": "markdown",
   "metadata": {},
   "source": [
    "* FRQ Type: Interfaces (but also Methods and Control Structures)\n",
    "* How main algorithm shows FRQ type:\n",
    "\n",
    "This FRQ primarily involves interfaces, but it also involves methods and control structures. The NumberGroup class has a contains method, which is extended to the range and the multiple groups classes. In terms of control structures, it also uses for and if else loops. These are used to check whether the integers are in the number groups, through using for loops to iterate through the NumberGroups. In the MultipleGroups class, the contains method is overwritten so that it has a different implementation than the contains method in the NumberGroups class. The MultipleGroups class also uses for loops to check whether the integers are in any of the NumberGroups."
   ]
  }
 ],
 "metadata": {
  "kernelspec": {
   "display_name": "Java",
   "language": "java",
   "name": "java"
  },
  "language_info": {
   "codemirror_mode": "java",
   "file_extension": ".jshell",
   "mimetype": "text/x-java-source",
   "name": "Java",
   "pygments_lexer": "java",
   "version": "21.0.2+13-LTS"
  }
 },
 "nbformat": 4,
 "nbformat_minor": 2
}
