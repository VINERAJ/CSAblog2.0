{
 "cells": [
  {
   "cell_type": "markdown",
   "metadata": {},
   "source": [
    "---\n",
    "toc: True\n",
    "comments: True\n",
    "layout: post\n",
    "title: Week 20 Goals\n",
    "description: My goals for week 20\n",
    "courses: {'compsci': {'week': 20}}\n",
    "type: plans\n",
    "---"
   ]
  },
  {
   "cell_type": "markdown",
   "metadata": {},
   "source": [
    "## Goals\n",
    "* Work on Ideation Part B\n",
    "* Continue working on login system"
   ]
  },
  {
   "cell_type": "markdown",
   "metadata": {},
   "source": [
    "## Links\n",
    "* [Frontend](https://github.com/SortingMiniProject/BinaryWizards)\n",
    "* [Backend](https://github.com/SparkWizards/sparkwizbackend)"
   ]
  }
 ],
 "metadata": {
  "language_info": {
   "name": "python"
  }
 },
 "nbformat": 4,
 "nbformat_minor": 2
}
