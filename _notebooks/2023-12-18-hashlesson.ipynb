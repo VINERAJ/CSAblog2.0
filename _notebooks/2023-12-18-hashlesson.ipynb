{
 "cells": [
  {
   "cell_type": "markdown",
   "metadata": {},
   "source": [
    "---\n",
    "layout: post\n",
    "title: HashMap\n",
    "toc: true\n",
    "comments: true\n",
    "description: Lesson by Shaurya, James, and Shivansh\n",
    "courses: { csa: {week: 12} }\n",
    "type: hacks\n",
    "---"
   ]
  },
  {
   "cell_type": "markdown",
   "metadata": {},
   "source": [
    "# Key Concepts \n",
    "**Directions: Fill in the blanks, this is a Popcorn HACK**\n",
    "\n",
    "## Hashing\n",
    "- HashMap uses a hash function to map **keys** to their respective **buckets** .\n",
    "- A good hash function generates a unique hash code for each key, but **collisions** can still occur.\n",
    "- The hash map in Java does not maintain insertion order.\n",
    "\n",
    "## Performance\n",
    "\n",
    "- HashMap provides constant-time performance (O(1)) for get() and put() operations.\n",
    "- Performance can degrade to O(n) in the worst case, especially if there are many hash collisions.\n",
    "\n",
    "## Key and Value Types\n",
    "\n",
    "- HashMap allows any **non-null** object as a key and any **object** (including null) as a value.\n",
    "- For a class to be used as a key, it must implement the **equals()** and **hashCode()** methods.\n",
    "\n",
    "## Iteration:\n",
    "\n",
    "- HashMap provides methods like keySet(), values(), and entrySet() for iterating over key-value pairs.\n",
    "- The entrySet() method returns a Set view of key-value pairs, allowing for **iteration** and **modification**.\n",
    "\n",
    "## Thread Safety\n",
    "\n",
    "- HashMap is not thread-safe. For thread-safe operations, use ConcurrentHashMap."
   ]
  },
  {
   "cell_type": "markdown",
   "metadata": {},
   "source": [
    "\n",
    "# What is HashMap\n",
    "A HashMap store items in \"key/value\" pairs, and you can access them by an index of another type (e.g. a String).\n",
    "\n",
    "One object is used as a key (index) to another object (value). It can store different types: String keys and Integer values, or the same type, like: String keys and String values:\n"
   ]
  },
  {
   "cell_type": "markdown",
   "metadata": {},
   "source": [
    "## Creating HashMap in Java\n"
   ]
  },
  {
   "cell_type": "code",
   "execution_count": 1,
   "metadata": {
    "vscode": {
     "languageId": "java"
    }
   },
   "outputs": [
    {
     "name": "stdout",
     "output_type": "stream",
     "text": [
      "Successfully created a HashMap which stores items in key/value pairs\n"
     ]
    }
   ],
   "source": [
    "import java.util.HashMap; // import the HashMap class\n",
    "\n",
    "public class CreateHashMap{\n",
    "    public static void main(String[] args){\n",
    "        // Generating the HashMap\n",
    "    HashMap<String, String> capitalCities = new HashMap<String, String>();\n",
    "    // Adding key/value pairs to the HashMap to store\n",
    "            capitalCities.put(\"America\", \"D.C\");\n",
    "            capitalCities.put(\"Germany\", \"Berlin\");\n",
    "            capitalCities.put(\"United Kingdom\", \"London\");\n",
    "            capitalCities.put(\"India\", \"Delhi\");\n",
    "            capitalCities.put(\"Afghanistan\", \"Delhi\");\n",
    "            capitalCities.put(\"Bangladesh\", \"Dhaka\");\n",
    "            \n",
    "            System.out.println(\"Successfully created a HashMap which stores items in key/value pairs\");\n",
    "    }\n",
    "}\n",
    "\n",
    "CreateHashMap.main(null);\n",
    "\n"
   ]
  },
  {
   "cell_type": "markdown",
   "metadata": {},
   "source": [
    "# Methods in HashMap"
   ]
  },
  {
   "cell_type": "code",
   "execution_count": null,
   "metadata": {
    "vscode": {
     "languageId": "java"
    }
   },
   "outputs": [
    {
     "name": "stdout",
     "output_type": "stream",
     "text": [
      "25\n",
      "4\n",
      "The set is: [Travis Kelce=34, Shivansh=25, Shaurya=30, Patrick Mahomes=28]\n",
      "Is the key 'Shivansh' present? true\n"
     ]
    }
   ],
   "source": [
    "\n",
    "import java.util.HashMap;\n",
    " \n",
    "public class ExampleHashMap {\n",
    "      public static void main(String[] args) {\n",
    "       \n",
    "      // Create a HashMap\n",
    "      HashMap<String, Integer> hashMap = new HashMap<>();\n",
    "       \n",
    "      // Add elements to the HashMap\n",
    "      hashMap.put(\"Shivansh\", 25);\n",
    "      hashMap.put(\"Shaurya\", 30);\n",
    "      hashMap.put(\"Patrick Mahomes\", 28);\n",
    "      hashMap.put(\"Travis Kelce\", 34);\n",
    "      hashMap.put(\"Tom Brady\", 46);\n",
    "       \n",
    "      // HashMap put() method in Java (Access elements in the HashMap)\n",
    "      System.out.println(hashMap.get(\"Shivansh\")); \n",
    "\n",
    "      // HashMap remove() method in Java (Remove an element from the HashMap)\n",
    "      hashMap.remove(\"Tom Brady\");\n",
    "       \n",
    "      // HashMap size() method in Java (Get the size of the HashMap)\n",
    "      System.out.println(hashMap.size()); \n",
    "\n",
    "      // HashMap entrySet() method in Java (Get the Entry Set)\n",
    "      System.out.println(\"The set is: \" + hashMap.entrySet()); \n",
    "\n",
    "      // HashMap containsKey() method in Java (check whether a particular key is being mapped into the HashMap or not)\n",
    "      System.out.println(\"Is the key 'Shivansh' present? \" + hashMap.containsKey(\"Shivansh\"));\n",
    "      \n",
    "      \n",
    "   }\n",
    "}\n",
    "ExampleHashMap.main(null);"
   ]
  },
  {
   "cell_type": "markdown",
   "metadata": {},
   "source": [
    "### Popcorn Hack 1\n",
    "Declare a Hashmap, and then research 5 different HashMap method which were not listed above and use them in your code just like the one above."
   ]
  },
  {
   "cell_type": "code",
   "execution_count": 18,
   "metadata": {
    "vscode": {
     "languageId": "java"
    }
   },
   "outputs": [
    {
     "name": "stdout",
     "output_type": "stream",
     "text": [
      "false\n",
      "true\n",
      "[California, Washington, Idaho]\n",
      "[Sacramento, Seattle, Boise]\n",
      "[]\n"
     ]
    }
   ],
   "source": [
    "// Code Here\n",
    "import java.util.HashMap;\n",
    "\n",
    "public class PopcornHashMap {\n",
    "    public static void main(String[] args) {\n",
    "        HashMap<String, String> hashMap2 = new HashMap<>();\n",
    "        hashMap2.put(\"California\", \"Sacramento\");\n",
    "        hashMap2.put(\"Washington\", \"Seattle\");\n",
    "        hashMap2.put(\"Idaho\", \"Boise\");\n",
    "        System.out.println(hashMap2.isEmpty());\n",
    "        System.out.println(hashMap2.containsValue(\"Seattle\"));\n",
    "        System.out.println(hashMap2.keySet());\n",
    "        System.out.println(hashMap2.values());\n",
    "        hashMap2.clear();\n",
    "        System.out.println(hashMap2.entrySet());\n",
    "    }\n",
    "}\n",
    "PopcornHashMap.main(null);"
   ]
  },
  {
   "cell_type": "markdown",
   "metadata": {},
   "source": [
    "# Traversing through HashMap\n",
    "\n",
    "In the code below, hash_map.entrySet() is used to return a set view of the mapped elements. Now, getValue() and getKey() functions, key-value pairs can be iterated."
   ]
  },
  {
   "cell_type": "code",
   "execution_count": null,
   "metadata": {
    "vscode": {
     "languageId": "java"
    }
   },
   "outputs": [
    {
     "name": "stdout",
     "output_type": "stream",
     "text": [
      "1 = Jalen Hurts\n",
      "2 = Dak Prescott\n",
      "3 = Josh Allen\n",
      "4 = Lamar Jackson\n",
      "5 = Brock Purdy\n"
     ]
    }
   ],
   "source": [
    "import java.util.HashMap;\n",
    "public class TraverseHashMap{\n",
    "public static void main(String[] args){\n",
    "   // Week 15 NFL Quarterback Rankings\n",
    "   HashMap<Integer, String> hash_map = new HashMap<>();\n",
    "   hash_map.put(1, \"Jalen Hurts\");\n",
    "   hash_map.put(2, \"Dak Prescott\");\n",
    "   hash_map.put(3, \"Josh Allen\");\n",
    "   hash_map.put(4, \"Lamar Jackson\");\n",
    "   hash_map.put(5, \"Brock Purdy\");\n",
    "    for (Map.Entry<Integer, String> set : hash_map.entrySet()) {\n",
    "        System.out.println(set.getKey() + \" = \" + set.getValue());\n",
    "    }\n",
    "}\n",
    "}\n",
    "TraverseHashMap.main(null);\n",
    "\n"
   ]
  },
  {
   "cell_type": "markdown",
   "metadata": {},
   "source": [
    "### Popcorn Hack 2 (Extra Credit)\n",
    "Try to find a different way to traverse a HashMap (Hint: try using a forEach function)"
   ]
  },
  {
   "cell_type": "code",
   "execution_count": 25,
   "metadata": {
    "vscode": {
     "languageId": "java"
    }
   },
   "outputs": [
    {
     "name": "stdout",
     "output_type": "stream",
     "text": [
      "California\n",
      "Washington\n",
      "Idaho\n"
     ]
    }
   ],
   "source": [
    "// Code Here\n",
    "import java.util.HashMap;\n",
    "\n",
    "public class PopcornHashMap2 {\n",
    "    public static void main(String[] args) {\n",
    "        HashMap<String, String> hash_Map2 = new HashMap<>();\n",
    "        hash_Map2.put(\"California\", \"Sacramento\");\n",
    "        hash_Map2.put(\"Washington\", \"Seattle\");\n",
    "        hash_Map2.put(\"Idaho\", \"Boise\");\n",
    "        hash_Map2.forEach((key, value) -> {\n",
    "            System.out.println(key);\n",
    "        });\n",
    "    }\n",
    "}\n",
    "PopcornHashMap2.main(null);"
   ]
  },
  {
   "cell_type": "markdown",
   "metadata": {},
   "source": [
    "# HashMaps in Java - Pet Registry Example "
   ]
  },
  {
   "cell_type": "code",
   "execution_count": 2,
   "metadata": {
    "vscode": {
     "languageId": "java"
    }
   },
   "outputs": [],
   "source": [
    "public class Pet {\n",
    "    private final String name;\n",
    "    private final int age;\n",
    "    private final String color;\n",
    "\n",
    "    public Pet(String name, int age, String color) {\n",
    "        this.name = name;\n",
    "        this.age = age;\n",
    "        this.color = color;\n",
    "    }\n",
    "\n",
    "    public String getName() {\n",
    "        return this.name;\n",
    "    }\n",
    "\n",
    "    public int getAge() {\n",
    "        return this.age;\n",
    "    }\n",
    "\n",
    "    public String getColor() {\n",
    "        return this.color;\n",
    "    }\n",
    "}\n"
   ]
  },
  {
   "cell_type": "code",
   "execution_count": 6,
   "metadata": {
    "vscode": {
     "languageId": "java"
    }
   },
   "outputs": [
    {
     "name": "stdout",
     "output_type": "stream",
     "text": [
      "Hobbes is a Calico Kitty and is 1 years old.\n",
      "Leo is a Gold Lion and is 8 years old.\n",
      "Porky is a Pink Pig and is 3 years old.\n",
      "Ro-Ro is a Red Robin and is 7 years old.\n",
      "Duke is a Brown Dog and is 14 years old.\n",
      "Midnight is a Black Cat and is 10 years old.\n",
      "\n",
      "Removed: Hobbes, REPL.$JShell$13$Pet@41a890b3\n",
      "Leo is a Gold Lion and is 8 years old.\n",
      "Porky is a Pink Pig and is 3 years old.\n",
      "Ro-Ro is a Red Robin and is 7 years old.\n",
      "Duke is a Brown Dog and is 14 years old.\n",
      "Midnight is a Black Cat and is 10 years old.\n",
      "\n"
     ]
    }
   ],
   "source": [
    "public class PetsRegistry {\n",
    "    \n",
    "    private HashMap<String, Pet> petRegistry = new HashMap<>(); // declares a private HashMap instance variable petRegistry\n",
    "    // Key Type String and Value Type Pet\n",
    "\n",
    "    public PetsRegistry() {\n",
    "        // Add some pets to the registry\n",
    "        petRegistry.put(\"Leo\", new Pet(\"Lion\", 8, \"Gold\"));\n",
    "        petRegistry.put(\"Porky\", new Pet(\"Pig\", 3, \"Pink\"));\n",
    "        petRegistry.put(\"Ro-Ro\", new Pet(\"Robin\", 7, \"Red\"));\n",
    "        petRegistry.put(\"Midnight\", new Pet(\"Cat\", 10, \"Black\"));\n",
    "        petRegistry.put(\"Hobbes\", new Pet(\"Kitty\", 1, \"Calico\"));\n",
    "        petRegistry.put(\"Duke\", new Pet(\"Dog\", 14, \"Brown\"));\n",
    "    }\n",
    "\n",
    "    public Pet removePet(String name) {\n",
    "        // Remove a pet by name\n",
    "        return petRegistry.remove(name);\n",
    "    }\n",
    "\n",
    "    public void printRegistry() {\n",
    "        // Iterate over the registry and print pet information\n",
    "        for (String name : petRegistry.keySet()) { // for each loop\n",
    "            Pet pet = petRegistry.get(name);\n",
    "            System.out.println(name + \" is a \" + pet.getColor() + \" \" + pet.getName() +\n",
    "                    \" and is \" + pet.getAge() + \" years old.\");\n",
    "        }\n",
    "        System.out.println();\n",
    "    }\n",
    "\n",
    "    public static void main(String[] args) {\n",
    "        // Initialize the pet registry\n",
    "        PetsRegistry petsRegistry = new PetsRegistry();\n",
    "        petsRegistry.printRegistry();\n",
    "\n",
    "        // Remove a pet\n",
    "        String petNameToRemove = \"Hobbes\";\n",
    "        Pet removedPet = petsRegistry.removePet(petNameToRemove);\n",
    "        if (removedPet == null) {\n",
    "            System.out.println(petNameToRemove + \" not found\");\n",
    "        } else {\n",
    "            System.out.println(\"Removed: \" + petNameToRemove + \", \" + removedPet);\n",
    "        }\n",
    "\n",
    "        // Print the updated registry\n",
    "        petsRegistry.printRegistry();\n",
    "    }\n",
    "}\n",
    "PetsRegistry.main(null)"
   ]
  },
  {
   "cell_type": "markdown",
   "metadata": {},
   "source": [
    "# Popcorn HACK 3 (Shaurya)"
   ]
  },
  {
   "cell_type": "code",
   "execution_count": 27,
   "metadata": {
    "vscode": {
     "languageId": "java"
    }
   },
   "outputs": [
    {
     "name": "stdout",
     "output_type": "stream",
     "text": [
      "Value for key 2: Banana\n",
      "Does the map contain key 4? false\n",
      "Updated HashMap:\n",
      "Key: 2, Value: Banana\n",
      "Key: 3, Value: Cherry\n"
     ]
    }
   ],
   "source": [
    "import java.util.HashMap;\n",
    "import java.util.Map;\n",
    "\n",
    "public class HashMapTest {\n",
    "    public static void main(String[] args) {\n",
    "        // Create a new HashMap with Integer keys and String values\n",
    "        Map<Integer, String> myMap = new HashMap<>();\n",
    "\n",
    "        // Add some key-value pairs to the HashMap\n",
    "        myMap.put(1, \"Apple\");\n",
    "        myMap.put(2, \"Banana\");\n",
    "        myMap.put(3, \"Cherry\");\n",
    "\n",
    "        // Fill in the blanks: Retrieve and print the value for key 2\n",
    "        String valueForKey2 = myMap.get(2);\n",
    "        System.out.println(\"Value for key 2: \" + valueForKey2);\n",
    "\n",
    "        // Fill in the blanks: Check if the HashMap contains key 4\n",
    "        boolean containsKey4 = myMap.containsKey(4);\n",
    "        System.out.println(\"Does the map contain key 4? \" + containsKey4);\n",
    "\n",
    "        // Fill in the blanks: Remove the entry with key 1 from the HashMap\n",
    "        myMap.remove(1);\n",
    "\n",
    "        // Print the updated contents of the HashMap\n",
    "        System.out.println(\"Updated HashMap:\");\n",
    "        for (Map.Entry<Integer, String> entry : myMap.entrySet()) {\n",
    "            System.out.println(\"Key: \" + entry.getKey() + \", Value: \" + entry.getValue());\n",
    "        }\n",
    "    }\n",
    "}\n",
    "HashMapTest.main(null);"
   ]
  },
  {
   "cell_type": "markdown",
   "metadata": {},
   "source": [
    "# Popcorn HACK 4 - Quiz (Shaurya)\n",
    "\n",
    "## Multiple Choice:\n",
    "\n",
    "### Question 1: Hashing in HashMap\n",
    "\n",
    "What is the primary purpose of a hash function in a HashMap?\n",
    "\n",
    "- A) To encrypt the keys\n",
    "- **B) To map keys to corresponding buckets**\n",
    "- C) To validate the keys\n",
    "- D) To generate random numbers\n",
    "\n",
    "### Question 2: Performance of HashMap\n",
    "\n",
    "What is the time complexity of the get() and put() operations in a well-distributed HashMap?\n",
    "\n",
    "- A) O(log n)\n",
    "- B) O(n)\n",
    "- **C) O(1)**\n",
    "- D) O(n^2)\n",
    "\n",
    "## Free Response:\n",
    "\n",
    "### Question 3: Key and Value Types in HashMap\n",
    "\n",
    "Describe the types of objects that can be used as keys and values in a HashMap. Additionally, explain the methods that a class should implement if used as a key.\n",
    "\n",
    "Keys can be any class type (like String, Integer, or even a custom Class), as long as they implement the hashCode() and equals() methods\n",
    "\n",
    "Values can also be of any class type, but but they need to provide meaningful toString() and equals() methods\n",
    "\n",
    "### Question 4: Iteration in HashMap\n",
    "\n",
    "Provide brief explanations for two methods in HashMap that can be used to iterate over its key-value pairs.\n",
    "\n",
    "Two methods that can be used for iterate over HashMap key-value pairs are for and forEach. \n",
    "This is an example of for:\n",
    "<br>for (Map.Entry<String, String> entry : hashMap.entrySet()) {\n",
    "    <br>//Code here\n",
    "<br>}\n",
    "This method obtains a set of entries using the entrySet() method, and then iterates over them\n",
    "\n",
    "And here is an example of forEach:\n",
    "<br>hashMap.forEach((key, value) -> {\n",
    "    <br>//Code here\n",
    "<br>});\n",
    "This method takes a BiConsumer as an argument, which is a functional interface representing an operation that accepts two input arguments (key and value in this case). The lambda expression inside the forEach method defines the action to be performed on each key-value pair.\n",
    "\n",
    "### Question 5: Thread Safety in HashMap\n",
    "\n",
    "Explain why HashMap is not thread-safe and what issues might arise when multiple threads access the same HashMap instance concurrently. Suggest an alternative class that can be used for concurrent access and explain its benefits.\n",
    "\n",
    "HashMap is not thread-safe because it is not synchronized. This means that if multiple threads try to modify a HashMap concurrently, without external synchronization, it can lead to unexpected behavior and data corruption. The lack of synchronization allows two or more threads to modify the HashMap simultaneously, potentially causing race conditions and inconsistencies in the data structure. When concurrent access is necessary, you can use ConcurrentHashMap, because it is designed to be thread-safe and allows concurrent read and write operations without the need for external synchronization.\n",
    "\n"
   ]
  },
  {
   "cell_type": "markdown",
   "metadata": {},
   "source": [
    "# HACKS (Shaurya)\n",
    "\n",
    "1) Finish Popcorn HACKS\n",
    "2) Develop a Java application that utilizes a HashMap to manage a sports team roster. Each player on the team should have attributes like name, position, and jersey number. The program should enable functionalities such as adding new players, updating player information, and searching for players based on their jersey numbers using the HashMap implementation.\n",
    "3) Reflection (4-5 sentences)"
   ]
  },
  {
   "cell_type": "code",
   "execution_count": 36,
   "metadata": {
    "vscode": {
     "languageId": "java"
    }
   },
   "outputs": [],
   "source": [
    "public class Player {\n",
    "    public final String name;\n",
    "    public final String position;\n",
    "    public final int jerseyNumber;\n",
    "\n",
    "    public Player(String name, String position, int jerseyNumber) {\n",
    "        this.name = name;\n",
    "        this.position = position;\n",
    "        this.jerseyNumber = jerseyNumber;\n",
    "    }\n",
    "    public String getName() {\n",
    "        return this.name;\n",
    "    }\n",
    "    public String getPosition() {\n",
    "        return this.position;\n",
    "    }\n",
    "    public int getJerseyNumber() {\n",
    "        return this.jerseyNumber;\n",
    "    }\n",
    "}"
   ]
  },
  {
   "cell_type": "code",
   "execution_count": 53,
   "metadata": {
    "vscode": {
     "languageId": "java"
    }
   },
   "outputs": [
    {
     "name": "stdout",
     "output_type": "stream",
     "text": [
      "[John Doe=REPL.$JShell$43B$Player@50b7f223, Thomas Blake=REPL.$JShell$43B$Player@70427a14, Jane Doe=REPL.$JShell$43B$Player@7605373f]\n",
      "The person who has the jersey number of 36 is Jane Doe. Their position is Saftey.\n",
      "Thomas Blake's position is now: Full-back. Their jersey number is now: 22.\n",
      "[Thomas Blake=REPL.$JShell$43B$Player@2f9d29d9, Jane Doe=REPL.$JShell$43B$Player@7605373f]\n"
     ]
    }
   ],
   "source": [
    "public class SportsTeam {\n",
    "    private static HashMap<String, Player> sportsTeam = new HashMap<>();\n",
    "\n",
    "    public static void removePlayer(String name) {\n",
    "        sportsTeam.remove(name);\n",
    "    }\n",
    "\n",
    "    public static void addPlayer(String name, String position, int jerseyNumber) {\n",
    "        sportsTeam.put(name, new Player(name, position, jerseyNumber));\n",
    "    }\n",
    "\n",
    "    public static void updatePlayer(String name, String position, int jerseyNumber) {\n",
    "        sportsTeam.put(name, new Player(name, position, jerseyNumber));\n",
    "        System.out.println(name + \"'s position is now: \" + sportsTeam.get(name).position + \". Their jersey number is now: \" + sportsTeam.get(name).jerseyNumber + \".\");\n",
    "    }\n",
    "\n",
    "    public static void findPlayer(int jerseyNumber) {\n",
    "        for (Map.Entry<String, Player> entry : sportsTeam.entrySet()) {\n",
    "            Player player = entry.getValue();\n",
    "            if (player.jerseyNumber == jerseyNumber) {\n",
    "                System.out.println(\"The person who has the jersey number of \" + jerseyNumber + \" is \" + player.name + \". Their position is \" + player.position + \".\");\n",
    "            }\n",
    "        }\n",
    "    }\n",
    "\n",
    "    public static void getTeam() {\n",
    "        System.out.println(sportsTeam.entrySet());\n",
    "    }\n",
    "\n",
    "    public static void main(String[] args) {\n",
    "        addPlayer(\"John Doe\", \"Half-back\", 15);\n",
    "        addPlayer(\"Thomas Blake\", \"Quarterback\", 22);\n",
    "        addPlayer(\"Jane Doe\", \"Saftey\", 36);\n",
    "        getTeam();\n",
    "        findPlayer(36);\n",
    "        updatePlayer(\"Thomas Blake\", \"Full-back\", 22);\n",
    "        removePlayer(\"John Doe\");\n",
    "        getTeam();\n",
    "    }\n",
    "}SportsTeam.main(null);"
   ]
  },
  {
   "cell_type": "markdown",
   "metadata": {},
   "source": [
    "## Lesson: Collections in Java and SQL\n",
    "\n",
    "### Introduction to Collections in Java\n",
    "In Java, the `Collection` interface is a member of the Java Collections Framework and extends the `Iterable` interface. It includes methods for basic operations (such as `add`, `remove`, `clear`), bulk operations (such as `containsAll`, `addAll`, `retainAll`, `removeAll`), and array operations (such as `toArray`).\n"
   ]
  },
  {
   "cell_type": "code",
   "execution_count": null,
   "metadata": {
    "vscode": {
     "languageId": "java"
    }
   },
   "outputs": [],
   "source": [
    "import java.util.*;\n",
    "\n",
    "public class Main {\n",
    "    public static void main(String[] args) {\n",
    "        // Creating an ArrayList\n",
    "        List<String> list = new ArrayList<String>();\n",
    "        // Adding elements to the list\n",
    "        list.add(\"Apple\");\n",
    "        list.add(\"Banana\");\n",
    "        list.add(\"Cherry\");\n",
    "        System.out.println(\"List: \" + list);\n",
    "    }\n",
    "}"
   ]
  },
  {
   "cell_type": "markdown",
   "metadata": {},
   "source": [
    "### Definition of Collections\n",
    "In the context of SQL, collections refer to a group of related data items that can be treated as a whole. Common types of collections include arrays, lists, and sets."
   ]
  },
  {
   "cell_type": "markdown",
   "metadata": {},
   "source": [
    "### Using Collections with SQL\n",
    "When working with databases in Java, you can use the `java.sql`` package. This package provides classes for connecting to a database and executing SQL queries."
   ]
  },
  {
   "cell_type": "code",
   "execution_count": null,
   "metadata": {
    "vscode": {
     "languageId": "java"
    }
   },
   "outputs": [],
   "source": [
    "import java.sql.*;\n",
    "import java.util.*;\n",
    "\n",
    "public class Main {\n",
    "    public static void main(String[] args) {\n",
    "        String url = \"jdbc:mysql://localhost:3306/mydatabase\";\n",
    "        String user = \"root\";\n",
    "        String password = \"password\";\n",
    "\n",
    "        try {\n",
    "            Connection conn = DriverManager.getConnection(url, user, password);\n",
    "            Statement stmt = conn.createStatement();\n",
    "            ResultSet rs = stmt.executeQuery(\"SELECT * FROM mytable\");\n",
    "\n",
    "            // Creating a list to store the results\n",
    "            List<String> results = new ArrayList<String>();\n",
    "            while (rs.next()) {\n",
    "                results.add(rs.getString(\"mycolumn\"));\n",
    "            }\n",
    "            System.out.println(\"Results: \" + results);\n",
    "        } catch (SQLException e) {\n",
    "            e.printStackTrace();\n",
    "        }\n",
    "    }\n",
    "}"
   ]
  },
  {
   "cell_type": "markdown",
   "metadata": {},
   "source": [
    "In this code, we’re connecting to a MySQL database and executing a SQL query. The results of the query are then stored in an ArrayList"
   ]
  },
  {
   "cell_type": "markdown",
   "metadata": {},
   "source": [
    "### `Purpose of Collections`\n",
    "Collections are useful in a database because they allow you to store multiple values in a single column. This can be beneficial in scenarios where you have a one-to-many relationship. For example, a single product could have multiple colors, sizes, or other attributes.\n",
    "\n",
    "#### `Important terminology`\n",
    "- Elements: Individual items within a collection.\n",
    "- Indexes: The position of an element within a collection.\n",
    "- Scalar: A single value, as opposed to a collection which can hold multiple values."
   ]
  },
  {
   "cell_type": "markdown",
   "metadata": {},
   "source": [
    "## Advanced usage in Collections\n",
    "\n",
    "### Nested Collections\n",
    "Collections can be nested, creating a collection of collections, for more freeform control, such as representing a 2D map with a 2D array."
   ]
  },
  {
   "cell_type": "code",
   "execution_count": null,
   "metadata": {
    "vscode": {
     "languageId": "java"
    }
   },
   "outputs": [],
   "source": [
    "public class NestedArrays {\n",
    "    public static void print2Darray(int[][] arr){\n",
    "        // function for printing arrays\n",
    "        for (int i=0;i<arr.length;i++){\n",
    "            for (int j=0;j<arr[i].length;j++){\n",
    "                System.out.print(arr[i][j]+\" \");\n",
    "            }\n",
    "            System.out.println();\n",
    "        }\n",
    "    }\n",
    "    public static void main(String[] args){\n",
    "        // Direct declaration of an array containing arrays\n",
    "        int[][] arr = {\n",
    "            {8,1,6},\n",
    "            {3,5,7},\n",
    "            {4,9,2}\n",
    "        };\n",
    "        print2Darray(arr);\n",
    "        System.out.println(arr[1][2]);//printing the value at [1][2] (7)\n",
    "        arr[1][2] = 0; //assigning a new value to inside the 2D array\n",
    "        System.out.println(arr[1][2]);\n",
    "    }\n",
    "}\n",
    "NestedArrays.main(null);"
   ]
  },
  {
   "cell_type": "markdown",
   "metadata": {},
   "source": [
    "### Popcorn hacks\n",
    "Create a program that sums the columns and the rows of the given nested array (should all be 15), then create a copy of the original array by looping through the original array and assigning the values to a new array."
   ]
  },
  {
   "cell_type": "code",
   "execution_count": 4,
   "metadata": {
    "vscode": {
     "languageId": "java"
    }
   },
   "outputs": [],
   "source": [
    "public class NestedArraysPopcorn {\n",
    "    public static void print2Darray(int[][] arr){\n",
    "        // function for printing arrays\n",
    "        for (int i=0;i<arr.length;i++){\n",
    "            for (int j=0;j<arr[i].length;j++){\n",
    "                System.out.print(arr[i][j]+\" \");\n",
    "            }\n",
    "            System.out.println();\n",
    "        }\n",
    "    }\n",
    "    public static void main(String[] args){\n",
    "        int[][] arr = {\n",
    "            {8,1,6},\n",
    "            {3,5,7},\n",
    "            {4,9,2}\n",
    "        };\n",
    "    }\n",
    "}\n",
    "NestedArraysPopcorn.main(null);"
   ]
  },
  {
   "cell_type": "markdown",
   "metadata": {},
   "source": [
    "### Null values in collections\n",
    "null values are placeholders that are implemented when there is not any value that is inputed, you see it when we call the main method in our programs. It is automatically created when a new reference variable (such as an Integer) is created but no values have been assigned to it yet. It can also be created directly.\n",
    "\n",
    "Having null values in a collection will not immediately crash the program, however, it can cause a NullPointerException error if it is used carelessly. So it is important to learn how to identify and filter it."
   ]
  },
  {
   "cell_type": "code",
   "execution_count": 7,
   "metadata": {
    "vscode": {
     "languageId": "java"
    }
   },
   "outputs": [
    {
     "name": "stdout",
     "output_type": "stream",
     "text": [
      "null\n",
      "1\n"
     ]
    }
   ],
   "source": [
    "import java.util.ArrayList;\n",
    "public class NullValuesInArray {\n",
    "    public static void main(String[] args){\n",
    "        Integer[] arr = new Integer[10];//array of Integer\n",
    "        System.out.println(arr[3]);\n",
    "        // if the following line of code is ran, it will return a NullPointerException error\n",
    "        //System.out.println(1+arr[2]);\n",
    "        for (int i=0;i<arr.length;i++){\n",
    "            arr[i]=0;// sets the values in the arr to 0\n",
    "        }\n",
    "        System.out.println(1+arr[2]);\n",
    "    }\n",
    "}\n",
    "NullValuesInArray.main(null);//using null values in the main method"
   ]
  },
  {
   "cell_type": "markdown",
   "metadata": {},
   "source": [
    "### Popcorn hacks\n",
    "The given array has certain values set to null, loop through to set all null values to 0, then sum every value in the array."
   ]
  },
  {
   "cell_type": "code",
   "execution_count": null,
   "metadata": {
    "vscode": {
     "languageId": "java"
    }
   },
   "outputs": [],
   "source": [
    "import java.util.ArrayList;\n",
    "public class NullValuesInArrayPopcorn {\n",
    "    public static void main(String[] args){\n",
    "        int[] arr = {\n",
    "            4,5,6,null,9,10,null,9,3,2,5,null\n",
    "        }; // you can look at the array, but it's more fun to do the problem without doing that\n",
    "        for(num:arr) {\n",
    "            if()\n",
    "        }\n",
    "    }\n",
    "}\n",
    "NullValuesInArray.main(null);"
   ]
  },
  {
   "cell_type": "markdown",
   "metadata": {},
   "source": [
    "### Performance and Complexities\n",
    "All of the functions used in collections takes a certain time complexity to do, and it may be sometimes better to use one value over the other.\n",
    "Here are some time complexities for commonly used methods\n",
    "\n",
    "|Method|Time Complexity|\n",
    "|-|-|\n",
    "|Initialization|O(n)|\n",
    "|Accessing (arr[i] get(i))|O(1)|\n",
    "|Assignment (arr[i]=a, set(i,a))|O(1)|\n",
    "|Sorting (Array.sort(arr), sort(Comparator))|O(nlog(n))|\n",
    "|Length (length, size())|O(1)|\n",
    "|copy (clone(), arraycopy())|O(n)|\n",
    "\n",
    "The space complexity of a collection is its size.\n",
    "\n",
    "Most of the time, the array is a versatile tool that can effeciently store and process values, however, sometimes we would want a different requirement. For example, when we want a storage to always be sorted, while we could use some sort of binary search method to find the best position to insert a value, there are just data structures, such as TreeSet, that maintains sorted status upon insertion. It's important to use the data structure that best suits your need in the right context."
   ]
  },
  {
   "cell_type": "markdown",
   "metadata": {},
   "source": [
    "### Real world applications of Collections\n",
    "In the context of an application or a database, a collection can allow for large amounts of values to be stored efficiently without creating large amounts of variables, storing what's usually a column of information in a single cell (I guess then, then that's also a collection of collection in of itself). It can be used for when you don't know how long that a list can be, you can modify the values in a collection easily also. However, the usage of many collections can add a lot of unnecessary weight on the database due to the extra spaces used, and it can be hard to keep track of what functions should be used for modifying certain values in a collection."
   ]
  },
  {
   "cell_type": "markdown",
   "metadata": {},
   "source": [
    "# Usage of Collections in SQL\n",
    "In SQL, collections are powerful data types that allow us to store multiple values. Let's delve into declaring different types of collections."
   ]
  },
  {
   "cell_type": "code",
   "execution_count": null,
   "metadata": {
    "vscode": {
     "languageId": "java"
    }
   },
   "outputs": [],
   "source": [
    "-- Syntax for declaring an array\n",
    "DECLARE TYPE Array_Type IS VARRAY(5) OF VARCHAR2(50);\n",
    "\n",
    "-- Syntax for declaring a nested table\n",
    "DECLARE TYPE Nested_Table_Type IS TABLE OF NUMBER;\n",
    "\n",
    "-- Syntax for declaring an associative array\n",
    "DECLARE TYPE Assoc_Array_Type IS TABLE OF VARCHAR2(50) INDEX BY PLS_INTEGER;"
   ]
  },
  {
   "cell_type": "markdown",
   "metadata": {},
   "source": [
    "### Explanation: \n",
    "In SQL, we can declare different types of collections to store multiple values. An array is defined with a fixed size of 5, specifically designed to accommodate VARCHAR2 values. Simultaneously, a nested table is declared to store numeric values, offering flexibility in handling numerical data. Additionally, an associative array is declared with an index of PLS_INTEGER, providing a dynamic structure to hold VARCHAR2 values based on the specified index. These declarations showcase the versatility of collections in SQL, allowing for efficient management of various data types."
   ]
  },
  {
   "cell_type": "markdown",
   "metadata": {},
   "source": [
    "## Initialization of Collections\n",
    "Now, let's initialize these collections using different methods."
   ]
  },
  {
   "cell_type": "code",
   "execution_count": null,
   "metadata": {
    "vscode": {
     "languageId": "java"
    }
   },
   "outputs": [],
   "source": [
    "-- Initializing an array\n",
    "DECLARE\n",
    "  my_array Array_Type := Array_Type('Value1', 'Value2', 'Value3');\n",
    "\n",
    "-- Initializing a nested table\n",
    "DECLARE\n",
    "  my_table Nested_Table_Type := Nested_Table_Type(1, 2, 3);\n",
    "\n",
    "-- Initializing an associative array\n",
    "DECLARE\n",
    "  my_assoc_array Assoc_Array_Type;\n",
    "BEGIN\n",
    "  my_assoc_array(1) := 'Item1';\n",
    "  my_assoc_array(2) := 'Item2';\n",
    "END;"
   ]
  },
  {
   "cell_type": "markdown",
   "metadata": {},
   "source": [
    "### Explanation: \n",
    "\n",
    "In the initialization phase, the array is populated with predefined values using its constructor, ensuring specific elements are set from the start. Meanwhile, the nested table is initialized with numeric values, establishing its initial content based on numerical data. In contrast, the associative array takes a more dynamic approach, as values are individually assigned within a BEGIN-END block, allowing for flexible and tailored initialization based on specific requirements or conditions."
   ]
  },
  {
   "cell_type": "markdown",
   "metadata": {},
   "source": [
    "## Adding, Removing, and Modifying Elements\n",
    "Now, let's explore how to perform fundamental operations on collections."
   ]
  },
  {
   "cell_type": "code",
   "execution_count": null,
   "metadata": {
    "vscode": {
     "languageId": "java"
    }
   },
   "outputs": [],
   "source": [
    "-- Adding elements to an array\n",
    "my_array.EXTEND;\n",
    "my_array(4) := 'Value4';\n",
    "\n",
    "-- Removing elements from a nested table\n",
    "my_table.DELETE(2);\n",
    "\n",
    "-- Modifying an element in an associative array\n",
    "my_assoc_array(1) := 'UpdatedItem';"
   ]
  },
  {
   "cell_type": "markdown",
   "metadata": {},
   "source": [
    "### Explanation:\n",
    "\n",
    "In this sequence of operations, the array undergoes extension to accommodate a new element, subsequently being assigned a specific value. Simultaneously, within the nested table, an element is removed. Additionally, in the associative array, a specific element undergoes modification, ensuring the dynamic adaptability of the collection to evolving data requirements."
   ]
  },
  {
   "cell_type": "markdown",
   "metadata": {},
   "source": [
    "## Common Operations\n",
    "Explore common operations like appending, deleting, and checking for element existence."
   ]
  },
  {
   "cell_type": "code",
   "execution_count": null,
   "metadata": {
    "vscode": {
     "languageId": "java"
    }
   },
   "outputs": [],
   "source": [
    "-- Appending elements to an array\n",
    "my_array := my_array MULTISET UNION Array_Type('Value5', 'Value6');\n",
    "\n",
    "-- Deleting all elements from a nested table\n",
    "my_table := Nested_Table_Type();\n",
    "\n",
    "-- Checking if an element exists in an associative array\n",
    "IF my_assoc_array.EXISTS(1) THEN\n",
    "  -- Do something\n",
    "END IF;"
   ]
  },
  {
   "cell_type": "markdown",
   "metadata": {},
   "source": [
    "### Explanation:\n",
    "\n",
    "In the realm of SQL collections, various operations enhance their functionality. To enrich an array, additional elements can be seamlessly appended, ensuring dynamic and evolving data storage. For a nested table, a clean slate is achieved by effortlessly deleting all existing elements, offering a quick and efficient reset. The power of the EXISTS function comes into play with associative arrays, providing a means to verify the existence of a specific index, adding a layer of control and precision to the data management process."
   ]
  },
  {
   "cell_type": "markdown",
   "metadata": {},
   "source": [
    "## Incorporating Collections in SQL Queries\n",
    "Now, let's leverage collections in SQL queries for more flexible and dynamic operations."
   ]
  },
  {
   "cell_type": "code",
   "execution_count": null,
   "metadata": {
    "vscode": {
     "languageId": "java"
    }
   },
   "outputs": [],
   "source": [
    "-- Using an array in a SELECT statement\n",
    "SELECT * FROM employees WHERE employee_id IN (SELECT * FROM TABLE(my_array));\n",
    "\n",
    "-- Using a nested table in a JOIN operation\n",
    "SELECT e.employee_id, e.employee_name, d.department_name\n",
    "FROM employees e\n",
    "JOIN TABLE(my_table) t ON e.department_id = t.COLUMN_VALUE;\n",
    "\n",
    "-- Using an associative array in a WHERE clause\n",
    "FOR i IN 1..my_assoc_array.LIMIT\n",
    "LOOP"
   ]
  },
  {
   "cell_type": "markdown",
   "metadata": {},
   "source": [
    "### Explanation:\n",
    "\n",
    "In SQL queries, the array serves as a filtering mechanism within the SELECT statement, allowing for precise record retrieval. In JOIN operations, a nested table is harnessed to establish correlations between datasets, facilitating a more comprehensive analysis. Additionally, the versatility of associative arrays shines as they are seamlessly integrated into loops, enabling efficient iteration through their elements. This concise yet powerful utilization of collections enhances the flexibility and dynamism of SQL queries, showcasing their utility in various scenarios."
   ]
  },
  {
   "cell_type": "markdown",
   "metadata": {},
   "source": [
    "# Hacks:\n",
    "- Try declaring your own collection and initializing it with values of your choice.\n",
    "- Perform basic operations like adding, removing, and modifying elements.\n",
    "- Create a SQL query using your collection to filter or join data."
   ]
  }
 ],
 "metadata": {
  "kernelspec": {
   "display_name": "Java",
   "language": "java",
   "name": "java"
  },
  "language_info": {
   "codemirror_mode": "java",
   "file_extension": ".jshell",
   "mimetype": "text/x-java-source",
   "name": "Java",
   "pygments_lexer": "java",
   "version": "11.0.21+9-post-Ubuntu-0ubuntu122.04"
  }
 },
 "nbformat": 4,
 "nbformat_minor": 2
}
