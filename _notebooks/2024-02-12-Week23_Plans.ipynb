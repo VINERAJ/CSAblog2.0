{
 "cells": [
  {
   "cell_type": "markdown",
   "metadata": {},
   "source": [
    "---\n",
    "toc: True\n",
    "comments: True\n",
    "layout: post\n",
    "title: Week 23 Goals\n",
    "description: My goals for week 23\n",
    "courses: {'compsci': {'week': 23}}\n",
    "type: plans\n",
    "---"
   ]
  },
  {
   "cell_type": "markdown",
   "metadata": {},
   "source": [
    "## Goals\n",
    "* Get project ready for NATM\n",
    "    * work on adding features on frontend\n",
    "    * Fix sprite jumping\n",
    "    * Backend work (Yuri)"
   ]
  },
  {
   "cell_type": "markdown",
   "metadata": {},
   "source": [
    "## Links\n",
    "* [Frontend](https://github.com/SortingMiniProject/BinaryWizards)\n",
    "* [Backend](https://github.com/SparkWizards/sparkwizbackend)"
   ]
  }
 ],
 "metadata": {
  "language_info": {
   "name": "python"
  }
 },
 "nbformat": 4,
 "nbformat_minor": 2
}
