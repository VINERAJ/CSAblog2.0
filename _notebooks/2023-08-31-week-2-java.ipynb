{
 "cells": [
  {
   "cell_type": "markdown",
   "metadata": {},
   "source": [
    "---\n",
    "layout: default\n",
    "title: Week 2 Java Project\n",
    "courses: { csa: {week: 2} }\n",
    "type: tangibles\n",
    "---"
   ]
  },
  {
   "cell_type": "markdown",
   "metadata": {},
   "source": [
    "To gain more experience with Java, I decided to try to create my own program, using OOP, and this program as a template:"
   ]
  },
  {
   "cell_type": "code",
   "execution_count": null,
   "metadata": {
    "vscode": {
     "languageId": "java"
    }
   },
   "outputs": [],
   "source": [
    "public class HelloObject {\n",
    "    private String hello;   // instance attribute or variable\n",
    "    public HelloObject() {  // constructor\n",
    "        hello = \"Hello, World!\";\n",
    "    }\n",
    "    public String getHello() {  // getter, returns value from inside the object\n",
    "        return this.hello;  // return String from object\n",
    "    }\n",
    "    public static void main(String[] args) {    \n",
    "        HelloObject ho = new HelloObject(); // Instance of Class (ho) is an Object via \"new HelloObject()\"\n",
    "        System.out.println(ho.getHello()); // Object allows reference to public methods and data\n",
    "    }\n",
    "}\n",
    "// IJava activation\n",
    "HelloObject.main(null);"
   ]
  },
  {
   "cell_type": "markdown",
   "metadata": {},
   "source": [
    "I decided to make a program to sum all the numbers from 1 to 100\n",
    "The original code is below:"
   ]
  },
  {
   "cell_type": "code",
   "execution_count": null,
   "metadata": {
    "vscode": {
     "languageId": "java"
    }
   },
   "outputs": [],
   "source": [
    "int sum = 0;\n",
    "for (int i=1; i<101; i++) {\n",
    "    sum = sum+i;\n",
    "}\n",
    "System.out.println(sum)"
   ]
  },
  {
   "cell_type": "markdown",
   "metadata": {},
   "source": [
    "And revised code is below:"
   ]
  },
  {
   "cell_type": "code",
   "execution_count": null,
   "metadata": {
    "vscode": {
     "languageId": "java"
    }
   },
   "outputs": [],
   "source": [
    "public class SumObject {\n",
    "    private int sum;\n",
    "    public SumObject() {\n",
    "        sum = 0;\n",
    "    }\n",
    "    public int getSum() {\n",
    "        return sum;\n",
    "    }\n",
    "    public void setSum(int s) {\n",
    "        sum = s;\n",
    "    }\n",
    "    public static void main(String[] args) {\n",
    "        SumObject summer = new SumObject();\n",
    "        for (int i=1; i<101; i++) {\n",
    "            int s = summer.getSum();\n",
    "            summer.setSum(i+s);\n",
    "        }\n",
    "        System.out.println(summer.getSum());\n",
    "    }\n",
    "}\n",
    "SumObject.main(null);"
   ]
  }
 ],
 "metadata": {
  "language_info": {
   "name": "python"
  },
  "orig_nbformat": 4
 },
 "nbformat": 4,
 "nbformat_minor": 2
}
