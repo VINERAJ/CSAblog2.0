{
 "cells": [
  {
   "cell_type": "markdown",
   "metadata": {},
   "source": [
    "---\n",
    "toc: true\n",
    "comments: true\n",
    "layout: post\n",
    "title: Week 8 Goals\n",
    "description: My goals for week 8\n",
    "courses: { compsci: {week: 8} }\n",
    "type: plans\n",
    "---"
   ]
  },
  {
   "cell_type": "markdown",
   "metadata": {},
   "source": [
    "## Goals\n",
    "* Plan for passion project\n",
    "* Work on passion project\n",
    "* Listen to lessons presented by classmates\n",
    "* Work on bad translator"
   ]
  },
  {
   "cell_type": "markdown",
   "metadata": {},
   "source": [
    "## Links\n",
    "* [Backend](https://github.com/BobTheFarmer/VACTQ-Backend)\n",
    "* [U3 Hacks](https://github.com/BobTheFarmer/VACTQ-Lesson/issues/5)\n",
    "* [U4 Hacks](https://github.com/BobTheFarmer/VACTQ-Lesson/issues/6)"
   ]
  }
 ],
 "metadata": {
  "language_info": {
   "name": "python"
  }
 },
 "nbformat": 4,
 "nbformat_minor": 2
}
