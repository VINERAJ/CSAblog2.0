{
 "cells": [
  {
   "cell_type": "markdown",
   "metadata": {},
   "source": [
    "---\n",
    "title: Inheritance in APCSA (Unit 9)\n",
    "toc: true \n",
    "comments: true \n",
    "layout: post \n",
    "type: hacks \n",
    "courses: { csse: {week: 1}, csp: {week: 1, categories: [4.A]}, csa: {week: 0}, labnotebook: {week: 3} } \n",
    "---"
   ]
  },
  {
   "cell_type": "markdown",
   "metadata": {},
   "source": [
    "## Review on Inheritance\n",
    "\n",
    "### Basics of Inheritance:\n",
    "- Superclass and Subclass: In Java, a superclass (or base class) is the class being inherited from, while a subclass (or derived class) is the class that inherits from the superclass.\n",
    "- extends Keyword: To create a subclass, you use the `extends` keyword followed by the name of the superclass."
   ]
  },
  {
   "cell_type": "code",
   "execution_count": 3,
   "metadata": {
    "vscode": {
     "languageId": "java"
    }
   },
   "outputs": [],
   "source": [
    "class SuperClass {\n",
    "    //methods and fields  \n",
    "}\n",
    "\n",
    "class SubClass extends SuperClass {  \n",
    "    //methods and fields  \n",
    "}  "
   ]
  },
  {
   "cell_type": "markdown",
   "metadata": {},
   "source": [
    "## Basics Continued\n",
    "### Code:\n",
    "```\n",
    "class SuperClass {\n",
    "    // Fields\n",
    "    private int superField;\n",
    "    \n",
    "    // Constructor\n",
    "    public SuperClass(int superField) {\n",
    "        this.superField = superField;\n",
    "    }\n",
    "    \n",
    "    // Method\n",
    "    public void superMethod() {\n",
    "        System.out.println(\"SuperClass Method\");\n",
    "    }\n",
    "}\n",
    "\n",
    "// SubClass\n",
    "class SubClass extends SuperClass {\n",
    "    // Fields\n",
    "    private int subField;\n",
    "    \n",
    "    // Constructor\n",
    "    public SubClass(int superField, int subField) {\n",
    "        // Call superclass constructor using 'super' keyword\n",
    "        super(superField);\n",
    "        this.subField = subField;\n",
    "    }\n",
    "    \n",
    "    // Method\n",
    "    public void subMethod() {\n",
    "        System.out.println(\"SubClass Method\");\n",
    "    }\n",
    "}\n",
    "```\n",
    "\n",
    "### Explanation:\n",
    "SuperClass:\n",
    "- SuperClass is the base class.\n",
    "- It has a private superField, a constructor SuperClass(int superField) that initializes superField, and a method superMethod().\n",
    "\n",
    "SubClass:\n",
    "- SubClass is a subclass of SuperClass.\n",
    "- It extends SuperClass using the extends keyword.\n",
    "- super keyword is used to refer to the superclass of the current object. It can be used in order to invoke the superclass constructor and access it's members\n",
    "- It adds its own field subField, a constructor SubClass(int superField, int subField) that initializes both superField (from the superclass) and subField, and a method subMethod().\n",
    "\n",
    "**NOTE**\n",
    "**Subclass instance can access both superfield and subfield and subMethod and superMethod while the Superclass instance can only access superclass attributes**"
   ]
  },
  {
   "cell_type": "markdown",
   "metadata": {},
   "source": [
    "## 2022 FRQ Question 2\n",
    "\n",
    "The Book class is used to store information about a book. A partial Book class definition is shown.\n"
   ]
  },
  {
   "cell_type": "code",
   "execution_count": 14,
   "metadata": {
    "vscode": {
     "languageId": "java"
    }
   },
   "outputs": [],
   "source": [
    "public class Book { \n",
    "\n",
    "    private String title; // The title of the book\n",
    "    private double price; // The price of the book\n",
    "\n",
    "    public Book(String bookTitle, double bookPrice) { // Creates a new Book with given title and price\n",
    "        // implementation not shown\n",
    "    } \n",
    "\n",
    "    public String getTitle() { // Returns the title of the book\n",
    "        return title; \n",
    "    } \n",
    "    \n",
    "    public String getBookInfo() { // Returns a string containing the title and price of the Book\n",
    "        return title + \"-\" + price; \n",
    "    } \n",
    "\n",
    "    // There may be instance variables, constructors, and methods that are not shown.\n",
    "} "
   ]
  },
  {
   "cell_type": "markdown",
   "metadata": {},
   "source": [
    "\n",
    "You will write a class Textbook, which is a subclass of Book. A Textbook has an edition number, which is a positive integer used to identify different versions of the\n",
    "book. The getBookInfo method, when called on a Textbook, returns a string that also includes the edition information, as shown in the example.\n",
    "\n",
    "\n",
    "Information about the book title and price must be maintained in the Book class. Information about the edition must be maintained in the Textbook class. The Textbook class contains an additional method, canSubstituteFor, which returns true if\n",
    "a Textbook is a valid substitute for another Textbook and returns false otherwise. The current Textbook is a valid substitute for the Textbook referenced by the parameter of the canSubstituteFor method if the two Textbook objects have the same title and if the edition of the current Textbook is greater than or equal to the edition of the parameter.\n",
    "\n",
    "### Point distribution\n",
    "\n",
    "- Correctly make Class with header and extends - 2\n",
    "- Calls super as the first line with the appropriate parameters - 1\n",
    "- Declares appropriate private instance variable - 1\n",
    "- Declares at least one required method and all declared headers are correct - 1\n",
    "- getEdition returns value of instance variable - 1 \n",
    "- canSubstituteFor determines whether true or false should be returned based on - 1 comparison of book titles and editions - 1\n",
    "- getBookInfo calls super.getBookInfo - 1\n",
    "- Constructs information string - 1\n",
    "\n",
    "\n",
    "### Points to be careful on\n",
    "\n",
    "- Point for declaring class correctly (always a point), Point for declaring a constructor, use meaningful variable names, ensure constructor is in correct order, constructor must call super as first line. \n",
    "- Title and Price must be maintained in the book class according to problem, so super has to be used. Edition is specific to textbook, means it should be private and has to be correctly initialized outside of the constructor. Sometimes you get point if you correctly write at least one correct method header. \n",
    "- Make sure you understand super! Super is a way to access the parent classes variables without using a constructor.\n",
    "\n",
    "### Example solution"
   ]
  },
  {
   "cell_type": "code",
   "execution_count": 12,
   "metadata": {
    "vscode": {
     "languageId": "java"
    }
   },
   "outputs": [],
   "source": [
    "public class Textbook extends Book\n",
    "{\n",
    "    //private instance variable for edition number\n",
    "    private int edition;\n",
    "\n",
    "    //full constructor must have String, double, int matches the examples given in table\n",
    "    public Textbook(String t, double p, int e)\n",
    "    {\n",
    "        //must be first: let Book manage its variables\n",
    "        super(t, p);\n",
    "\n",
    "        //instance variable on left, parameter on right\n",
    "        this.edition = e;\n",
    "    }\n",
    "\n",
    "    //basic accessor method, note: only need getEdition because Book manages the others\n",
    "    public int getEdition()\n",
    "    {\n",
    "        return edition;\n",
    "    }\n",
    "\n",
    "    //similar to toString: all data returned nicely formatted\n",
    "    public String getBookInfo()\n",
    "    {\n",
    "        //need to use the method from Book to get the title and price, then concatenate the edition\n",
    "        return super.getBookInfo() + \"-\" + edition;\n",
    "    }\n",
    "\n",
    "    //similar to equals: compare the two data pieces\n",
    "    public boolean canSubstituteFor(Textbook other)\n",
    "    {\n",
    "        //titles are equals and edition is >= to other's\n",
    "        return this.getTitle().equals(other.getTitle()) &&\n",
    "        this.getEdition() >= other.getEdition();\n",
    "    }\n",
    "}"
   ]
  },
  {
   "cell_type": "markdown",
   "metadata": {},
   "source": [
    "### Key Components\n",
    "\n",
    "1. **Class Header**:\n",
    "   - `public class Textbook extends Book`: Declares the class header.\n",
    "\n",
    "2. **Instance Variable**:\n",
    "    - `private int edition`: This variable stores the edition number of the textbook.\n",
    "\n",
    "3. **Constructor**:\n",
    "    - `public Textbook(String t, double p, int e)`: This is the constructor method for the `Textbook` class. It takes three parameters: a `String` for the title (`t`), a `double` for the price (`p`), and an `int` for the edition (`e`)\n",
    "    - It initializes the instance variables of the `Textbook` class using the `super` keyword to call the constructor of the superclass `Book`, passing the title and price\n",
    "    - Then, it sets the `edition` instance variable to the value provided.\n",
    "\n",
    "4. **Accessor Method**:\n",
    "    - `public int getEdition()`: This method returns the edition number of the textbook.\n",
    "\n",
    "5. **Other Methods**:\n",
    "    - `public String getBookInfo()`: This method returns a string containing information about the textbook\n",
    "    - It calls the `getBookInfo()` method of the superclass `Book` to get the title and price, and then appends the edition number to it.\n",
    "    - `public boolean canSubstituteFor(Textbook other)`: This method checks if the current textbook can substitute another textbook (`other`)\n",
    "      - It returns `true` if the titles are equal and if the edition of the current textbook is greater than or equal to the edition of the other textbook.\n",
    "  \n",
    "\n",
    "\n",
    "### ** It is not required to include a main method in the code as not required by scoring guidelines **"
   ]
  },
  {
   "cell_type": "markdown",
   "metadata": {},
   "source": [
    "## Common Mistakes on Inheritance FRQs\n",
    "\n",
    "1. **Misunderstanding the Problem**\n",
    "- Not fully understanding the requirements given in the problem can lead to incorrect solutions or implementations.\n",
    "\n",
    "2. **Incomplete Implementation**\n",
    "- Forgetting to implement all necessary methods or attributes as per the requirements of the problem.\n",
    "\n",
    "3. **Misinterpreting Method Overrides**\n",
    "- Incorrectly overriding methods from the superclass in subclasses, leading to unexpected behavior.\n",
    "\n",
    "4. **Ignoring Access Modifiers**\n",
    "- Forgetting to consider access modifiers like public, private, and protected, which can result in errors in accessing or modifying variables and methods.\n",
    "    - public: Accessible by any class.\n",
    "    - protected: Accessible within the same package and subclasses. Highest level of encapsulation (security). **Probably not on AP Exam but good to know**\n",
    "    - private: Not inherited, not accessible. Only accessible in the same class it is defined in.\n",
    "    - default (no modifier): Accessible within the same package.\n",
    "\n",
    "5. **Failure to Call Superclass Constructors**\n",
    "- Forgetting to call constructors of the superclass in subclasses can lead to uninitialized variables or incorrect behavior of inherited attributes."
   ]
  },
  {
   "cell_type": "markdown",
   "metadata": {},
   "source": [
    "## Hacks\n",
    "### Inheritance (Unit 9)\n",
    "\n",
    "Situation: You are developing a program to manage a zoo, where various types of animals are kept in different enclosures. To streamline your code, you decide to use inheritance to model the relationships between different types of animals and their behaviors.\n",
    "\n",
    "(a) Explain the concept of inheritance in Java. Provide an example scenario where inheritance is useful.\n",
    "\n",
    "(b) Code:\n",
    "\n",
    "You need to implement a Java class hierarchy to represent different types of animals in the zoo. Create a superclass `Animal` with basic attributes and methods common to all animals, and at least three subclasses representing specific types of animals with additional attributes and methods. Include comments to explain your code, specifically how inheritance is used."
   ]
  }
 ],
 "metadata": {
  "kernelspec": {
   "display_name": "Java",
   "language": "java",
   "name": "java"
  },
  "language_info": {
   "codemirror_mode": "java",
   "file_extension": ".jshell",
   "mimetype": "text/x-java-source",
   "name": "Java",
   "pygments_lexer": "java",
   "version": "17.0.6+9-LTS-190"
  }
 },
 "nbformat": 4,
 "nbformat_minor": 2
}
