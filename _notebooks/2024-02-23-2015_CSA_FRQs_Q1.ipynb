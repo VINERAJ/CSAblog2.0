{
 "cells": [
  {
   "cell_type": "markdown",
   "metadata": {},
   "source": [
    "---\n",
    "toc: True\n",
    "comments: True\n",
    "layout: post\n",
    "title: 2015 CSA FRQ Question 1\n",
    "description: Completing each FRQ so it runs, and blogging about relation to final project\n",
    "courses: {'compsci': {'week': 24}}\n",
    "type: tangibles\n",
    "---"
   ]
  },
  {
   "cell_type": "markdown",
   "metadata": {},
   "source": [
    "## Question 1\n",
    "This question involves reasoning about one-dimensional and two-dimensional arrays of integers. You will write three static methods, all of which are in a single enclosing class, named DiverseArray (not shown). The first method returns the sum of the values of a one-dimensional array; the second method returns an array that represents the sums of the rows of a two-dimensional array; and the third method analyzes row sums."
   ]
  },
  {
   "cell_type": "markdown",
   "metadata": {},
   "source": [
    "(a) write a static method arraySum that calculates and returns the sum of the entries in a specified one-dimensional array. The following example shows an array arr1 and the value returned by a call to arraySum."
   ]
  },
  {
   "cell_type": "code",
   "execution_count": 3,
   "metadata": {
    "vscode": {
     "languageId": "java"
    }
   },
   "outputs": [
    {
     "name": "stdout",
     "output_type": "stream",
     "text": [
      "The sum of the array is: 15\n"
     ]
    }
   ],
   "source": [
    "public class Test {\n",
    "    public static int arraySum(int[] array) {\n",
    "        int sum = 0;\n",
    "        for (int i=0; i<array.length; i++){//iterates through array and returns sum of all numbers\n",
    "            sum+=array[i];\n",
    "        }\n",
    "        return sum;\n",
    "    }\n",
    "    \n",
    "    public static void main(String[] args) {\n",
    "        int[] array = {1,2,3,4,5};\n",
    "        System.out.println(\"The sum of the array is: \" + arraySum(array));\n",
    "    }\n",
    "}\n",
    "Test.main(null);"
   ]
  },
  {
   "cell_type": "markdown",
   "metadata": {},
   "source": [
    "(b) Write a static method rowSums that calculates the sums of each of the rows in a given two-dimensional array and returns these sums in a one-dimensional array. The method has one parameter, a two-dimensional array arr2D of int values. The array is in row-major order: arr2D [ r ] [ c ] is the entry at row r and column c. The method returns a one-dimensional array with one entry for each row of arr2D such that each entry is the sum of the corresponding row in arr2D. As a reminder, each row of a two-dimensional array is a one-dimensional array."
   ]
  },
  {
   "cell_type": "code",
   "execution_count": 2,
   "metadata": {
    "vscode": {
     "languageId": "java"
    }
   },
   "outputs": [
    {
     "name": "stdout",
     "output_type": "stream",
     "text": [
      "The sum of row number 1 is 6\n",
      "The sum of row number 2 is 15\n",
      "The sum of row number 3 is 6\n"
     ]
    }
   ],
   "source": [
    "public class Test {\n",
    "    public static int arraySum(int[] array) {\n",
    "        int sum = 0;\n",
    "        for (int i=0; i<array.length; i++){//iterates through array and returns sum of all numbers\n",
    "            sum+=array[i];\n",
    "        }\n",
    "        return sum;\n",
    "    }\n",
    "\n",
    "    public static int[] rowSums(int[][] arr2D){\n",
    "        int[] sum = new int[arr2D[0].length];\n",
    "        for (int i=0; i<arr2D.length; i++) {//iterates through each row of the 2d array and calls the arraySum method to sum the row, then adds the sum to a new array\n",
    "            int rowSum = arraySum(arr2D[i]);\n",
    "            sum[i] = rowSum;\n",
    "        }\n",
    "        return sum;\n",
    "    }\n",
    "\n",
    "    public static void main(String[] args) {\n",
    "        int[][] Array1 = {\n",
    "            {1, 2, 3},\n",
    "            {4, 5, 6},\n",
    "            {1, 2, 3}\n",
    "        };\n",
    "        int[] rowsums = rowSums(Array1);\n",
    "        for (int i=0; i<rowsums.length; i++) {\n",
    "            System.out.println(\"The sum of row number \" + (i+1) + \" is \" + rowsums[i]);\n",
    "        }\n",
    "    }\n",
    "}\n",
    "Test.main(null);"
   ]
  },
  {
   "cell_type": "markdown",
   "metadata": {},
   "source": [
    "(c) A two-dimensional array is diverse if no two of its rows have entries that sum to the same value. In the following examples, the array mat1 is diverse because each row sum is different, but the array mat2 is not diverse because the first and last rows have the same sum."
   ]
  },
  {
   "cell_type": "code",
   "execution_count": 5,
   "metadata": {
    "vscode": {
     "languageId": "java"
    }
   },
   "outputs": [
    {
     "name": "stdout",
     "output_type": "stream",
     "text": [
      "This array is diverse: false\n",
      "This array is diverse: true\n"
     ]
    }
   ],
   "source": [
    "public class Test {\n",
    "    public static int arraySum(int[] array) {\n",
    "        int sum = 0;\n",
    "        for (int i=0; i<array.length; i++){//iterates through array and returns sum of all numbers\n",
    "            sum+=array[i];\n",
    "        }\n",
    "        return sum;\n",
    "    }\n",
    "\n",
    "    public static int[] rowSums(int[][] arr2D){\n",
    "        int[] sum = new int[arr2D[0].length];\n",
    "        for (int i=0; i<arr2D.length; i++) {//iterates through each row of the 2d array and calls the arraySum method to sum the row, then adds the sum to a new array\n",
    "            int rowSum = arraySum(arr2D[i]);\n",
    "            sum[i] = rowSum;\n",
    "        }\n",
    "        return sum;\n",
    "    }\n",
    "\n",
    "    public static boolean isDiverse(int[][] arr2D) {\n",
    "        int[] newArray = rowSums(arr2D);\n",
    "        boolean diverse = true;\n",
    "        for (int i=0; i<newArray.length; i++) {\n",
    "            for (int j=0; j<newArray.length; j++) {\n",
    "                if(i!=j && newArray[i]==newArray[j]) {// checks if any 2 sums in the array of rowSums are the same\n",
    "                    diverse = false;\n",
    "                }\n",
    "            }\n",
    "        }\n",
    "        return diverse;\n",
    "    }\n",
    "\n",
    "    public static void main(String[] args) {\n",
    "        int[][] Array1 = {\n",
    "            {1, 2, 3},\n",
    "            {4, 5, 6},\n",
    "            {1, 2, 3}\n",
    "        };\n",
    "        int[][] Array2 = {\n",
    "            {1,2,3},\n",
    "            {12,9,6},\n",
    "            {4,5,6}\n",
    "        };\n",
    "        System.out.println(\"This array is diverse: \" + isDiverse(Array1));\n",
    "        System.out.println(\"This array is diverse: \" + isDiverse(Array2));\n",
    "    }\n",
    "}\n",
    "Test.main(null);"
   ]
  },
  {
   "cell_type": "markdown",
   "metadata": {},
   "source": [
    "* FRQ Type: 2D Array\n",
    "* How main algorithm shows FRQ type:\n",
    "\n",
    "This FRQ involves using and manipulating 2D arrays, and even 1D arrays. In the FRQ, we must use for loops (and sometimes even nested for loops) to iterate through the arrays to add the items together and determine other types of information about the arrays and 2D arrays. In particular, part c, in which we have to make a method to determine if a 2D array is diverse or not, deals with both iteration through the 2d array, and adding items inside each item of the 2d array. Manipulating 2D Arrays is an important skill in this class and beyond."
   ]
  }
 ],
 "metadata": {
  "kernelspec": {
   "display_name": "Java",
   "language": "java",
   "name": "java"
  },
  "language_info": {
   "codemirror_mode": "java",
   "file_extension": ".jshell",
   "mimetype": "text/x-java-source",
   "name": "Java",
   "pygments_lexer": "java",
   "version": "21.0.2+13-LTS"
  }
 },
 "nbformat": 4,
 "nbformat_minor": 2
}
