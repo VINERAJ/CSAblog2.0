{
 "cells": [
  {
   "cell_type": "markdown",
   "metadata": {},
   "source": [
    "---\n",
    "comments: true\n",
    "layout: notebook\n",
    "title: JWT Lesson \n",
    "description: JWT and Web Tokens\n",
    "type: hacks\n",
    "toc: true\n",
    "courses: { csa: {week: 18} }\n",
    "authors: Paaras, Varaprasad, Tanay, Rachit, Tanisha, Luna\n",
    "---"
   ]
  },
  {
   "cell_type": "markdown",
   "metadata": {},
   "source": [
    "# JWT Lesson\n",
    "\n",
    "**Notebook Link**\n",
    "wget https://raw.githubusercontent.com/The-Zesty-Rachits/CatalinaWarden/main/_notebooks/2023-12-19-JWTStudent.ipynb\n",
    "\n",
    "**Backend Repository Link**\n",
    "git clone https://github.com/The-Zesty-Rachits/zesty-backend-2.0-student.git"
   ]
  },
  {
   "cell_type": "markdown",
   "metadata": {},
   "source": [
    "## Why do you need JWT \n",
    "\n",
    "Certain features in your application need to be restricted or require some sort of authentication mechanism. For example, a user information database  should only be accessed by administrators as it can contain sensitive information. Certain actions also need to be restricted such as deleting, updating, and creating new records. Additionally, different actions may be attributed to different roles. "
   ]
  },
  {
   "cell_type": "markdown",
   "metadata": {},
   "source": [
    "## What is JWT (AKA \"JOT\")\n",
    "\n",
    "★ JWT stands for <mark>**JSON Web Token**</mark>. \n",
    "\n",
    "JWT allows information, in our case authentication roles, to be securely shared between an applications frontend and backend server as a JSON object . \n",
    "\n",
    "**Compact** = Because of its size, it can be sent through an URL, POST parameter, or inside an HTTP header. Additionally, due to its size its transmission is fast.\n",
    "[will discuss payload later]\n",
    "\n",
    "**Self-contained** = The payload contains all the required information about the user, to avoid querying the database more than once."
   ]
  },
  {
   "cell_type": "markdown",
   "metadata": {},
   "source": [
    "## What is a JWT Token\n",
    "\n",
    "JWT is represented as JSON objects, these objects contain information about the user. JWT are supposed to be compact (should be easy to send between 2 parties). This is useful in the context of web development. When data needs to be moved efficiently.\n",
    "\n",
    "[by looking in the JwtTokenUtil.java]\n",
    "\n",
    "**JWT mainly has 3 different parts:**\n",
    "\n",
    "1. **Header**\n",
    "\n",
    "- usually contains the type of token and signing algo being used \n",
    "- determined by ‘SignitureAlgorithm’ which is used for signing the key it is using HMAC SHA algorithm and the ‘getSecertKey’ method to provide key for signing"
   ]
  },
  {
   "cell_type": "code",
   "execution_count": null,
   "metadata": {},
   "outputs": [],
   "source": [
    "//header example\n",
    "{\n",
    "  \"alg\": \"HS256\",\n",
    "  \"typ\": \"JWT\"\n",
    "}"
   ]
  },
  {
   "cell_type": "markdown",
   "metadata": {},
   "source": [
    "2. **Payload**\n",
    "\n",
    "- contains claims (statements about user) and other data, 3 types of claims: <mark>**registered, public, private.**</mark> It is good to have predetermined claims: iss (issuer), exp (expiration time), sub (subject), aud (audience), ect. Here are some more examples of [predetermined claims](https://datatracker.ietf.org/doc/html/rfc7519#section-4.1).\n",
    "- payload is made from the ‘doGenerateToken’ method here claims like orles are added ‘roles’ info is taken from ‘GrantedAuthority’ objects from ‘UserDetails"
   ]
  },
  {
   "cell_type": "code",
   "execution_count": null,
   "metadata": {},
   "outputs": [],
   "source": [
    "//payload example\n",
    "{\n",
    "    //subject\n",
    "    \"sub\": \"1234567890\",\n",
    "    \"name\": \"Tanisha Patel\",\n",
    "    \"admin\": true\n",
    "}"
   ]
  },
  {
   "cell_type": "markdown",
   "metadata": {},
   "source": [
    "3. **Signature** \n",
    "\n",
    "- to create signature part head and payload are combined and secret is used to sign it. Signature is used to verify sender of JWT to ensure message wasn’t changed along the way\n",
    "- the signature is made from the <mark>**‘doGenerateToken’**</mark> method where the JWT is signed with <mark>**‘SectretKey’**</mark> from the ‘getSecretKey’ method\n",
    "\n",
    "JWT are commonly used in authentication, when the user logs in and gets a JWT, sent to the request to authenticate said user. Servers can verify a token's authenticity by checking the signature, if valid then the server can trust the information in the token."
   ]
  },
  {
   "cell_type": "code",
   "execution_count": null,
   "metadata": {},
   "outputs": [],
   "source": [
    "//example using the HMAC SHA 256 algorithm\n",
    "HMACSHA256(\n",
    "    base64UrlEncode(header) + \".\" +\n",
    "    base64UrlEncode(payload),\n",
    "    secret)"
   ]
  },
  {
   "cell_type": "markdown",
   "metadata": {},
   "source": [
    "<img width=\"519\" alt=\"Screenshot 2023-12-13 at 4 12 49 PM\" src=\"https://github.com/The-Zesty-Rachits/CatalinaWarden/assets/111661543/cb6f99fe-b879-47f5-9da2-b08964ca3b5f\">"
   ]
  },
  {
   "cell_type": "markdown",
   "metadata": {},
   "source": [
    "## Web Tokens\n",
    "\n",
    "When a user logs in a <mark>**JSON Web Token**</mark> is returned. Tokens are basically credentials so they need to be protected\n",
    "\n",
    "★ Should not keep tokens longer than required\n",
    "\n",
    "★ Should not store data in [local storage](https://cheatsheetseries.owasp.org/cheatsheets/HTML5_Security_Cheat_Sheet.html#local-storage)\n",
    "\n",
    "Whenever the user wants to access a protected route or resource, the user agent should send the JWT, typically in the Authorization header using the Bearer schema. The content of the header should look like the following:\n"
   ]
  },
  {
   "cell_type": "code",
   "execution_count": null,
   "metadata": {},
   "outputs": [],
   "source": [
    "Authorization: Bearer <token>"
   ]
  },
  {
   "cell_type": "markdown",
   "metadata": {},
   "source": [
    "★ if you send JWT tokens through HTTP headers, you should try to prevent them from getting too big. (some servers don't accept more than 8KB in headers)\n",
    "\n",
    "Alternative solution >> Auth0 Fine-Grained Authorization.\n",
    "\n",
    "Instead of adding all the details into a large JWT you can keep the tokens smaller and use Auth0 to check more detailed rules and premissions. Instead of having all the acess information in each request, check Autho0 to see if the user has the right permissions, only fetch the necessary details when required, reducing the data transfer overhead."
   ]
  },
  {
   "cell_type": "markdown",
   "metadata": {},
   "source": [
    "\n",
    "\n",
    "<img width=\"488\" alt=\"Screenshot 2023-12-13 at 4 08 15 PM\" src=\"https://github.com/The-Zesty-Rachits/CatalinaWarden/assets/111661543/5802fc5a-fbeb-4d01-99c4-cd6bce8575ef\">\n",
    "\n",
    "1.★ The application or client requests authorization to the authorization server. This is performed through one of the different authorization flows. For example, a typical OpenID Connect compliant web application will go through the /oauth/authorize endpoint using the authorization code flow.\n",
    "\n",
    "2.★ When the authorization is granted, the authorization server returns an access token to the application.\n",
    "\n",
    "3.★ The application uses the access token to access a protected resource (like an API).\n",
    "\n",
    "Don't put secret information within token > with signed tokens all info contained within token is exposed to userer/other parties but they can' change it.\n"
   ]
  },
  {
   "cell_type": "markdown",
   "metadata": {},
   "source": [
    "## Benefits of JWT "
   ]
  },
  {
   "cell_type": "markdown",
   "metadata": {},
   "source": [
    "Some benefits of <span style=\"color:blue\">JSON Web Tokens (JWT)</span> over <span style=\"color:red\">Simple Web Tokens (SWT) and Security Assertion Markup Language Tokens (SAML):</span>\n",
    "\n",
    "★ **Asymmetric Signing:**\n",
    "\n",
    "<span style=\"color:blue\">**JWT**: Supports asymmetric signing using a public/private key pair, providing a more robust security model.</span>\n",
    "\n",
    "<span style=\"color:red\">**SWT**: Limited to symmetric signing with HMAC, which may have implications for key management and security.</span>\n",
    "\n",
    "★ **Versatility in Key Usage:**\n",
    "\n",
    "<span style=\"color:blue\">**JWT**: Allows the use of various key types, including X.509 certificates, enhancing flexibility in key management strategies.</span>\n",
    "\n",
    "<span style=\"color:red\">**SWT**: Primarily relies on shared secrets for signing, limiting the range of available key types.</span>\n",
    "\n",
    "★ **Ease of Implementation:**\n",
    "\n",
    "<span style=\"color:blue\">**JWT**: Typically considered easier to implement due to its simpler structure and support for common web development libraries.</span>\n",
    "\n",
    "<span style=\"color:red\">**SWT and SAML**: May involve more complex implementations, especially in the case of XML-based SAML tokens.</span>\n",
    "\n",
    "★ **Compatibility with Modern Web Standards:**\n",
    "\n",
    "<span style=\"color:blue\">**JWT**: Aligns well with modern web development practices, RESTful APIs, and JSON-based communication, making it a natural fit for contemporary applications.</span>\n",
    "\n",
    "<span style=\"color:red\">**SWT and SAML**: May be perceived as more traditional or heavyweight, with SAML using XML, which could be less favorable in certain contexts.</span>\n",
    "\n",
    "★ **Token Size and Efficiency:**\n",
    "\n",
    "<span style=\"color:blue\">**JWT**: Typically has a more compact size due to its JSON format, leading to more efficient transmission and reduced overhead.</span>\n",
    "\n",
    "<span style=\"color:red\">**SWT and SAML**: May have larger token sizes, especially in the case of XML-based SAML, potentially impacting network performance.</span>\n",
    "\n",
    "★ **Community Adoption:**\n",
    "\n",
    "<span style=\"color:blue\">**JWT**: Enjoying widespread adoption in the developer community, with extensive support in libraries, frameworks, and platforms.</span>\n",
    "\n",
    "<span style=\"color:red\">**SWT and SAML**: While still used in various scenarios, they may not be as widely adopted or preferred in modern web development.</span>\n",
    "\n",
    "★ **Standardization and Interoperability:**\n",
    "\n",
    "<span style=\"color:blue\">**JWT**: Benefits from standardized specifications, promoting interoperability between different systems and services.</span>\n",
    "\n",
    "<span style=\"color:red\">**SWT and SAML**: While standardized, may face challenges in terms of interoperability and compatibility in diverse environments.</span>\n",
    "\n",
    "However, between these three (JWT, SWT, and SAML) depends on requirments of application, security concerns, and overall structure of system. [each one has special uses can suitable depending on the case]\n"
   ]
  },
  {
   "cell_type": "markdown",
   "metadata": {},
   "source": [
    "## Anatomy of JWT Folder \n",
    "\n",
    "Open the cloned backend >>\n",
    "\n",
    "src/main > spring_portfolio > mvc > jwt\n",
    "\n",
    "**JwtApiController.java**\n",
    "\n",
    "Maps the authentication token creation method to the “/create” endpoint. Validating email and password and if valid then generates the JWT token for credentials.\n",
    "\n",
    "**JwtAuthenticationEntryPoint.java**\n",
    "\n",
    "Implementing AuthenticationEntryPoint and overriding the commence function to specify what to do when a user is not authenticated, return unauthorized error.\n",
    "\n",
    "**JwtRequestFilter.java**\n",
    "\n",
    "Extend Spring Web Filter using OncePerRequestFiler class and overrides doFilterInternal function so requests sent to server are processed through function. Function then checks if JWT token is valid and sets Authentication to specify current user is authenticated.\n",
    "\n",
    "**JwtTokenUtil.java**\n",
    "\n",
    "Contains utilities/functions that are needed to generate JWT tokens and get information like email from JWT tokens to make sure JWT token is valid\n"
   ]
  },
  {
   "cell_type": "markdown",
   "metadata": {},
   "source": [
    "## Unauthenticated User Redirect\n",
    "\n",
    "In the context of JWT (JSON Web Tokens) in Java, the concept of unauthenticated user redirect typically involves handling situations where a user tries to access a protected resource without proper authentication. JWT is commonly used for authentication and authorization purposes in web applications.\n",
    "\n",
    "Here's an explanation of how unauthenticated user redirect might be implemented in Java with JWT:\n",
    "\n",
    "1. **Authentication Process:**\n",
    "   - When a user tries to access a <mark>protected</mark> resource, they need to include a valid JWT token in their request.\n",
    "   - The server verifies the JWT token's signature and checks its claims to ensure the user is authenticated.\n",
    "\n",
    "2. **Handling Unauthenticated Users:**\n",
    "   - If the user is not authenticated (i.e., they don't provide a valid JWT token or the token is expired), the server identifies them as an <mark>unauthenticated</mark> user.\n",
    "\n",
    "3. **Redirect Mechanism:**\n",
    "   - Instead of directly denying access, a common approach is to redirect the unauthenticated user to a login page or an authentication <mark>endpoint</mark>.\n",
    "\n",
    "4. **Java Implementation:**\n",
    "   - In Java, you might use a web framework like Spring Boot for building your application.\n",
    "   - Spring Security is commonly used for handling authentication and authorization.\n",
    "\n",
    "Here's a simplified example using Spring Security:"
   ]
  },
  {
   "cell_type": "code",
   "execution_count": null,
   "metadata": {},
   "outputs": [],
   "source": [
    "@Configuration\n",
    "@EnableWebSecurity\n",
    "public class SecurityConfig extends WebSecurityConfigurerAdapter {\n",
    "\n",
    "    @Override\n",
    "    protected void configure(HttpSecurity http) throws Exception {\n",
    "        http.authorizeRequests()\n",
    "                .antMatchers(\"/protected-resource/**\").authenticated() // authentication for \"protected resources\"\n",
    "                .anyRequest().permitAll() // any request NOT to protected resources is allowed\n",
    "                .and() \n",
    "            .formLogin()\n",
    "                .loginPage(\"/login\") // Redirect to the login page for unauthenticated users\n",
    "                .permitAll() \n",
    "                .and()\n",
    "            .logout()\n",
    "                .permitAll();\n",
    "    }\n",
    "\n",
    "    // Other configurations, userDetailsService, etc.\n",
    "}"
   ]
  },
  {
   "cell_type": "markdown",
   "metadata": {},
   "source": [
    "   - In this example, <mark>/protected-resource/**</mark> is a placeholder for the path of your protected resource.\n",
    "   - If an unauthenticated user tries to access this resource, they will be redirected to the login page (\"/login\" in this case).\n",
    "\n",
    "1. **Login Controller:**\n",
    "   - You would need to implement a controller for handling the login process and authentication."
   ]
  },
  {
   "cell_type": "code",
   "execution_count": null,
   "metadata": {},
   "outputs": [],
   "source": [
    "@Controller\n",
    "public class LoginController {\n",
    "\n",
    "    @GetMapping(\"/login\")\n",
    "    public String showLoginForm() {\n",
    "        return \"login\"; // Render the login page\n",
    "    }\n",
    "\n",
    "    // Handle form submission and authentication here\n",
    "}"
   ]
  },
  {
   "cell_type": "markdown",
   "metadata": {},
   "source": [
    "   - The `showLoginForm` method renders the login page when an unauthenticated user is redirected."
   ]
  },
  {
   "cell_type": "markdown",
   "metadata": {},
   "source": [
    "## What Happens When you aren't Logged In\n",
    "\n",
    "When a user is not logged in and tries to access a protected resource (e.g., `/person/authenticate` or `/human/authenticate`), they will be redirected to the login page (`/login`). This redirection is typically handled by the security configuration in your Spring application. In the provided code, the redirection is not explicitly shown, but it's assumed that there is a login page or endpoint where users are redirected for authentication.\n",
    "\n",
    "In the `JwtAuthenticationEntryPoint` class, the `commence` method is called when an unauthenticated user tries to access a secured resource. It sends an unauthorized response (HTTP 401) with the message \"Unauthorized.\"\n",
    "\n",
    "### JwtAuthenticationEntryPoint.java"
   ]
  },
  {
   "cell_type": "code",
   "execution_count": null,
   "metadata": {},
   "outputs": [],
   "source": [
    "@Component\n",
    "public class JwtAuthenticationEntryPoint implements AuthenticationEntryPoint {\n",
    "\n",
    "    @Override\n",
    "    public void commence(HttpServletRequest request, HttpServletResponse response, AuthenticationException authException) throws IOException {\n",
    "\n",
    "        // When an unauthenticated user tries to access a secured resource\n",
    "        // Send an unauthorized response (HTTP 401) with the message \"Unauthorized\"\n",
    "        response.sendError(HttpServletResponse.SC_UNAUTHORIZED, \"Unauthorized\");\n",
    "    }\n",
    "}"
   ]
  },
  {
   "cell_type": "markdown",
   "metadata": {},
   "source": [
    "Explanation:\n",
    "\n",
    "- The `JwtAuthenticationEntryPoint` class implements the `AuthenticationEntryPoint` interface.\n",
    "- The `commence` method is invoked when an unauthenticated user attempts to access a secured resource.\n",
    "- The method sends an HTTP 401 (Unauthorized) response to indicate that authentication is required.\n",
    "\n",
    "This class is part of the authentication flow and handles the entry point for unauthenticated requests.\n",
    "\n",
    "### JwtRequestFilter.java"
   ]
  },
  {
   "cell_type": "markdown",
   "metadata": {},
   "source": [
    "**Popcorn Hack**: Think back to your mini-project. What kind of pages did you have that could've required login?\n",
    "Use the JWT code given in the backend and show in the empty code cell below how you would implement it:"
   ]
  },
  {
   "cell_type": "code",
   "execution_count": null,
   "metadata": {},
   "outputs": [],
   "source": [
    "// Code/Code/Code here!\n",
    "@Controller\n",
    "public class LoginController {\n",
    "    \n",
    "    @GetController(\"/login\")\n",
    "    public String login() {\n",
    "        return \"login\"\n",
    "    }\n",
    "\n",
    "    @GetController(\"/cities\")\n",
    "    public String cities() {\n",
    "        return \"cities\"\n",
    "    }\n",
    "}"
   ]
  },
  {
   "cell_type": "code",
   "execution_count": null,
   "metadata": {},
   "outputs": [],
   "source": [
    "@Component\n",
    "public class JwtRequestFilter extends OncePerRequestFilter {\n",
    "\n",
    "    // ... (other autowired dependencies)\n",
    "\n",
    "    @Override\n",
    "    protected void doFilterInternal(HttpServletRequest request, HttpServletResponse response, FilterChain chain)\n",
    "            throws ServletException, IOException {\n",
    "\n",
    "        // Extract JWT token from the cookie in the request\n",
    "        final Cookie[] cookies = request.getCookies();\n",
    "        String username = null;\n",
    "        String jwtToken = null;\n",
    "\n",
    "        // Check if cookies are present in the request\n",
    "        if (cookies != null) {\n",
    "            for (Cookie cookie : cookies) {\n",
    "                if (cookie.getName().equals(\"jwt\")) {\n",
    "                    jwtToken = cookie.getValue();\n",
    "                }\n",
    "            }\n",
    "\n",
    "            // If a JWT token is found, attempt to validate and extract username\n",
    "            if (jwtToken != null) {\n",
    "                try {\n",
    "                    username = jwtTokenUtil.getUsernameFromToken(jwtToken);\n",
    "                } catch (IllegalArgumentException e) {\n",
    "                    System.out.println(\"Unable to get JWT Token\");\n",
    "                } catch (ExpiredJwtException e) {\n",
    "                    System.out.println(\"JWT Token has expired\");\n",
    "                } catch (Exception e) {\n",
    "                    System.out.println(\"An error occurred\");\n",
    "                }\n",
    "            }\n",
    "        }\n",
    "\n",
    "        // If no valid JWT token is found or an error occurs, the user remains unauthenticated\n",
    "\n",
    "        // Continue with the filter chain\n",
    "        chain.doFilter(request, response);\n",
    "    }\n",
    "}"
   ]
  },
  {
   "cell_type": "markdown",
   "metadata": {},
   "source": [
    "Explanation:\n",
    "\n",
    "- The `JwtRequestFilter` class extends `OncePerRequestFilter` and is responsible for processing JWT tokens in each request.\n",
    "- In the `doFilterInternal` method, it extracts the JWT token from the cookie in the request.\n",
    "- If no valid JWT token is found or an error occurs during extraction/validation, the user remains unauthenticated.\n",
    "- The filter then continues with the filter chain, allowing other filters to process the request.\n",
    "\n",
    "This class is crucial for validating and processing JWT tokens in each incoming request. If a valid token is present, it sets the user's authentication details in the security context. If not, the user remains unauthenticated."
   ]
  },
  {
   "cell_type": "markdown",
   "metadata": {},
   "source": [
    "## Live Demo\n",
    "\n",
    "Take notes in your own words during the live demo as if you're explaining to someone else how a JWT program can be used."
   ]
  },
  {
   "cell_type": "markdown",
   "metadata": {},
   "source": [
    "Notes:\n",
    "\n",
    "- You have to log in correctly to check who you are-you have the authority of user\n",
    "- Can't do everything as a user (can't use all functionalities)\n",
    "- To check who everyone is, you have to have authority of admin"
   ]
  },
  {
   "cell_type": "markdown",
   "metadata": {},
   "source": [
    "# Hacks\n",
    "\n",
    "- Finish popcorn hacks\n",
    "\n",
    "- Using Canva, Draw.io, or any other graphics software of your choice, make a diagram that visually explains how user authentication works with JWT in Java.\n",
    "- Take a screenshot of your backend repository being successfully tested with Postman.\n",
    "\n",
    "- Create a basic API, and implement the JWT security features mentioned above. Bonus points for redirection to a login page to create a JWT token. \n"
   ]
  },
  {
   "cell_type": "markdown",
   "metadata": {},
   "source": [
    "## user authentication diagram\n"
   ]
  },
  {
   "attachments": {
    "image.png": {
     "image/png": "[encoded data removed]"
    }
   },
   "cell_type": "markdown",
   "metadata": {},
   "source": [
    "## Backend repository testing\n",
    "![postman](/images/cities_test.png)\n",
    "![image.png](attachment:image.png)"
   ]
  },
  {
   "cell_type": "markdown",
   "metadata": {},
   "source": [
    "<!DOCTYPE HTML>\n",
    "\n",
    "<html xmlns:layout=\"http://www.w3.org/1999/xhtml\" xmlns:th=\"http://www.w3.org/1999/xhtml\"\n",
    "      layout:decorate=\"~{layouts/base}\" lang=\"en\">\n",
    "\n",
    "<head>\n",
    "    <title>Login for JWT Hacks</title>\n",
    "</head>\n",
    "\n",
    "<body>\n",
    "\n",
    "    <th:block layout:fragment=\"body\" th:remove=\"tag\">\n",
    "\n",
    "    <div>\n",
    "    <div class=\"p-5 mb-4 bg-light text-dark rounded-3\">\n",
    "        <h1>Login</h1>\n",
    "        <label for=\"email\">Username:</label><br>\n",
    "        <input type=\"text\" id=\"username\" name=\"username\"><br>\n",
    "        <label for=\"password\">Password:</label><br>\n",
    "        <input type=\"text\" id=\"password\" name=\"password\"><br><br>\n",
    "        <input type=\"submit\" value=\"Login\" onclick=\"login()\">\n",
    "        <p id=\"message\"></p>\n",
    "    </div>\n",
    "</div>\n",
    "\n",
    "<script>\n",
    "    function login() {\n",
    "        var email = document.getElementById('username').value;\n",
    "        var password = document.getElementById('password').value;\n",
    "        var data = {email:email, password:password};\n",
    "        fetch(\"/authenticate\", {method: 'POST', headers: {'Content-Type': 'application/json'}, body: JSON.stringify(data)}).then((data) => {\n",
    "            if (data.status == 200) {\n",
    "                window.location.replace(\"/hacksgo\");\n",
    "            } else if (data.status == 401) {\n",
    "                document.getElementById('message').innerHTML = \"not authorized\"\n",
    "            } else {\n",
    "                document.getElementById('message').innerHTML = \"Invalid email or password\"\n",
    "            }\n",
    "        });\n",
    "    }\n",
    "    \n",
    "</script>\n",
    "\n",
    "\n",
    "</th:block>\n",
    "</body>"
   ]
  },
  {
   "cell_type": "markdown",
   "metadata": {},
   "source": [
    "<head>\n",
    "    <title>Hacks</title>\n",
    "</head>\n",
    "\n",
    "<body>\n",
    "    <span id=\"conga\">congrats!</span>\n",
    "    <button id=\"button1\" style=\"height:50px;width:100px\">Click for fun!</button>\n",
    "    <script>\n",
    "        document.getElementById(\"button1\").onclick = function(){\n",
    "            fetch(\"/studentq\", {method: 'GET'})\n",
    "            .then(response => response.json())\n",
    "            .then((data) => {\n",
    "                document.getElementById(\"conga\").textContent=data.hackRes;\n",
    "            });\n",
    "        }\n",
    "    </script>\n",
    "</body>"
   ]
  },
  {
   "cell_type": "code",
   "execution_count": null,
   "metadata": {},
   "outputs": [],
   "source": [
    "package com.nighthawk.spring_portfolio.hacks;\n",
    "\n",
    "public class Hacks {\n",
    "    public static String HackApi() {\n",
    "        return \"Fun!\";\n",
    "    }\n",
    "}\n"
   ]
  },
  {
   "cell_type": "code",
   "execution_count": null,
   "metadata": {},
   "outputs": [],
   "source": [
    "package com.nighthawk.spring_portfolio.hacks;\n",
    "\n",
    "import org.springframework.http.ResponseEntity;\n",
    "import org.springframework.stereotype.Controller;\n",
    "import org.springframework.web.bind.annotation.GetMapping;\n",
    "\n",
    "@Controller\n",
    "public class HacksController {\n",
    "    @GetMapping(\"/mylogin\")\n",
    "    public String login() {\n",
    "        return \"mylogin\";\n",
    "    }\n",
    "\n",
    "    @GetMapping(\"/hacks\")\n",
    "    public String hacks() {\n",
    "        return \"mylogin\";\n",
    "    }\n",
    "\n",
    "    @GetMapping(\"/hacksgo\")\n",
    "    public String hacksgo() {\n",
    "        return \"hacks\";\n",
    "    }\n",
    "\n",
    "    @GetMapping(\"/studentq\")\n",
    "    public ResponseEntity<?> getHack() {\n",
    "        String hackString = Hacks.HackApi();\n",
    "        var response = new Object() {\n",
    "            public final String hackRes = hackString;\n",
    "        };\n",
    "        return ResponseEntity.ok(response);\n",
    "\n",
    "    }\n",
    "}\n"
   ]
  }
 ],
 "metadata": {
  "kernelspec": {
   "display_name": "Java",
   "language": "java",
   "name": "java"
  },
  "language_info": {
   "codemirror_mode": "java",
   "file_extension": ".jshell",
   "mimetype": "text/x-java-source",
   "name": "java",
   "pygments_lexer": "java",
   "version": "17.0.8.1+1-Ubuntu-0ubuntu120.04"
  }
 },
 "nbformat": 4,
 "nbformat_minor": 2
}
