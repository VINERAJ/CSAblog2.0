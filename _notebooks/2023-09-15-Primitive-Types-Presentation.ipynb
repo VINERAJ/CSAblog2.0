{
 "cells": [
  {
   "cell_type": "markdown",
   "metadata": {},
   "source": [
    "---\n",
    "toc: true\n",
    "comments: true\n",
    "layout: post\n",
    "title: Primitive Types\n",
    "description: Teaching Primitve Types\n",
    "courses: { compsci: {week: 5} }\n",
    "type: tangibles\n",
    "---"
   ]
  },
  {
   "cell_type": "code",
   "execution_count": 4,
   "metadata": {},
   "outputs": [
    {
     "name": "stdout",
     "output_type": "stream",
     "text": [
      "12\n",
      "5.4\n",
      "a\n"
     ]
    }
   ],
   "source": [
    "//Primitive Data Types\n",
    "public class PrimitiveDataTypes {\n",
    "    int integer = 0;\n",
    "    boolean bool = true;\n",
    "    char character = 'a';\n",
    "    double doubleVal = 3.2;\n",
    "}\n",
    "\n",
    "public static void main(String[] args) {\n",
    "    PrimitiveDataTypes type = new PrimitiveDataTypes();\n",
    "    System.out.println(type.integer + 12);\n",
    "    System.out.println(type.doubleVal+2.2);\n",
    "    System.out.println(type.character);\n",
    "}\n",
    "main(null);"
   ]
  },
  {
   "cell_type": "markdown",
   "metadata": {},
   "source": [
    "<img src=\"/CSAblog/download.jfif\" alt=\"wrapper\" width=\"400\"/>"
   ]
  },
  {
   "cell_type": "code",
   "execution_count": 5,
   "metadata": {},
   "outputs": [
    {
     "name": "stdout",
     "output_type": "stream",
     "text": [
      "17\n",
      "17\n",
      "3.9\n"
     ]
    }
   ],
   "source": [
    "//Wrapper Classes\n",
    "public class Wrappers {\n",
    "    Integer ageWrapper = 17;\n",
    "    int age = Integer.parseInt(\"17\");\n",
    "    String gpaString = \"3.9\";\n",
    "    double gpaDouble = Double.parseDouble(gpaString);\n",
    "}\n",
    "\n",
    "public static void main(String[] args) {\n",
    "    Wrappers wrapper = new Wrappers();\n",
    "    System.out.println(wrapper.ageWrapper);\n",
    "    System.out.println(wrapper.age);\n",
    "    System.out.println(wrapper.gpaDouble);\n",
    "}\n",
    "\n",
    "main(null);"
   ]
  },
  {
   "cell_type": "markdown",
   "metadata": {},
   "source": [
    "## Enums\n",
    "## What are they?\n",
    "Enums are a type of data, which allows a variable to be a predetermined set of values\n",
    "\n",
    "## Uses\n",
    "* Examples: days of the week\n",
    "\n",
    "## Things you can do with Enums\n",
    "* ordinal\n",
    "* switch\n",
    "* for loops"
   ]
  },
  {
   "cell_type": "code",
   "execution_count": 4,
   "metadata": {},
   "outputs": [
    {
     "name": "stdout",
     "output_type": "stream",
     "text": [
      "What is the third unit in AP CSA? Answer: BOOLEAN\n",
      "What is the unit is Classes in AP CSA? Answer: 2\n",
      "The selected unit is: array list\n",
      "Primitive_data_types\n",
      "CLASSES\n",
      "BOOLEAN\n",
      "ITERATION\n",
      "WRITING_CLASSES\n",
      "ARRAY\n",
      "ARRAY_LIST\n",
      "TWO_DIMENSIONAL_ARRAY\n",
      "INHERITANCE\n",
      "RECURSION\n"
     ]
    }
   ],
   "source": [
    "public class EnumTest { \n",
    "    enum Units {\n",
    "    PRIMITVE_DATA_TYPES,\n",
    "    CLASSES,\n",
    "    BOOLEAN,\n",
    "    ITERATION,\n",
    "    WRITING_CLASSES,\n",
    "    ARRAY,\n",
    "    ARRAY_LIST,\n",
    "    TWO_DIMENSIONAL_ARRAY,\n",
    "    INHERITANCE,\n",
    "    RECURSION;\n",
    "}\n",
    "public static void main(String[] args) { \n",
    "  System.out.println(\"What is the third unit in AP CSA? Answer: \" + Units.BOOLEAN);\n",
    "  Units classUnit = Units.CLASSES;\n",
    "  System.out.println(\"What is the unit is Classes in AP CSA? Answer: \" + (classUnit.ordinal() + 1));\n",
    "  Units selectedUnit = Units.ARRAY_LIST;\n",
    "\n",
    "  switch(selectedUnit) {\n",
    "    case PRIMITVE_DATA_TYPES:\n",
    "      System.out.println(\"The selected unit is: primitive data types\");\n",
    "      break;\n",
    "    case BOOLEAN:\n",
    "       System.out.println(\"The selected unit is: boolean\");\n",
    "      break;\n",
    "    case CLASSES:\n",
    "      System.out.println(\"The selected unit is: classes\");\n",
    "      break;\n",
    "    case ITERATION:\n",
    "      System.out.println(\"The selected unit is: iteration\");\n",
    "      break;\n",
    "    case WRITING_CLASSES:\n",
    "      System.out.println(\"The selected unit is: writing classes\");\n",
    "      break;\n",
    "    case ARRAY:\n",
    "      System.out.println(\"The selected unit is: array\");\n",
    "      break;\n",
    "    case ARRAY_LIST:\n",
    "      System.out.println(\"The selected unit is: array list\");\n",
    "      break;\n",
    "    case TWO_DIMENSIONAL_ARRAY:\n",
    "      System.out.println(\"The selected unit is: 2d array\");\n",
    "      break;\n",
    "    case INHERITANCE:\n",
    "      System.out.println(\"The selected unit is: inheritance\");\n",
    "      break;\n",
    "    case RECURSION:\n",
    "      System.out.println(\"The selected unit is: recursion\");\n",
    "      break;\n",
    "  }\n",
    "  for (Units allUnits: Units.values()) {\n",
    "    System.out.println(allUnits);\n",
    "  }\n",
    "} \n",
    "}\n",
    "EnumTest.main(null);"
   ]
  },
  {
   "cell_type": "markdown",
   "metadata": {},
   "source": [
    "## Casting\n",
    "Casting is converting one type of variable to another\n",
    "ex: double to int"
   ]
  },
  {
   "cell_type": "code",
   "execution_count": null,
   "metadata": {},
   "outputs": [],
   "source": [
    "public class Casting {\n",
    "    public static void main(String[] args) {\n",
    "        double castTest = 3.2;\n",
    "        System.out.println((int) castTest);\n",
    "        castTest = 3.7;\n",
    "        System.out.println((int) castTest);\n",
    "        System.out.println((int) (castTest+0.5));\n",
    "\n",
    "        int castTest2 = 3;\n",
    "        System.out.println(castTest2/2);\n",
    "        System.out.println(castTest2/2.0);\n",
    "    }\n",
    "}\n",
    "Casting.main(null);"
   ]
  },
  {
   "cell_type": "markdown",
   "metadata": {},
   "source": [
    "What are the greatest values integers and doubles can store?"
   ]
  },
  {
   "cell_type": "code",
   "execution_count": null,
   "metadata": {},
   "outputs": [],
   "source": [
    "public class GreatestValue {\n",
    "    public static void main(String[] args) {\n",
    "        System.out.println(Integer.MAX_VALUE);\n",
    "        System.out.println(Integer.MIN_VALUE);\n",
    "        System.out.println(Double.MAX_VALUE);\n",
    "        System.out.println(Double.MIN_VALUE);\n",
    "    }\n",
    "}\n",
    "GreatestValue.main(null)"
   ]
  },
  {
   "cell_type": "markdown",
   "metadata": {},
   "source": [
    "Assignment Operators\n",
    "Assignment operators are things like +=, -=, *=, %="
   ]
  },
  {
   "cell_type": "code",
   "execution_count": null,
   "metadata": {},
   "outputs": [],
   "source": [
    "public class AssignmentOperators {\n",
    "    public static void main(String[] args) {\n",
    "        int firstInt = 9;\n",
    "        int secondInt = 1;\n",
    "        secondInt = firstInt+secondInt;\n",
    "        System.out.println(secondInt);\n",
    "        secondInt = 1;\n",
    "        secondInt += firstInt;\n",
    "        System.out.println(secondInt);\n",
    "\n",
    "        //Modulo\n",
    "        firstInt = 5;\n",
    "        secondInt = 3;\n",
    "        System.out.println(firstInt%secondInt);\n",
    "        System.out.println(firstInt%=3);\n",
    "    }\n",
    "}\n",
    "AssignmentOperators.main(null);"
   ]
  },
  {
   "cell_type": "markdown",
   "metadata": {},
   "source": [
    "## Hacks\n"
   ]
  },
  {
   "cell_type": "code",
   "execution_count": 1,
   "metadata": {},
   "outputs": [
    {
     "name": "stdout",
     "output_type": "stream",
     "text": [
      "Pick your first number: \n",
      "Please input your desired calculator operation (+, -, *, /, %): \n",
      "Pick your second number: \n",
      "Integer: 8\n",
      "Double: 8.0\n"
     ]
    }
   ],
   "source": [
    "import java.util.Scanner;\n",
    "\n",
    "public class Calculator {\n",
    "\n",
    "  public static void main(String[] args) {\n",
    "    Scanner calcInput = new Scanner(System.in);\n",
    "    String input;\n",
    "    String num1;\n",
    "    String num2;\n",
    "\n",
    "    System.out.println(\"Pick your first number: \");\n",
    "    num1 = calcInput.nextLine();\n",
    "\n",
    "    System.out.println(\"Please input your desired calculator operation (+, -, *, /, %): \");\n",
    "    input = calcInput.nextLine();\n",
    "\n",
    "    System.out.println(\"Pick your second number: \");\n",
    "    num2 = calcInput.nextLine();\n",
    "\n",
    "    int numberInt1 = Integer.parseInt(num1);\n",
    "    int numberInt2 = Integer.parseInt(num2);\n",
    "    double numberDoub1 = Double.parseDouble(num1);\n",
    "    double numberDoub2 = Double.parseDouble(num2);\n",
    "\n",
    "    if( input.equals(\"+\") ) {\n",
    "      int resultInt = numberInt1 + numberInt2;\n",
    "      double resultDoub = numberDoub1 + numberDoub2;\n",
    "      System.out.println(\"Integer: \" + resultInt);\n",
    "      System.out.println(\"Double: \" + resultDoub);\n",
    "    }\n",
    "\n",
    "    if( input.equals(\"-\") ) {\n",
    "      int resultInt = numberInt1 - numberInt2;\n",
    "      double resultDoub = numberDoub1 - numberDoub2;\n",
    "      System.out.println(\"Integer: \" + resultInt);\n",
    "      System.out.println(\"Double: \" + resultDoub);\n",
    "    }\n",
    "\n",
    "    if( input.equals(\"*\") ) {\n",
    "      int resultInt = numberInt1 * numberInt2;\n",
    "      double resultDoub = numberDoub1 * numberDoub2;\n",
    "      System.out.println(\"Integer: \" + resultInt);\n",
    "      System.out.println(\"Double: \" + resultDoub);\n",
    "    }\n",
    "\n",
    "    if( input.equals(\"/\") ) {\n",
    "      int resultInt = numberInt1 / numberInt2;\n",
    "      double resultDoub = numberDoub1 / numberDoub2;\n",
    "      System.out.println(\"Integer: \" + resultInt);\n",
    "      System.out.println(\"Double: \" + resultDoub);\n",
    "    }\n",
    "\n",
    "    if( input.equals(\"%\") ) {\n",
    "      int resultInt = numberInt1 % numberInt2;\n",
    "      double resultDoub = numberDoub1 % numberDoub2;\n",
    "      System.out.println(\"Integer: \" + resultInt);\n",
    "      System.out.println(\"Double: \" + resultDoub);\n",
    "    }\n",
    "  }\n",
    "}\n",
    "Calculator.main(null);"
   ]
  },
  {
   "cell_type": "code",
   "execution_count": 1,
   "metadata": {},
   "outputs": [
    {
     "name": "stdout",
     "output_type": "stream",
     "text": [
      "Choose an operation: 0. Exit, 1. Add, 2. Subtract, 3. Multiply, 4. Divide\n",
      "Enter two numbers: \n",
      "You chose to add the two numbers 2.000000 and 3.000000. Result: 5.000000\n",
      "Choose an operation: 0. Exit, 1. Add, 2. Subtract, 3. Multiply, 4. Divide\n"
     ]
    }
   ],
   "source": [
    "import java.util.Scanner;\n",
    "\n",
    "public class Calculator {\n",
    "\n",
    "    public double add(double x, double y){\n",
    "        return x + y;\n",
    "    }\n",
    "\n",
    "    public double sub(double x, double y){\n",
    "        return x - y;\n",
    "    }\n",
    "\n",
    "    public double mult(double x, double y){\n",
    "        return x * y;\n",
    "    }\n",
    "\n",
    "    public double div(double x, double y){\n",
    "        if(y == 0){\n",
    "            System.out.println(\"Not possible\");\n",
    "            return 0; // Return 0 to avoid proceeding with the division\n",
    "        } \n",
    "\n",
    "        return x / y;\n",
    "    }\n",
    "\n",
    "    public static void main(String[] args){\n",
    "        Calculator calculator = new Calculator();\n",
    "        Scanner sc = new Scanner(System.in);\n",
    "\n",
    "        while(true){\n",
    "            System.out.println(\"Choose an operation: 0. Exit, 1. Add, 2. Subtract, 3. Multiply, 4. Divide\");\n",
    "            int choice = sc.nextInt();\n",
    "\n",
    "            if(choice == 0){\n",
    "                break;\n",
    "            }\n",
    "\n",
    "            System.out.println(\"Enter two numbers: \");\n",
    "            double num1 = sc.nextDouble();\n",
    "            double num2 = sc.nextDouble();\n",
    "\n",
    "            switch(choice){\n",
    "                case 1:\n",
    "                    System.out.printf(\"You chose to add the two numbers %f and %f. Result: %f%n\", num1, num2, calculator.add(num1, num2));\n",
    "                    break;\n",
    "\n",
    "                case 2:\n",
    "                    System.out.printf(\"You chose to subtract the two numbers %f and %f. Result: %f%n\", num1, num2, calculator.sub(num1, num2));\n",
    "                    break;\n",
    "\n",
    "                case 3:\n",
    "                    System.out.printf(\"You chose to multiply the two numbers %f and %f. Result: %f%n\", num1, num2, calculator.mult(num1, num2));\n",
    "                    break;\n",
    "\n",
    "                case 4:\n",
    "                    System.out.printf(\"You chose to divide the two numbers %f and %f. Result: %f%n\", num1, num2, calculator.div(num1, num2));\n",
    "                    break;\n",
    "\n",
    "                default:\n",
    "                    System.out.println(\"Invalid choice!\");\n",
    "            }            \n",
    "        }\n",
    "\n",
    "        sc.close(); \n",
    "    }\n",
    "}\n",
    "\n",
    "Calculator.main(null);"
   ]
  }
 ],
 "metadata": {
  "kernelspec": {
   "display_name": "Java",
   "language": "java",
   "name": "java"
  },
  "language_info": {
   "codemirror_mode": "java",
   "file_extension": ".jshell",
   "mimetype": "text/x-java-source",
   "name": "java",
   "pygments_lexer": "java",
   "version": "11.0.20+8-post-Ubuntu-1ubuntu122.04"
  }
 },
 "nbformat": 4,
 "nbformat_minor": 2
}
