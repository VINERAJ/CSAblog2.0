{
 "cells": [
  {
   "cell_type": "markdown",
   "metadata": {},
   "source": [
    "---\n",
    "toc: True\n",
    "comments: True\n",
    "layout: post\n",
    "title: 2015 CSA FRQ Question 2\n",
    "description: Completing each FRQ so it runs, and blogging about relation to final project\n",
    "courses: {'compsci': {'week': 24}}\n",
    "type: tangibles\n",
    "---"
   ]
  },
  {
   "cell_type": "markdown",
   "metadata": {},
   "source": [
    "## Question 2\n",
    "Consider a guessing game in which a player tries to guess a hidden word. The hidden word contains only capital letters and has a length known to the player. A guess contains only capital letters and has the same length as the hidden word.\n",
    "\n",
    "After a guess is made, the player is given a hint that is based on a comparison between the hidden word and the guess. Each position in the hint contains a character that corresponds to the letter in the same position in the guess.\n",
    "\n",
    "![image](https://github.com/VINERAJ/CSAblog2.0/blob/main/images/Screenshot%202024-02-23%20230217.png?raw=true)\n",
    "\n",
    "![image](https://github.com/VINERAJ/CSAblog2.0/blob/main/images/Screenshot%202024-02-23%20230458.png?raw=true)"
   ]
  },
  {
   "cell_type": "code",
   "execution_count": 2,
   "metadata": {},
   "outputs": [
    {
     "name": "stdout",
     "output_type": "stream",
     "text": [
      "+A+++\n",
      "H****\n",
      "H*++*\n",
      "HAR*S\n",
      "HARPS\n"
     ]
    }
   ],
   "source": [
    "public class HiddenWord {\n",
    "    private static String word = \"\";\n",
    "    HiddenWord(String hidden) {\n",
    "        word = hidden;\n",
    "    }\n",
    "\n",
    "    public static String getHint(String guess) {\n",
    "        String hint = \"\";\n",
    "        for (int i=0; i<word.length(); i++) {\n",
    "            for (int j=0; j<word.length(); j++) {//uses nested for loop to see if each letter in guess is the same as one in secret word\n",
    "                if (i==j && guess.charAt(i)==word.charAt(j)) {// if chars are same at the same place, character at that index is the character\n",
    "                    hint+=guess.charAt(i);\n",
    "                    break;\n",
    "                } else if (i!=j && guess.charAt(i)==word.charAt(j)) {//if chars are the same but in different positions, character at that index is \"+\"\n",
    "                    hint+=\"+\";\n",
    "                    break;\n",
    "                } else if (j==word.length()-1) {// otherwise, character at that index is \"*\"\n",
    "                    hint+=\"*\";\n",
    "                }\n",
    "            }\n",
    "        }\n",
    "        return hint;\n",
    "    }\n",
    "}\n",
    "public class Test2 {\n",
    "    public static void main(String[] args) {\n",
    "        HiddenWord puzzle = new HiddenWord(\"HARPS\");\n",
    "        System.out.println(puzzle.getHint(\"AAAAAA\"));\n",
    "        System.out.println(puzzle.getHint(\"HELLO\"));\n",
    "        System.out.println(puzzle.getHint(\"HEARTS\"));\n",
    "        System.out.println(puzzle.getHint(\"HARMS\"));\n",
    "        System.out.println(puzzle.getHint(\"HARPS\"));\n",
    "    }\n",
    "}\n",
    "Test2.main(null);"
   ]
  },
  {
   "cell_type": "markdown",
   "metadata": {},
   "source": [
    "* FRQ Type: Classes\n",
    "* How main algorithm shows FRQ type:\n",
    "\n",
    "This FRQ involves using classes. To complete the FRQ, we must use classes and their associated features, like instance variables, constructors, and more. Using these features, we must evaluate the guess that the user inputs, and determine how close it is to the secret word. First, we initialize a new object, with the secret word. Then, we determine which letters in the guess are present and in the right place in the secret word, and we assign the correct symbol to the result."
   ]
  }
 ],
 "metadata": {
  "kernelspec": {
   "display_name": "Java",
   "language": "java",
   "name": "java"
  },
  "language_info": {
   "codemirror_mode": "java",
   "file_extension": ".jshell",
   "mimetype": "text/x-java-source",
   "name": "java",
   "pygments_lexer": "java",
   "version": "21.0.2+13-LTS"
  }
 },
 "nbformat": 4,
 "nbformat_minor": 2
}
