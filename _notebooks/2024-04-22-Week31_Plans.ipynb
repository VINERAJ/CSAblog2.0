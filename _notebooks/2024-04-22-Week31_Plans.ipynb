{
 "cells": [
  {
   "cell_type": "markdown",
   "metadata": {},
   "source": [
    "---\n",
    "toc: True\n",
    "comments: True\n",
    "layout: post\n",
    "title: Week 30 Plans\n",
    "description: Plans for week 30\n",
    "courses: {'compsci': {'week': 30}}\n",
    "type: plans\n",
    "---"
   ]
  },
  {
   "cell_type": "markdown",
   "metadata": {},
   "source": [
    "## Goals\n",
    "* Present Wednesday workshop on ArrayLists\n",
    "* Finish all WW hw\n",
    "* Work on project\n",
    "\n",
    "## Links\n",
    "* []()"
   ]
  }
 ],
 "metadata": {
  "language_info": {
   "name": "python"
  }
 },
 "nbformat": 4,
 "nbformat_minor": 2
}
