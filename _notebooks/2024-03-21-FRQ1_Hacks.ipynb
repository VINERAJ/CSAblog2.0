{
 "cells": [
  {
   "cell_type": "markdown",
   "metadata": {},
   "source": [
    "---\n",
    "toc: true\n",
    "comments: true\n",
    "layout: post\n",
    "title: FRQ 1 Hacks\n",
    "description: Methods and Control Structures\n",
    "courses: {'compsci': {'week': 26}}\n",
    "type: tangibles\n",
    "---"
   ]
  },
  {
   "cell_type": "markdown",
   "metadata": {},
   "source": [
    "## Question 3-ArrayList(Unit 6)\n",
    "Situation: You are developing a student management system where you need to store and analyze the grades of students in a class.\n",
    "\n",
    "(a) Define an arrayList in Java. Explain its significance and usefulness in programming.\n",
    "\n",
    "An arrayList is a Java object that are similar to arrays, in terms of their ability to store data, but while arrays have a fixed size determined at their creation, you can change the size of an arrayList when necessary. This is very useful in cases where you do not know the size of the data you want to store before creating the array/arrayList, for example, if you want to create a list of all the people in CSA who have completed their hacks on time. You don't know how many people will do this, so using an arrayList would be appropriate.\n",
    "\n",
    "(b) Code:\n",
    "\n",
    "You need to implement a method `calculateAverageGrade` that takes an arrayList `grades` of integers representing student grades and returns the average of all the elements in the arrayList. Write the method signature and the method implementation. Include comments to explain your code.\n"
   ]
  },
  {
   "cell_type": "code",
   "execution_count": 15,
   "metadata": {},
   "outputs": [
    {
     "name": "stdout",
     "output_type": "stream",
     "text": [
      "79.42\n"
     ]
    }
   ],
   "source": [
    "public class classGrades {\n",
    "    ArrayList<Double> grades = new ArrayList<Double>();\n",
    "    public classGrades(ArrayList<Double> grades) {//get grades from user\n",
    "        this.grades = grades;\n",
    "    }\n",
    "    public double calculateAverageGrade() {//method to calculate average\n",
    "        double sum = 0;\n",
    "        for(int i=0; i<grades.size(); i++) {//iterate through each value in the grades arrayList and add it to sum variable\n",
    "            sum+=grades.get(i);\n",
    "        }\n",
    "        double avg = sum/grades.size();//calculate average\n",
    "        return avg;\n",
    "    }\n",
    "}\n",
    "public class Q3 {\n",
    "    public static void main(String[] args) {\n",
    "        ArrayList<Double> grades = new ArrayList<Double>();//add grades to arraylist\n",
    "        grades.add(91.2);\n",
    "        grades.add(89.9);\n",
    "        grades.add(85.3);\n",
    "        grades.add(55.7);\n",
    "        grades.add(75.0);\n",
    "        classGrades avgCalc = new classGrades(grades);//create new object\n",
    "        System.out.println(avgCalc.calculateAverageGrade());//print out average\n",
    "    }\n",
    "}\n",
    "Q3.main(null);"
   ]
  },
  {
   "cell_type": "markdown",
   "metadata": {},
   "source": [
    "## Question 5: If, While, Else (Unit 3-4)\n",
    "Situation: You are developing a simple grading system where you need to determine if a given score is passing or failing.\n",
    "\n",
    "(a) Explain the roles and usage of the if statement, while loop, and else statement in Java programming. Provide examples illustrating each.\n",
    "If statements only evaluate the code inside them if the statement inside their parentheses evaluates to true. They are useful when you only want a certain piece of code to execute once certain conditions are met. Else statements are related to if statements, they are only evaluated if their corresponding if statement evaluates to false. You might use them if you need a piece of code to evaluate if a certain condition isn't met. While loops evaluate the code inside of them as long as the conditions inside their parentheses evaluates to true. You might use them when you need a certain piece of code to execute for some time, until a certain condition is met.\n",
    "\n",
    "(b) Code:\n",
    "\n",
    "You need to implement a method `printGradeStatus` that takes an integer `score` as input and prints \"Pass\" if the score is greater than or equal to 60, and \"Fail\" otherwise. Write the method signature and the method implementation. Include comments to explain your code."
   ]
  },
  {
   "cell_type": "code",
   "execution_count": 18,
   "metadata": {},
   "outputs": [
    {
     "name": "stdout",
     "output_type": "stream",
     "text": [
      "Ready\n",
      "Pass!\n",
      "Fail!\n"
     ]
    }
   ],
   "source": [
    "public class passFail {\n",
    "    public passFail() {//initializer\n",
    "        System.out.println(\"Ready\");\n",
    "    }\n",
    "    public void printGradeStatus(double score) {//method to determine if student passes or fails\n",
    "        if (score>=60) {//if statement to determine if student passes\n",
    "            System.out.println(\"Pass!\");\n",
    "        } else {//else statement in case student fails\n",
    "            System.out.println(\"Fail!\");\n",
    "        }\n",
    "    }\n",
    "}\n",
    "public class Q5 {\n",
    "    public static void main(String[] args) {\n",
    "        double score1 = 75.3;\n",
    "        double score2 = 59.9;\n",
    "        passFail passer = new passFail();//new object\n",
    "        passer.printGradeStatus(score1);\n",
    "        passer.printGradeStatus(score2);\n",
    "    }\n",
    "}\n",
    "Q5.main(null);"
   ]
  }
 ],
 "metadata": {
  "kernelspec": {
   "display_name": "Java",
   "language": "java",
   "name": "java"
  },
  "language_info": {
   "codemirror_mode": "java",
   "file_extension": ".jshell",
   "mimetype": "text/x-java-source",
   "name": "java",
   "pygments_lexer": "java",
   "version": "21.0.2+13-LTS"
  }
 },
 "nbformat": 4,
 "nbformat_minor": 2
}
