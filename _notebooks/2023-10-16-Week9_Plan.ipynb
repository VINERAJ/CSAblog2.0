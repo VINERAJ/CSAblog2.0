{
 "cells": [
  {
   "cell_type": "markdown",
   "metadata": {},
   "source": [
    "---\n",
    "toc: True\n",
    "comments: True\n",
    "layout: post\n",
    "title: Week 9 Goals\n",
    "description: My goals for week 9\n",
    "courses: {'compsci': {'week': 9}}\n",
    "type: plans\n",
    "---"
   ]
  },
  {
   "cell_type": "markdown",
   "metadata": {},
   "source": [
    "## Goals\n",
    "* Work on passion project\n",
    "    - Get ChatGPT working\n",
    "* Lessons\n",
    "* Individual project if time"
   ]
  },
  {
   "cell_type": "markdown",
   "metadata": {},
   "source": [
    "## Links\n",
    "* [Backend](https://github.com/BobTheFarmer/VACTQ-Backend)\n",
    "* [Frontend](https://github.com/BobTheFarmer/VACTQ-Typing-Game)\n",
    "* [U5 Hacks](https://github.com/BobTheFarmer/VACTQ-Lesson/issues/7)\n",
    "* [U6 Hacks](https://github.com/BobTheFarmer/VACTQ-Lesson/issues/8)"
   ]
  }
 ],
 "metadata": {
  "language_info": {
   "name": "python"
  }
 },
 "nbformat": 4,
 "nbformat_minor": 2
}
