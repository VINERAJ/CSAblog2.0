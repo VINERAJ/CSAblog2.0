{
 "cells": [
  {
   "cell_type": "code",
   "execution_count": 4,
   "metadata": {},
   "outputs": [
    {
     "ename": "CompilationException",
     "evalue": "",
     "output_type": "error",
     "traceback": [
      "\u001b[1m\u001b[30m|   \u001b[1m\u001b[30m        if(\u001b[0m\u001b[1m\u001b[30m\u001b[41mmyFile.createNewFile()\u001b[0m\u001b[1m\u001b[30m) {\u001b[0m",
      "\u001b[1m\u001b[31munreported exception java.io.IOException; must be caught or declared to be thrown\u001b[0m",
      ""
     ]
    }
   ],
   "source": [
    "import java.io.File;\n",
    "import java.io.IOException;\n",
    "public class readFile {\n",
    "   \n",
    "    \n",
    "    public void createFile() {\n",
    "        File myFile = new File(\"/Linux/home/vinay/vscode/CSAblog\");\n",
    "        if(myFile.createNewFile()) {\n",
    "            System.out.println(\"It worked! File created\");\n",
    "        }\n",
    "    }\n",
    "}"
   ]
  }
 ],
 "metadata": {
  "kernelspec": {
   "display_name": "Java",
   "language": "java",
   "name": "java"
  },
  "language_info": {
   "codemirror_mode": "java",
   "file_extension": ".jshell",
   "mimetype": "text/x-java-source",
   "name": "java",
   "pygments_lexer": "java",
   "version": "11.0.20+8-post-Ubuntu-1ubuntu122.04"
  }
 },
 "nbformat": 4,
 "nbformat_minor": 2
}
