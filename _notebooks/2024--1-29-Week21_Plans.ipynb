{
 "cells": [
  {
   "cell_type": "markdown",
   "metadata": {},
   "source": [
    "---\n",
    "toc: True\n",
    "comments: True\n",
    "layout: post\n",
    "title: Week 21 Goals\n",
    "description: My goals for week 21\n",
    "courses: {'compsci': {'week': 21}}\n",
    "type: plans\n",
    "---"
   ]
  },
  {
   "cell_type": "markdown",
   "metadata": {},
   "source": [
    "## Goals\n",
    "* Work on two-trimester project\n",
    "* Get login/signup and binary working"
   ]
  },
  {
   "cell_type": "markdown",
   "metadata": {},
   "source": [
    "## Links\n",
    "* [Frontend](https://github.com/SortingMiniProject/BinaryWizards)\n",
    "* [Backend](https://github.com/SparkWizards/sparkwizbackend)"
   ]
  }
 ],
 "metadata": {
  "language_info": {
   "name": "python"
  }
 },
 "nbformat": 4,
 "nbformat_minor": 2
}
