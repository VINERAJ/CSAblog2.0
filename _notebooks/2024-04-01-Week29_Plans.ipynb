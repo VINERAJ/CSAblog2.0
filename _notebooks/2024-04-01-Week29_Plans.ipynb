{
 "cells": [
  {
   "cell_type": "markdown",
   "metadata": {},
   "source": [
    "---\n",
    "toc: True\n",
    "comments: True\n",
    "layout: post\n",
    "title: Week 29 Plans\n",
    "description: Plans for week 29\n",
    "courses: {'compsci': {'week': 29}}\n",
    "type: plans\n",
    "---"
   ]
  },
  {
   "cell_type": "markdown",
   "metadata": {},
   "source": [
    "## Goals\n",
    "* Algorythmic!\n",
    "* Finish review\n",
    "\n",
    "## Links\n",
    "* [algo review](https://vineraj.github.io/CSAblog2.0//2024/04/29/Algorithmic_Review_IPYNB_2_.html)"
   ]
  }
 ],
 "metadata": {
  "language_info": {
   "name": "python"
  }
 },
 "nbformat": 4,
 "nbformat_minor": 2
}
