{
 "cells": [
  {
   "cell_type": "markdown",
   "metadata": {},
   "source": [
    "---\n",
    "toc: True\n",
    "comments: True\n",
    "layout: post\n",
    "title: Week 26 Goals\n",
    "description: My goals for week 26\n",
    "courses: {'compsci': {'week': 26}}\n",
    "type: plans\n",
    "---"
   ]
  },
  {
   "cell_type": "markdown",
   "metadata": {},
   "source": [
    "## Goals\n",
    "* Do seed\n",
    "* Prepare for WW if needed\n",
    "* Work on PBL Week 1 Goals"
   ]
  },
  {
   "cell_type": "markdown",
   "metadata": {},
   "source": [
    "## Links\n",
    "* [link to project](https://github.com/Tri3Project)\n",
    "* [Link to project plan](https://github.com/orgs/Tri3Project/projects/3)"
   ]
  }
 ],
 "metadata": {
  "language_info": {
   "name": "python"
  }
 },
 "nbformat": 4,
 "nbformat_minor": 2
}
