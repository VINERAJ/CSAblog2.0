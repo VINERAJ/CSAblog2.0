{
 "cells": [
  {
   "cell_type": "markdown",
   "metadata": {},
   "source": [
    "---\n",
    "toc: True\n",
    "comments: True\n",
    "layout: post\n",
    "title: Week 26 Goals\n",
    "description: My goals for week 26\n",
    "courses: {'compsci': {'week': 26}}\n",
    "type: plans\n",
    "---"
   ]
  },
  {
   "cell_type": "markdown",
   "metadata": {},
   "source": [
    "## Goals\n",
    "* Do seed\n",
    "* Prepare for WW if needed\n",
    "* Work on PBL Week 1 Goals"
   ]
  },
  {
   "cell_type": "markdown",
   "metadata": {},
   "source": [
    "## Links\n",
    "* [link to project](https://github.com/Del-Norte-Farmers-Iowa-Hawkeyes-Fanclub)\n",
    "* [Link to project plan](https://github.com/orgs/Del-Norte-Farmers-Iowa-Hawkeyes-Fanclub/projects/3)"
   ]
  },
  {
   "cell_type": "markdown",
   "metadata": {},
   "source": [
    "## Issues\n",
    "* Week 1: [Issue](https://github.com/orgs/Del-Norte-Farmers-Iowa-Hawkeyes-Fanclub/projects/3/views/1?pane=issue&itemId=55784830)"
   ]
  }
 ],
 "metadata": {
  "language_info": {
   "name": "python"
  }
 },
 "nbformat": 4,
 "nbformat_minor": 2
}
