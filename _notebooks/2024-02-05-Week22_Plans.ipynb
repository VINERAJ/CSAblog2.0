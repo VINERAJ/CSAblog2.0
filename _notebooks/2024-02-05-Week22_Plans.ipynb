{
 "cells": [
  {
   "cell_type": "markdown",
   "metadata": {},
   "source": [
    "---\n",
    "toc: True\n",
    "comments: True\n",
    "layout: post\n",
    "title: Week 22 Goals\n",
    "description: My goals for week 22\n",
    "courses: {'compsci': {'week': 22}}\n",
    "type: plans\n",
    "---"
   ]
  },
  {
   "cell_type": "markdown",
   "metadata": {},
   "source": [
    "## Goals\n",
    "* Work on two-trimester project\n",
    "* Get login/signup and binary working\n",
    "* Work on other backend features"
   ]
  },
  {
   "cell_type": "markdown",
   "metadata": {},
   "source": [
    "## Links\n",
    "* [Frontend](https://github.com/SortingMiniProject/BinaryWizards)\n",
    "* [Backend](https://github.com/SparkWizards/sparkwizbackend)"
   ]
  }
 ],
 "metadata": {
  "language_info": {
   "name": "python"
  }
 },
 "nbformat": 4,
 "nbformat_minor": 2
}
