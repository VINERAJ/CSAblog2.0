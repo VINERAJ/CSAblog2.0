{
 "cells": [
  {
   "cell_type": "markdown",
   "metadata": {},
   "source": [
    "---\n",
    "toc: true\n",
    "comments: true\n",
    "layout: post\n",
    "title: Week 14 Goals\n",
    "description: My goals for week 14\n",
    "courses: { compsci: {week: 14} }\n",
    "type: plans\n",
    "---"
   ]
  },
  {
   "cell_type": "markdown",
   "metadata": {},
   "source": [
    "## Goals\n",
    "* Work on sorting project\n",
    "* Work on lesson\n",
    "\n",
    "## Links\n",
    "* [frontend](https://github.com/SortingMiniProject/frontend)\n",
    "* [backend](https://github.com/SortingMiniProject/SpotifyBackend)"
   ]
  }
 ],
 "metadata": {
  "language_info": {
   "name": "python"
  }
 },
 "nbformat": 4,
 "nbformat_minor": 2
}
