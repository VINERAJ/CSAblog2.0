{
 "cells": [
  {
   "cell_type": "markdown",
   "metadata": {},
   "source": [
    "---\n",
    "toc: true\n",
    "comments: true\n",
    "layout: post\n",
    "title: FRQ 1b\n",
    "description: Solving an FRQ\n",
    "courses: { compsci: {week: 4} }\n",
    "type: tangibles\n",
    "---"
   ]
  },
  {
   "cell_type": "code",
   "execution_count": 1,
   "metadata": {
    "vscode": {
     "languageId": "java"
    }
   },
   "outputs": [],
   "source": [
    "public class WordMatch {\n",
    "    private String secret;\n",
    "\n",
    "    public WordMatch(String word) {\n",
    "        secret = word;\n",
    "    }\n",
    "    public int scoreGuess(String guess) {\n",
    "        int guessLength = guess.length(); //Will be used to calculate score later\n",
    "\n",
    "        //Count occurrences of substring\n",
    "        int count = 0;\n",
    "        for (int i = 0; i < secret.length() - guessLength + 1; i++) {\n",
    "            if (secret.substring(i, i + guessLength).equals(guess)) {\n",
    "                count++;\n",
    "            }\n",
    "        }\n",
    "\n",
    "        return count * guessLength * guessLength; //Calculate and return score\n",
    "    }\n",
    "    public String findBetterGuess(WordMatch game, String guess1, String guess2) {\n",
    "        String returner = \"\";\n",
    "        int score1 = game.scoreGuess(guess1);  //calculate scores of the two guesses\n",
    "        int score2 = game.scoreGuess(guess2);\n",
    "        if (score1>score2) {    //compare the scores\n",
    "            returner = guess1;\n",
    "        }\n",
    "        else if (score2>score1) {\n",
    "            returner = guess2;\n",
    "        }\n",
    "        else if (score1==score2) {   // if the scores are the same, output the alphabetically higher guess\n",
    "            for (int i=0; i<guess1.length(); i++) {\n",
    "                char char1 = guess1.charAt(i);\n",
    "                char char2 = guess2.charAt(i);\n",
    "                if (char1==char2) {\n",
    "                    continue;\n",
    "                }\n",
    "                else if (char1>char2) {\n",
    "                    returner = guess1;\n",
    "                }\n",
    "                else if (char1<char2) {\n",
    "                    returner = guess2;\n",
    "                }\n",
    "            }\n",
    "            }\n",
    "        return returner;\n",
    "    }\n",
    "}\n"
   ]
  },
  {
   "cell_type": "markdown",
   "metadata": {},
   "source": []
  },
  {
   "cell_type": "code",
   "execution_count": null,
   "metadata": {
    "vscode": {
     "languageId": "java"
    }
   },
   "outputs": [],
   "source": [
    "WordMatch wordmatch = new WordMatch();\n",
    "system.out.println(wordmatch.)"
   ]
  }
 ],
 "metadata": {
  "kernelspec": {
   "display_name": "Java",
   "language": "java",
   "name": "java"
  },
  "language_info": {
   "codemirror_mode": "java",
   "file_extension": ".jshell",
   "mimetype": "text/x-java-source",
   "name": "Java",
   "pygments_lexer": "java",
   "version": "11.0.20+8-post-Ubuntu-1ubuntu122.04"
  }
 },
 "nbformat": 4,
 "nbformat_minor": 2
}
