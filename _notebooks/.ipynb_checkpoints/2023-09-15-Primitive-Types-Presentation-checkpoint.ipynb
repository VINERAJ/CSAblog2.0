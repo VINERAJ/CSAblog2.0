{
 "cells": [
  {
   "cell_type": "markdown",
   "metadata": {},
   "source": [
    "---\n",
    "toc: true\n",
    "comments: true\n",
    "layout: post\n",
    "title: Primitive Types\n",
    "description: Teaching Primitve Types\n",
    "courses: { compsci: {week: 5} }\n",
    "type: tangibles\n",
    "---"
   ]
  },
  {
   "cell_type": "code",
   "execution_count": 1,
   "metadata": {
    "vscode": {
     "languageId": "java"
    }
   },
   "outputs": [
    {
     "ename": "CompilationException",
     "evalue": "",
     "output_type": "error",
     "traceback": [
      "\u001b[1m\u001b[30m|   \u001b[1m\u001b[30m    boolean\u001b[0m\u001b[1m\u001b[30m\u001b[41m\u001b[0m\u001b[1m\u001b[30m boolean = true;\u001b[0m",
      "\u001b[1m\u001b[31m<identifier> expected\u001b[0m",
      "",
      "\u001b[1m\u001b[30m|   \u001b[1m\u001b[30m    boolean boolean\u001b[0m\u001b[1m\u001b[30m\u001b[41m\u001b[0m\u001b[1m\u001b[30m = true;\u001b[0m",
      "\u001b[1m\u001b[31m<identifier> expected\u001b[0m",
      "",
      "\u001b[1m\u001b[30m|   \u001b[1m\u001b[30m    double\u001b[0m\u001b[1m\u001b[30m\u001b[41m\u001b[0m\u001b[1m\u001b[30m double = 3.2;\u001b[0m",
      "\u001b[1m\u001b[31m<identifier> expected\u001b[0m",
      "",
      "\u001b[1m\u001b[30m|   \u001b[1m\u001b[30m    double double\u001b[0m\u001b[1m\u001b[30m\u001b[41m\u001b[0m\u001b[1m\u001b[30m = 3.2;\u001b[0m",
      "\u001b[1m\u001b[31m<identifier> expected\u001b[0m",
      ""
     ]
    }
   ],
   "source": [
    "//Primitive Data Types\n",
    "public class PrimitiveDataTypes {\n",
    "    int integer = 0;\n",
    "    boolean boolean = true;\n",
    "    char character = 'a';\n",
    "    double double = 3.2;\n",
    "}"
   ]
  },
  {
   "cell_type": "code",
   "execution_count": 5,
   "metadata": {
    "vscode": {
     "languageId": "java"
    }
   },
   "outputs": [],
   "source": [
    "//Wrapper Classes\n",
    "public class Wrappers {\n",
    "    Integer ageWrapper = 17;\n",
    "    int age = Integer.parseInt(\"17\");\n",
    "    String gpaString = \"3.9\";\n",
    "    double gpaDouble = Double.parseDouble(gpaString);\n",
    "}\n",
    "\n",
    "public static void main(String[] args) {\n",
    "    System.out.println(ageWrapper);\n",
    "    System.out.println(age);\n",
    "    System.out.println(gpaDouble);\n",
    "}"
   ]
  },
  {
   "cell_type": "code",
   "execution_count": 6,
   "metadata": {
    "vscode": {
     "languageId": "java"
    }
   },
   "outputs": [
    {
     "ename": "CompilationException",
     "evalue": "",
     "output_type": "error",
     "traceback": [
      "\u001b[1m\u001b[30m|   \u001b[1m\u001b[30m        ARRAY_lIST,\u001b[0m\u001b[1m\u001b[30m\u001b[41m\u001b[0m\u001b[1m\u001b[30m\u001b[0m",
      "\u001b[1m\u001b[31m<identifier> expected\u001b[0m",
      "",
      "\u001b[1m\u001b[30m|   \u001b[1m\u001b[30m        \u001b[0m\u001b[1m\u001b[30m\u001b[41m\u001b[0m\u001b[1m\u001b[30m2D_ARRAY,\u001b[0m",
      "\u001b[1m\u001b[31m',', '}', or ';' expected\u001b[0m",
      "",
      "\u001b[1m\u001b[30m|   \u001b[1m\u001b[30m        2D\u001b[0m\u001b[1m\u001b[30m\u001b[41m\u001b[0m\u001b[1m\u001b[30m_ARRAY,\u001b[0m",
      "\u001b[1m\u001b[31m'}' expected\u001b[0m",
      "",
      "\u001b[1m\u001b[30m|   \u001b[1m\u001b[30m        2D_ARRAY\u001b[0m\u001b[1m\u001b[30m\u001b[41m\u001b[0m\u001b[1m\u001b[30m,\u001b[0m",
      "\u001b[1m\u001b[31m<identifier> expected\u001b[0m",
      ""
     ]
    }
   ],
   "source": [
    "//Enums\n",
    "public class Enums {\n",
    "    enum Unit {\n",
    "        PRIMITVE_DATA_TYPES,\n",
    "        CLASSES,\n",
    "        BOOLEAN,\n",
    "        ITERATION,\n",
    "        WRITING_CLASSES,\n",
    "        ARRAY,\n",
    "        ARRAY_lIST,\n",
    "        2D_ARRAY,\n",
    "        INHERITANCE,\n",
    "        RECURSION;\n",
    "    }\n",
    "    Unit u3 = Unit.BOOLEAN;\n",
    "    system.out.println(u3)\n",
    "    \n",
    "}"
   ]
  },
  {
   "cell_type": "code",
   "execution_count": null,
   "metadata": {},
   "outputs": [],
   "source": []
  }
 ],
 "metadata": {
  "kernelspec": {
   "display_name": "Java",
   "language": "java",
   "name": "java"
  },
  "language_info": {
   "codemirror_mode": "java",
   "file_extension": ".jshell",
   "mimetype": "text/x-java-source",
   "name": "Java",
   "pygments_lexer": "java",
   "version": "11.0.20+8-post-Ubuntu-1ubuntu122.04"
  }
 },
 "nbformat": 4,
 "nbformat_minor": 2
}
