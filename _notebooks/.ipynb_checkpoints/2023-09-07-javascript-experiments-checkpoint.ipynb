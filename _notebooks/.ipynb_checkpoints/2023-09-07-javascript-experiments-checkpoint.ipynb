{
 "cells": [
  {
   "cell_type": "markdown",
   "metadata": {},
   "source": [
    "---\n",
    "toc: true\n",
    "comments: true\n",
    "layout: post\n",
    "title: JavaScript Experiments\n",
    "description: Learning javascript output\n",
    "courses: { compsci: {week: 4} }\n",
    "type: tangibles\n",
    "---"
   ]
  },
  {
   "cell_type": "code",
   "execution_count": 2,
   "metadata": {
    "vscode": {
     "languageId": "javascript"
    }
   },
   "outputs": [
    {
     "ename": "SyntaxError",
     "evalue": "invalid syntax (987951082.py, line 1)",
     "output_type": "error",
     "traceback": [
      "\u001b[0;36m  Cell \u001b[0;32mIn[2], line 1\u001b[0;36m\u001b[0m\n\u001b[0;31m    document.addEventListener(\"DOMContentLoaded\", function () {\u001b[0m\n\u001b[0m                                                              ^\u001b[0m\n\u001b[0;31mSyntaxError\u001b[0m\u001b[0;31m:\u001b[0m invalid syntax\n"
     ]
    }
   ],
   "source": [
    "document.addEventListener(\"DOMContentLoaded\", function () {\n",
    "    $(document).ready(function () {\n",
    "        let people = [\n",
    "            { name: \"Vinay\", age: \"17\", grade: \"12\" },\n",
    "        // Add more objects if needed\n",
    "        ];\n",
    "\n",
    "        function generateTable(table, data) {\n",
    "            let thead = table.createTHead();\n",
    "            let row = thead.insertRow();\n",
    "            for (let key of data) {\n",
    "                let th = document.createElement(\"th\");\n",
    "                let text = document.createTextNode(key);\n",
    "                th.appendChild(text);\n",
    "                row.appendChild(th);\n",
    "            }\n",
    "        }\n",
    "\n",
    "        let table = document.querySelector(\"table\");\n",
    "        let data = Object.keys(people[0]);\n",
    "        generateTable(table, data);\n",
    "    });\n",
    "});"
   ]
  },
  {
   "cell_type": "code",
   "execution_count": null,
   "metadata": {},
   "outputs": [],
   "source": []
  }
 ],
 "metadata": {
  "kernelspec": {
   "display_name": "Python 3 (ipykernel)",
   "language": "python",
   "name": "python3"
  },
  "language_info": {
   "codemirror_mode": {
    "name": "ipython",
    "version": 3
   },
   "file_extension": ".py",
   "mimetype": "text/x-python",
   "name": "python",
   "nbconvert_exporter": "python",
   "pygments_lexer": "ipython3",
   "version": "3.10.9"
  }
 },
 "nbformat": 4,
 "nbformat_minor": 2
}
