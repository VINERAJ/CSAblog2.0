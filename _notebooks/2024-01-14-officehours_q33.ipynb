{
 "cells": [
  {
   "cell_type": "markdown",
   "metadata": {},
   "source": [
    "---\n",
    "toc: true\n",
    "comments: true\n",
    "layout: post\n",
    "title: Q33 Lesson\n",
    "description: My goals for week 17\n",
    "authors: Vinay Rajagopalan\n",
    "courses: { compsci: {week: 19} }\n",
    "type: hacks\n",
    "---"
   ]
  },
  {
   "cell_type": "markdown",
   "metadata": {},
   "source": [
    "## Problem 33\n",
    "![problem.png](/CSAblog2.0/images/problem \"problem\")"
   ]
  },
  {
   "cell_type": "code",
   "execution_count": 15,
   "metadata": {},
   "outputs": [],
   "source": [
    "public class Q33 {\n",
    "    public int methodI(int[] arr) {\n",
    "        int max = Integer.MIN_VALUE;\n",
    "        for (int value:arr) {\n",
    "            if (max<value) {\n",
    "                max = value;\n",
    "            }\n",
    "        }\n",
    "        return max;\n",
    "    }\n",
    "\n",
    "    public int methodII(int[] arr) {\n",
    "        int max = 0;\n",
    "        boolean first = true;\n",
    "        for (int value: arr) {\n",
    "            if (first) {\n",
    "                max = value;\n",
    "                first = false;\n",
    "            }\n",
    "            else if(max < value) {\n",
    "                max = value;\n",
    "            }\n",
    "        }\n",
    "        return max;\n",
    "    }\n",
    "\n",
    "    public int methodIII(int[] arr) {\n",
    "        int max = arr[0];\n",
    "        for (int k = 1; k<arr.length; k++) {\n",
    "            if (max<arr[k]) {\n",
    "                max = arr[k];\n",
    "            }\n",
    "        }\n",
    "        return max;\n",
    "    }\n",
    "}"
   ]
  },
  {
   "cell_type": "code",
   "execution_count": 16,
   "metadata": {},
   "outputs": [
    {
     "name": "stdout",
     "output_type": "stream",
     "text": [
      "32\n",
      "32\n",
      "32\n"
     ]
    }
   ],
   "source": [
    "public static void main(String[] args) {\n",
    "    Q33 problem = new Q33();\n",
    "    int[] arr = {1, 5, 4, 7, 18, 3, 23, 32};\n",
    "    System.out.println(problem.methodI(arr));\n",
    "    System.out.println(problem.methodII(arr));\n",
    "    System.out.println(problem.methodIII(arr));\n",
    "}\n",
    "main(null);"
   ]
  },
  {
   "cell_type": "markdown",
   "metadata": {},
   "source": [
    "## Answer\n",
    "The correct answer is **E**, **Methods I, II, III**\n",
    "![answer.png](/CSAblog2.0/image/answer.png \"answer\")"
   ]
  },
  {
   "cell_type": "markdown",
   "metadata": {},
   "source": [
    "## Popcorn Hacks\n",
    "Look at each of the 3 methods below. Which ones will successfully calculate the max value? Why do the other methods not work?"
   ]
  },
  {
   "cell_type": "code",
   "execution_count": null,
   "metadata": {},
   "outputs": [],
   "source": [
    "public class Q33Hacks {\n",
    "    public int methodI(int[] arr) {\n",
    "        int max = Integer.MAX_VALUE;\n",
    "        for (int value:arr) {\n",
    "            if (max<value) {\n",
    "                max = value;\n",
    "            }\n",
    "        }\n",
    "        return max;\n",
    "    }\n",
    "\n",
    "    public int methodII(int[] arr) {\n",
    "        int max = 0;\n",
    "        for (int value: arr) {\n",
    "            if (max < value) {\n",
    "                max = value;\n",
    "            }\n",
    "        }\n",
    "        return max;\n",
    "    }\n",
    "\n",
    "    public int methodIII(int[] arr) {\n",
    "        int max = arr[0];\n",
    "        for (int k = 1; k>arr.length; k++) {\n",
    "            if (max<arr[k]) {\n",
    "                max = arr[k];\n",
    "            }\n",
    "        }\n",
    "        return max;\n",
    "    }\n",
    "}"
   ]
  }
 ],
 "metadata": {
  "kernelspec": {
   "display_name": "Java",
   "language": "java",
   "name": "java"
  },
  "language_info": {
   "codemirror_mode": "java",
   "file_extension": ".jshell",
   "mimetype": "text/x-java-source",
   "name": "java",
   "pygments_lexer": "java",
   "version": "11.0.21+9-post-Ubuntu-0ubuntu122.04"
  }
 },
 "nbformat": 4,
 "nbformat_minor": 2
}
